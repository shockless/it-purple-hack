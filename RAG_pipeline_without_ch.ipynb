{
 "cells": [
  {
   "cell_type": "markdown",
   "id": "483dfb66-1dae-47ad-9576-3e955082e55f",
   "metadata": {
    "tags": []
   },
   "source": [
    "## RAG pipeline \n",
    "Команда Утики MISIS"
   ]
  },
  {
   "cell_type": "code",
   "execution_count": 1,
   "id": "d6b62680-fd7a-47a0-a5f4-0f7a42c11368",
   "metadata": {
    "tags": []
   },
   "outputs": [
    {
     "name": "stderr",
     "output_type": "stream",
     "text": [
      "[nltk_data] Downloading package punkt to /home/jovyan/nltk_data...\n",
      "[nltk_data]   Package punkt is already up-to-date!\n"
     ]
    },
    {
     "data": {
      "text/plain": [
       "True"
      ]
     },
     "execution_count": 1,
     "metadata": {},
     "output_type": "execute_result"
    }
   ],
   "source": [
    "import torch\n",
    "import numpy as np\n",
    "import pandas as pd\n",
    "import re\n",
    "import torch\n",
    "import nltk\n",
    "import joblib\n",
    "import pandas as pd\n",
    "from IPython.display import display, Markdown\n",
    "\n",
    "from transformers import AutoTokenizer, T5ForConditionalGeneration\n",
    "from transformers import AutoModelForSeq2SeqLM, T5TokenizerFast\n",
    "from transformers import AutoModelForSequenceClassification\n",
    "from transformers import set_seed\n",
    "from sentence_transformers import SentenceTransformer\n",
    "\n",
    "from sklearn.neighbors import NearestNeighbors\n",
    "\n",
    "from utils.utils import Chunker, Generator\n",
    "from utils.spell_checker import SpellChecker\n",
    "from utils.llm_config import GenerationConfig\n",
    "from utils.toxicity_classifier import ToxicityClassifier\n",
    "\n",
    "device = torch.device(\"cuda\" if torch.cuda.is_available() else \"cpu\")\n",
    "\n",
    "set_seed(42)\n",
    "\n",
    "nltk.download('punkt')\n",
    "torch.cuda.is_available()"
   ]
  },
  {
   "cell_type": "markdown",
   "id": "86896991-d45c-48b2-bf3f-58d5f4abd6fe",
   "metadata": {
    "tags": []
   },
   "source": [
    "### Загружаем модель ретривера и модель генератора"
   ]
  },
  {
   "cell_type": "code",
   "execution_count": 2,
   "id": "c9323b92-8a61-4b4d-96d2-aa429636364f",
   "metadata": {
    "tags": []
   },
   "outputs": [
    {
     "name": "stderr",
     "output_type": "stream",
     "text": [
      "Special tokens have been added in the vocabulary, make sure the associated word embeddings are fine-tuned or trained.\n"
     ]
    },
    {
     "data": {
      "application/vnd.jupyter.widget-view+json": {
       "model_id": "d0e337d067f840f7a0ef6971c05b3a3d",
       "version_major": 2,
       "version_minor": 0
      },
      "text/plain": [
       "Loading checkpoint shards:   0%|          | 0/2 [00:00<?, ?it/s]"
      ]
     },
     "metadata": {},
     "output_type": "display_data"
    }
   ],
   "source": [
    "retriever_model = SentenceTransformer(\"BAAI/bge-m3\", device='cuda')\n",
    "retriever_model.max_seq_length = 512\n",
    "\n",
    "generator_model_name = 'hivaze/AAQG-QA-QG-FRED-T5-1.7B'\n",
    "generator_tokenizer = AutoTokenizer.from_pretrained(generator_model_name)\n",
    "generator_model = T5ForConditionalGeneration.from_pretrained(generator_model_name).cuda().eval()"
   ]
  },
  {
   "cell_type": "markdown",
   "id": "073f197f-d4c9-401c-8ec8-0a7ec706ab6f",
   "metadata": {
    "tags": []
   },
   "source": [
    "### Загружаем данные, тут формат работы в ноутбуке, этот пункт будет заменен на обращение к ClickHouse"
   ]
  },
  {
   "cell_type": "code",
   "execution_count": 3,
   "id": "dab60fd4-0a65-4bf9-bc35-ee336500ce14",
   "metadata": {
    "tags": []
   },
   "outputs": [],
   "source": [
    "texts = pd.read_csv('data/documents.csv', header=None, names=['url', 'text'])\n",
    "texts = texts.dropna()\n",
    "texts['text'] = texts['text'].apply(lambda x: re.sub(' +', ' ', x))\n",
    "texts['text'] = texts['text'].apply(lambda x: re.sub('\\n+', '\\n', x))\n",
    "texts.url = texts.url.apply(lambda x: x if  x[-1] == '/' else x+'/')\n",
    "texts.text = texts.text.apply(lambda x: x.replace(x[x.find('<!--'): x.rfind('-->')+3], '').replace('Complex', '').strip('\\n '))\n",
    "texts = texts.set_index('url')"
   ]
  },
  {
   "cell_type": "markdown",
   "id": "98e3e361-d97c-4363-ab9f-46b417f4953a",
   "metadata": {},
   "source": [
    "#### Инициализируем функцию, которая будет бить наши документы на чанки. Инициализируем генератор."
   ]
  },
  {
   "cell_type": "code",
   "execution_count": 4,
   "id": "e7e687e2-43a3-4738-8e72-5166337d73ce",
   "metadata": {
    "tags": []
   },
   "outputs": [],
   "source": [
    "chunker = Chunker(max_chunk_len=2500, overlap_len=500)\n",
    "generator = Generator(generator_tokenizer, generator_model, config=GenerationConfig)"
   ]
  },
  {
   "cell_type": "code",
   "execution_count": 5,
   "id": "9083bac2-c2d2-4f63-88e3-ae060c8da457",
   "metadata": {
    "tags": []
   },
   "outputs": [
    {
     "data": {
      "text/plain": [
       "35091"
      ]
     },
     "execution_count": 5,
     "metadata": {},
     "output_type": "execute_result"
    }
   ],
   "source": [
    "chunks, urls = chunker.split_texts(texts)\n",
    "chunks, urls = np.array(chunks), np.array(urls)\n",
    "\n",
    "len(chunks)"
   ]
  },
  {
   "cell_type": "markdown",
   "id": "87dcbeee-b58b-41a2-9665-22db5107b88e",
   "metadata": {},
   "source": [
    "#### Либо грузим готовые эмбединги, либо делаем их сами"
   ]
  },
  {
   "cell_type": "code",
   "execution_count": 6,
   "id": "39433596-3bb1-4eb0-8040-add81dc9207e",
   "metadata": {
    "tags": []
   },
   "outputs": [
    {
     "data": {
      "text/plain": [
       "(35230, 1024)"
      ]
     },
     "execution_count": 6,
     "metadata": {},
     "output_type": "execute_result"
    }
   ],
   "source": [
    "# embeddings = model.encode(chunks, batch_size=32, normalize_embeddings=True, show_progress_bar=True)\n",
    "# joblib.dump(embeddings, 'bge-m3-new-clear.pkl')\n",
    "\n",
    "embeddings = joblib.load('bge-m3-new-clear.pkl')\n",
    "embeddings.shape"
   ]
  },
  {
   "cell_type": "markdown",
   "id": "37500b86-ab55-4e73-87be-55b6d1ba561b",
   "metadata": {},
   "source": [
    "#### Инициализируем KNN "
   ]
  },
  {
   "cell_type": "code",
   "execution_count": 7,
   "id": "e2209786-5b00-4ef3-b2e4-c76cf944a07f",
   "metadata": {
    "tags": []
   },
   "outputs": [
    {
     "data": {
      "text/html": [
       "<style>#sk-container-id-1 {\n",
       "  /* Definition of color scheme common for light and dark mode */\n",
       "  --sklearn-color-text: black;\n",
       "  --sklearn-color-line: gray;\n",
       "  /* Definition of color scheme for unfitted estimators */\n",
       "  --sklearn-color-unfitted-level-0: #fff5e6;\n",
       "  --sklearn-color-unfitted-level-1: #f6e4d2;\n",
       "  --sklearn-color-unfitted-level-2: #ffe0b3;\n",
       "  --sklearn-color-unfitted-level-3: chocolate;\n",
       "  /* Definition of color scheme for fitted estimators */\n",
       "  --sklearn-color-fitted-level-0: #f0f8ff;\n",
       "  --sklearn-color-fitted-level-1: #d4ebff;\n",
       "  --sklearn-color-fitted-level-2: #b3dbfd;\n",
       "  --sklearn-color-fitted-level-3: cornflowerblue;\n",
       "\n",
       "  /* Specific color for light theme */\n",
       "  --sklearn-color-text-on-default-background: var(--sg-text-color, var(--theme-code-foreground, var(--jp-content-font-color1, black)));\n",
       "  --sklearn-color-background: var(--sg-background-color, var(--theme-background, var(--jp-layout-color0, white)));\n",
       "  --sklearn-color-border-box: var(--sg-text-color, var(--theme-code-foreground, var(--jp-content-font-color1, black)));\n",
       "  --sklearn-color-icon: #696969;\n",
       "\n",
       "  @media (prefers-color-scheme: dark) {\n",
       "    /* Redefinition of color scheme for dark theme */\n",
       "    --sklearn-color-text-on-default-background: var(--sg-text-color, var(--theme-code-foreground, var(--jp-content-font-color1, white)));\n",
       "    --sklearn-color-background: var(--sg-background-color, var(--theme-background, var(--jp-layout-color0, #111)));\n",
       "    --sklearn-color-border-box: var(--sg-text-color, var(--theme-code-foreground, var(--jp-content-font-color1, white)));\n",
       "    --sklearn-color-icon: #878787;\n",
       "  }\n",
       "}\n",
       "\n",
       "#sk-container-id-1 {\n",
       "  color: var(--sklearn-color-text);\n",
       "}\n",
       "\n",
       "#sk-container-id-1 pre {\n",
       "  padding: 0;\n",
       "}\n",
       "\n",
       "#sk-container-id-1 input.sk-hidden--visually {\n",
       "  border: 0;\n",
       "  clip: rect(1px 1px 1px 1px);\n",
       "  clip: rect(1px, 1px, 1px, 1px);\n",
       "  height: 1px;\n",
       "  margin: -1px;\n",
       "  overflow: hidden;\n",
       "  padding: 0;\n",
       "  position: absolute;\n",
       "  width: 1px;\n",
       "}\n",
       "\n",
       "#sk-container-id-1 div.sk-dashed-wrapped {\n",
       "  border: 1px dashed var(--sklearn-color-line);\n",
       "  margin: 0 0.4em 0.5em 0.4em;\n",
       "  box-sizing: border-box;\n",
       "  padding-bottom: 0.4em;\n",
       "  background-color: var(--sklearn-color-background);\n",
       "}\n",
       "\n",
       "#sk-container-id-1 div.sk-container {\n",
       "  /* jupyter's `normalize.less` sets `[hidden] { display: none; }`\n",
       "     but bootstrap.min.css set `[hidden] { display: none !important; }`\n",
       "     so we also need the `!important` here to be able to override the\n",
       "     default hidden behavior on the sphinx rendered scikit-learn.org.\n",
       "     See: https://github.com/scikit-learn/scikit-learn/issues/21755 */\n",
       "  display: inline-block !important;\n",
       "  position: relative;\n",
       "}\n",
       "\n",
       "#sk-container-id-1 div.sk-text-repr-fallback {\n",
       "  display: none;\n",
       "}\n",
       "\n",
       "div.sk-parallel-item,\n",
       "div.sk-serial,\n",
       "div.sk-item {\n",
       "  /* draw centered vertical line to link estimators */\n",
       "  background-image: linear-gradient(var(--sklearn-color-text-on-default-background), var(--sklearn-color-text-on-default-background));\n",
       "  background-size: 2px 100%;\n",
       "  background-repeat: no-repeat;\n",
       "  background-position: center center;\n",
       "}\n",
       "\n",
       "/* Parallel-specific style estimator block */\n",
       "\n",
       "#sk-container-id-1 div.sk-parallel-item::after {\n",
       "  content: \"\";\n",
       "  width: 100%;\n",
       "  border-bottom: 2px solid var(--sklearn-color-text-on-default-background);\n",
       "  flex-grow: 1;\n",
       "}\n",
       "\n",
       "#sk-container-id-1 div.sk-parallel {\n",
       "  display: flex;\n",
       "  align-items: stretch;\n",
       "  justify-content: center;\n",
       "  background-color: var(--sklearn-color-background);\n",
       "  position: relative;\n",
       "}\n",
       "\n",
       "#sk-container-id-1 div.sk-parallel-item {\n",
       "  display: flex;\n",
       "  flex-direction: column;\n",
       "}\n",
       "\n",
       "#sk-container-id-1 div.sk-parallel-item:first-child::after {\n",
       "  align-self: flex-end;\n",
       "  width: 50%;\n",
       "}\n",
       "\n",
       "#sk-container-id-1 div.sk-parallel-item:last-child::after {\n",
       "  align-self: flex-start;\n",
       "  width: 50%;\n",
       "}\n",
       "\n",
       "#sk-container-id-1 div.sk-parallel-item:only-child::after {\n",
       "  width: 0;\n",
       "}\n",
       "\n",
       "/* Serial-specific style estimator block */\n",
       "\n",
       "#sk-container-id-1 div.sk-serial {\n",
       "  display: flex;\n",
       "  flex-direction: column;\n",
       "  align-items: center;\n",
       "  background-color: var(--sklearn-color-background);\n",
       "  padding-right: 1em;\n",
       "  padding-left: 1em;\n",
       "}\n",
       "\n",
       "\n",
       "/* Toggleable style: style used for estimator/Pipeline/ColumnTransformer box that is\n",
       "clickable and can be expanded/collapsed.\n",
       "- Pipeline and ColumnTransformer use this feature and define the default style\n",
       "- Estimators will overwrite some part of the style using the `sk-estimator` class\n",
       "*/\n",
       "\n",
       "/* Pipeline and ColumnTransformer style (default) */\n",
       "\n",
       "#sk-container-id-1 div.sk-toggleable {\n",
       "  /* Default theme specific background. It is overwritten whether we have a\n",
       "  specific estimator or a Pipeline/ColumnTransformer */\n",
       "  background-color: var(--sklearn-color-background);\n",
       "}\n",
       "\n",
       "/* Toggleable label */\n",
       "#sk-container-id-1 label.sk-toggleable__label {\n",
       "  cursor: pointer;\n",
       "  display: block;\n",
       "  width: 100%;\n",
       "  margin-bottom: 0;\n",
       "  padding: 0.5em;\n",
       "  box-sizing: border-box;\n",
       "  text-align: center;\n",
       "}\n",
       "\n",
       "#sk-container-id-1 label.sk-toggleable__label-arrow:before {\n",
       "  /* Arrow on the left of the label */\n",
       "  content: \"▸\";\n",
       "  float: left;\n",
       "  margin-right: 0.25em;\n",
       "  color: var(--sklearn-color-icon);\n",
       "}\n",
       "\n",
       "#sk-container-id-1 label.sk-toggleable__label-arrow:hover:before {\n",
       "  color: var(--sklearn-color-text);\n",
       "}\n",
       "\n",
       "/* Toggleable content - dropdown */\n",
       "\n",
       "#sk-container-id-1 div.sk-toggleable__content {\n",
       "  max-height: 0;\n",
       "  max-width: 0;\n",
       "  overflow: hidden;\n",
       "  text-align: left;\n",
       "  /* unfitted */\n",
       "  background-color: var(--sklearn-color-unfitted-level-0);\n",
       "}\n",
       "\n",
       "#sk-container-id-1 div.sk-toggleable__content.fitted {\n",
       "  /* fitted */\n",
       "  background-color: var(--sklearn-color-fitted-level-0);\n",
       "}\n",
       "\n",
       "#sk-container-id-1 div.sk-toggleable__content pre {\n",
       "  margin: 0.2em;\n",
       "  border-radius: 0.25em;\n",
       "  color: var(--sklearn-color-text);\n",
       "  /* unfitted */\n",
       "  background-color: var(--sklearn-color-unfitted-level-0);\n",
       "}\n",
       "\n",
       "#sk-container-id-1 div.sk-toggleable__content.fitted pre {\n",
       "  /* unfitted */\n",
       "  background-color: var(--sklearn-color-fitted-level-0);\n",
       "}\n",
       "\n",
       "#sk-container-id-1 input.sk-toggleable__control:checked~div.sk-toggleable__content {\n",
       "  /* Expand drop-down */\n",
       "  max-height: 200px;\n",
       "  max-width: 100%;\n",
       "  overflow: auto;\n",
       "}\n",
       "\n",
       "#sk-container-id-1 input.sk-toggleable__control:checked~label.sk-toggleable__label-arrow:before {\n",
       "  content: \"▾\";\n",
       "}\n",
       "\n",
       "/* Pipeline/ColumnTransformer-specific style */\n",
       "\n",
       "#sk-container-id-1 div.sk-label input.sk-toggleable__control:checked~label.sk-toggleable__label {\n",
       "  color: var(--sklearn-color-text);\n",
       "  background-color: var(--sklearn-color-unfitted-level-2);\n",
       "}\n",
       "\n",
       "#sk-container-id-1 div.sk-label.fitted input.sk-toggleable__control:checked~label.sk-toggleable__label {\n",
       "  background-color: var(--sklearn-color-fitted-level-2);\n",
       "}\n",
       "\n",
       "/* Estimator-specific style */\n",
       "\n",
       "/* Colorize estimator box */\n",
       "#sk-container-id-1 div.sk-estimator input.sk-toggleable__control:checked~label.sk-toggleable__label {\n",
       "  /* unfitted */\n",
       "  background-color: var(--sklearn-color-unfitted-level-2);\n",
       "}\n",
       "\n",
       "#sk-container-id-1 div.sk-estimator.fitted input.sk-toggleable__control:checked~label.sk-toggleable__label {\n",
       "  /* fitted */\n",
       "  background-color: var(--sklearn-color-fitted-level-2);\n",
       "}\n",
       "\n",
       "#sk-container-id-1 div.sk-label label.sk-toggleable__label,\n",
       "#sk-container-id-1 div.sk-label label {\n",
       "  /* The background is the default theme color */\n",
       "  color: var(--sklearn-color-text-on-default-background);\n",
       "}\n",
       "\n",
       "/* On hover, darken the color of the background */\n",
       "#sk-container-id-1 div.sk-label:hover label.sk-toggleable__label {\n",
       "  color: var(--sklearn-color-text);\n",
       "  background-color: var(--sklearn-color-unfitted-level-2);\n",
       "}\n",
       "\n",
       "/* Label box, darken color on hover, fitted */\n",
       "#sk-container-id-1 div.sk-label.fitted:hover label.sk-toggleable__label.fitted {\n",
       "  color: var(--sklearn-color-text);\n",
       "  background-color: var(--sklearn-color-fitted-level-2);\n",
       "}\n",
       "\n",
       "/* Estimator label */\n",
       "\n",
       "#sk-container-id-1 div.sk-label label {\n",
       "  font-family: monospace;\n",
       "  font-weight: bold;\n",
       "  display: inline-block;\n",
       "  line-height: 1.2em;\n",
       "}\n",
       "\n",
       "#sk-container-id-1 div.sk-label-container {\n",
       "  text-align: center;\n",
       "}\n",
       "\n",
       "/* Estimator-specific */\n",
       "#sk-container-id-1 div.sk-estimator {\n",
       "  font-family: monospace;\n",
       "  border: 1px dotted var(--sklearn-color-border-box);\n",
       "  border-radius: 0.25em;\n",
       "  box-sizing: border-box;\n",
       "  margin-bottom: 0.5em;\n",
       "  /* unfitted */\n",
       "  background-color: var(--sklearn-color-unfitted-level-0);\n",
       "}\n",
       "\n",
       "#sk-container-id-1 div.sk-estimator.fitted {\n",
       "  /* fitted */\n",
       "  background-color: var(--sklearn-color-fitted-level-0);\n",
       "}\n",
       "\n",
       "/* on hover */\n",
       "#sk-container-id-1 div.sk-estimator:hover {\n",
       "  /* unfitted */\n",
       "  background-color: var(--sklearn-color-unfitted-level-2);\n",
       "}\n",
       "\n",
       "#sk-container-id-1 div.sk-estimator.fitted:hover {\n",
       "  /* fitted */\n",
       "  background-color: var(--sklearn-color-fitted-level-2);\n",
       "}\n",
       "\n",
       "/* Specification for estimator info (e.g. \"i\" and \"?\") */\n",
       "\n",
       "/* Common style for \"i\" and \"?\" */\n",
       "\n",
       ".sk-estimator-doc-link,\n",
       "a:link.sk-estimator-doc-link,\n",
       "a:visited.sk-estimator-doc-link {\n",
       "  float: right;\n",
       "  font-size: smaller;\n",
       "  line-height: 1em;\n",
       "  font-family: monospace;\n",
       "  background-color: var(--sklearn-color-background);\n",
       "  border-radius: 1em;\n",
       "  height: 1em;\n",
       "  width: 1em;\n",
       "  text-decoration: none !important;\n",
       "  margin-left: 1ex;\n",
       "  /* unfitted */\n",
       "  border: var(--sklearn-color-unfitted-level-1) 1pt solid;\n",
       "  color: var(--sklearn-color-unfitted-level-1);\n",
       "}\n",
       "\n",
       ".sk-estimator-doc-link.fitted,\n",
       "a:link.sk-estimator-doc-link.fitted,\n",
       "a:visited.sk-estimator-doc-link.fitted {\n",
       "  /* fitted */\n",
       "  border: var(--sklearn-color-fitted-level-1) 1pt solid;\n",
       "  color: var(--sklearn-color-fitted-level-1);\n",
       "}\n",
       "\n",
       "/* On hover */\n",
       "div.sk-estimator:hover .sk-estimator-doc-link:hover,\n",
       ".sk-estimator-doc-link:hover,\n",
       "div.sk-label-container:hover .sk-estimator-doc-link:hover,\n",
       ".sk-estimator-doc-link:hover {\n",
       "  /* unfitted */\n",
       "  background-color: var(--sklearn-color-unfitted-level-3);\n",
       "  color: var(--sklearn-color-background);\n",
       "  text-decoration: none;\n",
       "}\n",
       "\n",
       "div.sk-estimator.fitted:hover .sk-estimator-doc-link.fitted:hover,\n",
       ".sk-estimator-doc-link.fitted:hover,\n",
       "div.sk-label-container:hover .sk-estimator-doc-link.fitted:hover,\n",
       ".sk-estimator-doc-link.fitted:hover {\n",
       "  /* fitted */\n",
       "  background-color: var(--sklearn-color-fitted-level-3);\n",
       "  color: var(--sklearn-color-background);\n",
       "  text-decoration: none;\n",
       "}\n",
       "\n",
       "/* Span, style for the box shown on hovering the info icon */\n",
       ".sk-estimator-doc-link span {\n",
       "  display: none;\n",
       "  z-index: 9999;\n",
       "  position: relative;\n",
       "  font-weight: normal;\n",
       "  right: .2ex;\n",
       "  padding: .5ex;\n",
       "  margin: .5ex;\n",
       "  width: min-content;\n",
       "  min-width: 20ex;\n",
       "  max-width: 50ex;\n",
       "  color: var(--sklearn-color-text);\n",
       "  box-shadow: 2pt 2pt 4pt #999;\n",
       "  /* unfitted */\n",
       "  background: var(--sklearn-color-unfitted-level-0);\n",
       "  border: .5pt solid var(--sklearn-color-unfitted-level-3);\n",
       "}\n",
       "\n",
       ".sk-estimator-doc-link.fitted span {\n",
       "  /* fitted */\n",
       "  background: var(--sklearn-color-fitted-level-0);\n",
       "  border: var(--sklearn-color-fitted-level-3);\n",
       "}\n",
       "\n",
       ".sk-estimator-doc-link:hover span {\n",
       "  display: block;\n",
       "}\n",
       "\n",
       "/* \"?\"-specific style due to the `<a>` HTML tag */\n",
       "\n",
       "#sk-container-id-1 a.estimator_doc_link {\n",
       "  float: right;\n",
       "  font-size: 1rem;\n",
       "  line-height: 1em;\n",
       "  font-family: monospace;\n",
       "  background-color: var(--sklearn-color-background);\n",
       "  border-radius: 1rem;\n",
       "  height: 1rem;\n",
       "  width: 1rem;\n",
       "  text-decoration: none;\n",
       "  /* unfitted */\n",
       "  color: var(--sklearn-color-unfitted-level-1);\n",
       "  border: var(--sklearn-color-unfitted-level-1) 1pt solid;\n",
       "}\n",
       "\n",
       "#sk-container-id-1 a.estimator_doc_link.fitted {\n",
       "  /* fitted */\n",
       "  border: var(--sklearn-color-fitted-level-1) 1pt solid;\n",
       "  color: var(--sklearn-color-fitted-level-1);\n",
       "}\n",
       "\n",
       "/* On hover */\n",
       "#sk-container-id-1 a.estimator_doc_link:hover {\n",
       "  /* unfitted */\n",
       "  background-color: var(--sklearn-color-unfitted-level-3);\n",
       "  color: var(--sklearn-color-background);\n",
       "  text-decoration: none;\n",
       "}\n",
       "\n",
       "#sk-container-id-1 a.estimator_doc_link.fitted:hover {\n",
       "  /* fitted */\n",
       "  background-color: var(--sklearn-color-fitted-level-3);\n",
       "}\n",
       "</style><div id=\"sk-container-id-1\" class=\"sk-top-container\"><div class=\"sk-text-repr-fallback\"><pre>NearestNeighbors(metric=&#x27;cosine&#x27;)</pre><b>In a Jupyter environment, please rerun this cell to show the HTML representation or trust the notebook. <br />On GitHub, the HTML representation is unable to render, please try loading this page with nbviewer.org.</b></div><div class=\"sk-container\" hidden><div class=\"sk-item\"><div class=\"sk-estimator fitted sk-toggleable\"><input class=\"sk-toggleable__control sk-hidden--visually\" id=\"sk-estimator-id-1\" type=\"checkbox\" checked><label for=\"sk-estimator-id-1\" class=\"sk-toggleable__label fitted sk-toggleable__label-arrow fitted\">&nbsp;&nbsp;NearestNeighbors<a class=\"sk-estimator-doc-link fitted\" rel=\"noreferrer\" target=\"_blank\" href=\"https://scikit-learn.org/1.4/modules/generated/sklearn.neighbors.NearestNeighbors.html\">?<span>Documentation for NearestNeighbors</span></a><span class=\"sk-estimator-doc-link fitted\">i<span>Fitted</span></span></label><div class=\"sk-toggleable__content fitted\"><pre>NearestNeighbors(metric=&#x27;cosine&#x27;)</pre></div> </div></div></div></div>"
      ],
      "text/plain": [
       "NearestNeighbors(metric='cosine')"
      ]
     },
     "execution_count": 7,
     "metadata": {},
     "output_type": "execute_result"
    }
   ],
   "source": [
    "knn = NearestNeighbors(metric='cosine')\n",
    "knn.fit(embeddings)"
   ]
  },
  {
   "cell_type": "markdown",
   "id": "86a5fb72-2d24-4962-92f5-2efd6b490d05",
   "metadata": {},
   "source": [
    "### Загружаем бенчмарк вопросы"
   ]
  },
  {
   "cell_type": "code",
   "execution_count": 6,
   "id": "f8b9d108-ab60-426d-8779-6978becc8079",
   "metadata": {
    "tags": []
   },
   "outputs": [],
   "source": [
    "queries = pd.read_csv('data/benchmarks.csv', sep=';')\n",
    "queries.site_id = queries.site_id.apply(lambda x: x if  x[-1] == '/' else x+'/')\n",
    "queries.site_id = queries.site_id.apply(lambda x: x if 'http://pravo.gov.ru' in x else 'https://cbr.ru' + x)"
   ]
  },
  {
   "cell_type": "code",
   "execution_count": 7,
   "id": "0f81e181-668a-4222-aba9-00b97c9246dd",
   "metadata": {
    "tags": []
   },
   "outputs": [
    {
     "data": {
      "text/plain": [
       "'Что такое ВЕБ.РФ?'"
      ]
     },
     "execution_count": 7,
     "metadata": {},
     "output_type": "execute_result"
    }
   ],
   "source": [
    "question = queries.question[6]\n",
    "question"
   ]
  },
  {
   "cell_type": "markdown",
   "id": "d448f413-9f4d-4657-98a1-466d1e6728f8",
   "metadata": {},
   "source": [
    "### Тестируем"
   ]
  },
  {
   "cell_type": "code",
   "execution_count": 10,
   "id": "b503cb0d-f6fe-4149-98ca-b1f4a071f662",
   "metadata": {
    "tags": []
   },
   "outputs": [],
   "source": [
    "def retrieve(question, model, knn, chunks, urls):\n",
    "    skores, neighbors = knn.kneighbors(model.encode(question, batch_size=32, normalize_embeddings=True).reshape(1, -1), 3)\n",
    "    neighbors = neighbors.squeeze()\n",
    "    retrieved_texts = list(chunks[neighbors])\n",
    "    retrieved_urls = list(set(urls[neighbors]))\n",
    "    return retrieved_texts, retrieved_urls"
   ]
  },
  {
   "cell_type": "code",
   "execution_count": 11,
   "id": "3f4b874b-8aea-41de-8568-94ea9ebaab1b",
   "metadata": {
    "tags": []
   },
   "outputs": [],
   "source": [
    "retrieved_texts, retrieved_urls = retrieve(question, retriever_model, knn, chunks, urls)"
   ]
  },
  {
   "cell_type": "code",
   "execution_count": 12,
   "id": "06431a84-1ed8-4232-a078-a28ae17a3a5d",
   "metadata": {
    "tags": []
   },
   "outputs": [
    {
     "data": {
      "text/markdown": [
       "Государственная корпорация развития \"ВЭБ.РФ\".\n",
       "\n",
       "Использованные документы:\n",
       "1) http://pravo.gov.ru/proxy/ips/?docbody=&nd=102114195/ \n"
      ],
      "text/plain": [
       "<IPython.core.display.Markdown object>"
      ]
     },
     "metadata": {},
     "output_type": "display_data"
    }
   ],
   "source": [
    "display(Markdown(generator.get_answer(question, retrieved_texts, retrieved_urls, temperature=0.8)))"
   ]
  },
  {
   "cell_type": "code",
   "execution_count": 14,
   "id": "7f51ed8a-46d5-47e3-8c37-8a1b87f0c6b1",
   "metadata": {
    "tags": []
   },
   "outputs": [
    {
     "name": "stdout",
     "output_type": "stream",
     "text": [
      "1.08 s ± 14.9 ms per loop (mean ± std. dev. of 7 runs, 1 loop each)\n"
     ]
    }
   ],
   "source": [
    "%timeit generator.get_answer(question, retrieved_texts, retrieved_urls, temperature=0.8)"
   ]
  },
  {
   "cell_type": "markdown",
   "id": "eaad0e15-9f58-4242-883e-d23fb5149ecf",
   "metadata": {},
   "source": [
    "## Наши крутые фичи!"
   ]
  },
  {
   "cell_type": "markdown",
   "id": "0dfbfb88-3047-457b-9d9d-9c67dce71fa4",
   "metadata": {},
   "source": [
    "#### HyDE - Hypothetical Document Embeddings\n",
    "Использовать перед подачей в ретривер, но просим ответить все равно на изначальный вопрос"
   ]
  },
  {
   "cell_type": "code",
   "execution_count": 25,
   "id": "5b35fefe-4a8e-4a31-9c98-5a771796647a",
   "metadata": {
    "tags": []
   },
   "outputs": [
    {
     "data": {
      "text/plain": [
       "'Какие полномочия у председателя ВЭБ.РФ?'"
      ]
     },
     "execution_count": 25,
     "metadata": {},
     "output_type": "execute_result"
    }
   ],
   "source": [
    "queries.question[7]"
   ]
  },
  {
   "cell_type": "code",
   "execution_count": 24,
   "id": "79764c1c-6290-4559-91ef-154c41dd4ad8",
   "metadata": {
    "tags": []
   },
   "outputs": [
    {
     "data": {
      "text/plain": [
       "'Полномочия председателя ВЭБ.РФ'"
      ]
     },
     "execution_count": 24,
     "metadata": {},
     "output_type": "execute_result"
    }
   ],
   "source": [
    "generator.hyde(queries.question[7], temperature=1, num_beams=2)"
   ]
  },
  {
   "cell_type": "markdown",
   "id": "5cd8d56b-3b11-4c89-80b0-4e4b12d7b04b",
   "metadata": {},
   "source": [
    "#### Spell Checker\n",
    "Исправляем ошибки введенного текста"
   ]
  },
  {
   "cell_type": "code",
   "execution_count": 26,
   "id": "74e9acb4-2d9b-400f-827a-987884fbc6a9",
   "metadata": {
    "tags": []
   },
   "outputs": [],
   "source": [
    "SPELL_CHECKER_MODEL_NAME = 'UrukHan/t5-russian-spell'\n",
    "\n",
    "spell_checker_tokenizer = T5TokenizerFast.from_pretrained(SPELL_CHECKER_MODEL_NAME)\n",
    "spell_checker_model = AutoModelForSeq2SeqLM.from_pretrained(SPELL_CHECKER_MODEL_NAME).to(device)"
   ]
  },
  {
   "cell_type": "code",
   "execution_count": 27,
   "id": "a256a72d-e4c8-42b8-879a-848754b68603",
   "metadata": {
    "tags": []
   },
   "outputs": [],
   "source": [
    "spell_checker = SpellChecker(spell_checker_tokenizer, spell_checker_model)"
   ]
  },
  {
   "cell_type": "code",
   "execution_count": 28,
   "id": "7e1ffe80-9aa2-4ddd-806d-3013a9fd5f98",
   "metadata": {
    "tags": []
   },
   "outputs": [
    {
     "data": {
      "text/plain": [
       "['А что такое Конституция Российской Федерации?']"
      ]
     },
     "execution_count": 28,
     "metadata": {},
     "output_type": "execute_result"
    }
   ],
   "source": [
    "spell_checker.get_answer('а чт таке конституц росииск федерации')"
   ]
  },
  {
   "cell_type": "markdown",
   "id": "49f1f495-1ec5-4914-bc80-5dcb82e8405e",
   "metadata": {},
   "source": [
    "#### Question Generation\n",
    "Генерируем вопросы для каждого чанка, и в ретривер складываем эмбеддинги этих вопросов для улучшения поиска"
   ]
  },
  {
   "cell_type": "code",
   "execution_count": 15,
   "id": "50b90e2c-6aa6-4aa3-95c7-6c1c35c50c1b",
   "metadata": {
    "tags": []
   },
   "outputs": [
    {
     "data": {
      "text/plain": [
       "'РОССИЙСКАЯ ФЕДЕРАЦИЯ ФЕДЕРАЛЬНЫЙ ЗАКОН О внесении изменений в Федеральный закон \"О противодействии легализации (отмыванию) доходов, полученных преступным путем, и финансированию терроризма\" в целях совершенствования обязательного контроля Принят Государственной Думой 7 июля 2020 годаОдобрен Советом Федерации 8 июля 2020 года Статья 1 Внести в Федеральный закон от 7 августа 2001 года No 115-ФЗ \"О противодействии легализации (отмыванию) доходов, полученных преступным путем, и финансированию терроризма\" (Собрание законодательства Российской Федерации, 2001, No 33, ст. 3418; 2002, No 30, ст. 3029; No 44, ст. 4296; 2004, No 31, ст. 3224; 2006, No 31, ст. 3446, 3452; 2007, No 16, ст. 1831; No 31, ст. 3993, 4011; No 49, ст. 6036; 2009, No 23, ст. 2776; 2010, No 30, ст. 4007; No 31, ст. 4166; 2011, No 27, ст. 3873; No 46, ст. 6406; 2012, No 30, ст. 4172; 2013, No 26, ст. 3207; No 44, ст. 5641; No 52, ст. 6968; 2014, No 19, ст. 2315, 2335; No 23, ст. 2934; No 30, ст. 4214, 4219; 2015, No 1, ст. 37, 58; No 18, ст. 2614; No 24, ст. 3367; No 27, ст. 3945, 3950, 4001; 2016, No 1, ст. 11, 27, 43, 44; No 26, ст. 3860; No 27, ст. 4196; No 28, ст. 4558; 2017, No 31, ст. 4816, 4830; 2018, No 1, ст. 54, 66; No 18, ст. 2560, 2576; No 53, ст. 8491; 2019, No 12, ст. 1222, 1223; No 27, ст. 3534, 3538; No 30, ст. 4152; No 31, ст. 4418, 4430; No 49, ст. 6953; No 51, ст. 7490; No 52, ст. 7798; 2020, No 9, ст. 1138; No 15, ст. 2239) следующие изменения:1) в статье 6:а) в пункте 1:в подпункте 1:в абзаце втором слова \"в случаях, если это не обусловлено характером его хозяйственной деятельности\" исключить;абзац шестой признать утратившим силу;в подпункте 3:абзац четвертый признать утратившим силу;абзац пятый изложить в следующей редакции:\"зачисление денежных средств на счет (вклад) или списание денежных средств со счета (вклада) юридического лица или иностранной структуры без образования юридического лица, период деятельности которых не превышает трех месяцев со дня их регистрации (инкорпорации), либо зачисление денежных средств на счет (вклад) или списание денежных средств со счета (вклада) юридического лица или иностранной структуры без образования юридического лица в случае, если операции по указанному счету (вкладу) не производились с момента его открытия;\";в подпункте 4:в абзаце первом слово \"сделки\" заменить словом \"операции\";абзац третий изложить в следующей редакции:\"выплата физическому или юридическому лицу страхового возмещения или получение от физического или юридического лица страховой премии по видам страхования, указанным в подпунктах 1 - 3 пункта 1 статьи 329 Закона Российской Федерации от 27 ноября 1992 года No 4015-I \"Об организации страхового дела в Российской Федерации\";\";в абзаце четвертом слова \"получение или\" исключить;абзац пятый признать утратившим силу;абзац седьмой изложить в следующей редакции:\"получение денежных средств, которые служат условием участия физического лица в азартной игре;\";дополнить новым абзацем восьмым и абзацем девятым следующего содержания:\"передача или выплата физическому лицу выигрыша при наступлении результата азартной игры;выплата, передача или предоставление физическому лицу выигрыша от участия в лотерее;\";абзац восьмой считать абзацем десятым;б) пункт 11 изложить в следующей редакции:\"11.'"
      ]
     },
     "execution_count": 15,
     "metadata": {},
     "output_type": "execute_result"
    }
   ],
   "source": [
    "chunks[0]"
   ]
  },
  {
   "cell_type": "code",
   "execution_count": 17,
   "id": "981a412a-d3d3-4c16-816a-c0a352da66f6",
   "metadata": {
    "tags": []
   },
   "outputs": [
    {
     "data": {
      "text/plain": [
       "'Что не подлежит обязательному контролю в соответствии с Федеральным законом от 7 августа 2001 года No 115-ФЗ \"О противодействии легализации (отмыванию) доходов, полученных преступным путем, и финансированию терроризма\"?'"
      ]
     },
     "execution_count": 17,
     "metadata": {},
     "output_type": "execute_result"
    }
   ],
   "source": [
    "generator.generate_question(chunks[0], temperature=1, num_beams=2)"
   ]
  },
  {
   "cell_type": "markdown",
   "id": "7cc04e6b-504c-4eb0-b512-e24cb777a992",
   "metadata": {},
   "source": [
    "#### Toxicity detection\n",
    "Проверяет введенный вопрос на токсичность\n"
   ]
  },
  {
   "cell_type": "code",
   "execution_count": 30,
   "id": "af4b0115-46be-486b-a192-136e10cf0aa2",
   "metadata": {
    "tags": []
   },
   "outputs": [],
   "source": [
    "TOXICITY_DETECTION_MODEL_NAME = 'cointegrated/rubert-tiny-toxicity'\n",
    "toxicity_detection_tokenizer = AutoTokenizer.from_pretrained(TOXICITY_DETECTION_MODEL_NAME)\n",
    "toxicity_detection_model = AutoModelForSequenceClassification.from_pretrained(TOXICITY_DETECTION_MODEL_NAME).to(device)"
   ]
  },
  {
   "cell_type": "code",
   "execution_count": 31,
   "id": "908509cc-b188-4345-b3d4-023fe134f39f",
   "metadata": {
    "tags": []
   },
   "outputs": [],
   "source": [
    "toxicity_detection_model = ToxicityClassifier(toxicity_detection_tokenizer,\n",
    "                                              toxicity_detection_model)"
   ]
  },
  {
   "cell_type": "code",
   "execution_count": 38,
   "id": "cd0c3664-eb45-4b01-9793-ca4cd6fd599f",
   "metadata": {
    "tags": []
   },
   "outputs": [
    {
     "data": {
      "text/plain": [
       "('not toxic', 'toxic')"
      ]
     },
     "execution_count": 38,
     "metadata": {},
     "output_type": "execute_result"
    }
   ],
   "source": [
    "normal_question = 'Что такое ВЕБ.РФ?'\n",
    "toxic_question = 'Что за дичь такое ВЕБ.РФ'\n",
    "toxicity_detection_model.is_toxic(normal_question), toxicity_detection_model.is_toxic(toxic_question)"
   ]
  }
 ],
 "metadata": {
  "kernelspec": {
   "display_name": "Python 3 (ipykernel)",
   "language": "python",
   "name": "python3"
  },
  "language_info": {
   "codemirror_mode": {
    "name": "ipython",
    "version": 3
   },
   "file_extension": ".py",
   "mimetype": "text/x-python",
   "name": "python",
   "nbconvert_exporter": "python",
   "pygments_lexer": "ipython3",
   "version": "3.11.6"
  }
 },
 "nbformat": 4,
 "nbformat_minor": 5
}
