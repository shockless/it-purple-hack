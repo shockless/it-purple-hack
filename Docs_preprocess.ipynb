{
 "cells": [
  {
   "cell_type": "code",
   "execution_count": null,
   "id": "2991290c-3837-44ff-a56a-6a2d4f7ee2d0",
   "metadata": {},
   "outputs": [],
   "source": [
    "import clickhouse_connect\n",
    "\n",
    "from FlagEmbedding import BGEM3FlagModel\n",
    "from sentence_transformers import SentenceTransformer\n",
    "\n",
    "from utils.utils import Chunker"
   ]
  },
  {
   "cell_type": "code",
   "execution_count": null,
   "id": "2a682ce7-46f3-4fab-b460-8736681f7ff1",
   "metadata": {},
   "outputs": [],
   "source": [
    "client = clickhouse_connect.get_client(host='192.168.1.1', port=1234, username='-', password='-', database='db')"
   ]
  },
  {
   "cell_type": "code",
   "execution_count": null,
   "id": "e7b87700-2f61-42b6-ad94-c4e89b2cc06d",
   "metadata": {},
   "outputs": [],
   "source": [
    "bge_retriever_model = BGEM3FlagModel('BAAI/bge-m3', use_fp16=True, pooling_method=\"cls\")\n",
    "e5_retriever_model = SentenceTransformer(\"intfloat/multilingual-e5-large\", device='cuda')\n",
    "e5_retriever_model.max_seq_length = 512"
   ]
  },
  {
   "cell_type": "code",
   "execution_count": null,
   "id": "ce5d8e77-2454-45dc-bda4-3f862e379e18",
   "metadata": {},
   "outputs": [],
   "source": [
    "chunker = Chunker(max_chunk_len=2500, overlap_len=500)\n",
    "\n",
    "\n",
    "texts = client.query_df('select * from document').set_index('url')\n",
    "chunks, urls = chunker.split_texts(texts)\n",
    "client.insert(table='chunk', data=[chunks, urls], column_names=['text', 'url'], column_oriented=True)"
   ]
  },
  {
   "cell_type": "code",
   "execution_count": null,
   "id": "79e518f0-2dd6-4ff9-9677-a84b7853b81b",
   "metadata": {},
   "outputs": [],
   "source": [
    "chunks_df = client.query_df('select * from chunk').set_index('uuid')\n",
    "chunks_df.head()"
   ]
  },
  {
   "cell_type": "code",
   "execution_count": null,
   "id": "23682f0a-27ea-47ab-825b-a8584084fd80",
   "metadata": {},
   "outputs": [],
   "source": [
    "bge_embeddings = bge_retriever_model.encode(chunks_df.text.tolist(), return_dense=True, return_sparse=False, return_colbert_vecs=False, batch_size=16, max_length=512)\n",
    "e5_embeddings = e5_retriever_model.encode(chunks_df.text.tolist(), batch_size=16, normalize_embeddings=True, show_progress_bar=True)\n",
    "client.insert(table='chunk_embedding',\n",
    "              data=[chunks_df.index.tolist(), \n",
    "                    bge_embeddings['dense_vecs'].tolist(), \n",
    "                    e5_embeddings.tolist()],\n",
    "              column_names=['chunk_uuid', \n",
    "                            'bge_m3_embedding', \n",
    "                            'e5_embedding'], \n",
    "              column_oriented=True)"
   ]
  },
  {
   "cell_type": "code",
   "execution_count": null,
   "id": "752f3c46-3812-4728-a4a1-7a0ed42ff7e8",
   "metadata": {},
   "outputs": [],
   "source": [
    "client.query_df('select * from chunk_embedding').head()"
   ]
  }
 ],
 "metadata": {
  "kernelspec": {
   "display_name": "DataSphere Kernel",
   "language": "python",
   "name": "python3"
  },
  "language_info": {
   "codemirror_mode": {
    "name": "ipython",
    "version": 3
   },
   "file_extension": ".py",
   "mimetype": "text/x-python",
   "name": "python",
   "nbconvert_exporter": "python",
   "pygments_lexer": "ipython3",
   "version": "3.7.7"
  }
 },
 "nbformat": 4,
 "nbformat_minor": 5
}
