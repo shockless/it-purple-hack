{
 "cells": [
  {
   "cell_type": "code",
   "execution_count": 105,
   "id": "d6b62680-fd7a-47a0-a5f4-0f7a42c11368",
   "metadata": {
    "execution": {
     "iopub.execute_input": "2024-03-12T17:49:16.193823Z",
     "iopub.status.busy": "2024-03-12T17:49:16.192864Z",
     "iopub.status.idle": "2024-03-12T17:49:16.210471Z",
     "shell.execute_reply": "2024-03-12T17:49:16.209389Z",
     "shell.execute_reply.started": "2024-03-12T17:49:16.193787Z"
    },
    "tags": []
   },
   "outputs": [
    {
     "name": "stderr",
     "output_type": "stream",
     "text": [
      "[nltk_data] Downloading package punkt to /home/jupyter/nltk_data...\n",
      "[nltk_data]   Package punkt is already up-to-date!\n"
     ]
    },
    {
     "data": {
      "text/plain": [
       "True"
      ]
     },
     "execution_count": 105,
     "metadata": {},
     "output_type": "execute_result"
    }
   ],
   "source": [
    "import torch\n",
    "import pandas as pd\n",
    "import re\n",
    "import sklearn\n",
    "from sklearn.neighbors import NearestNeighbors\n",
    "\n",
    "from utils.splitters import Chunker\n",
    "\n",
    "import nltk\n",
    "nltk.download('punkt')\n",
    "torch.cuda.is_available()"
   ]
  },
  {
   "cell_type": "code",
   "execution_count": 107,
   "id": "c9323b92-8a61-4b4d-96d2-aa429636364f",
   "metadata": {
    "execution": {
     "iopub.execute_input": "2024-03-12T17:49:21.184960Z",
     "iopub.status.busy": "2024-03-12T17:49:21.184184Z",
     "iopub.status.idle": "2024-03-12T17:49:24.440495Z",
     "shell.execute_reply": "2024-03-12T17:49:24.439393Z",
     "shell.execute_reply.started": "2024-03-12T17:49:21.184928Z"
    },
    "tags": []
   },
   "outputs": [],
   "source": [
    "from sentence_transformers import SentenceTransformer\n",
    "\n",
    "model = SentenceTransformer(\"BAAI/bge-m3\", device='cuda')\n",
    "model.max_seq_length = 512"
   ]
  },
  {
   "cell_type": "code",
   "execution_count": 254,
   "id": "dab60fd4-0a65-4bf9-bc35-ee336500ce14",
   "metadata": {
    "execution": {
     "iopub.execute_input": "2024-03-12T19:27:36.721660Z",
     "iopub.status.busy": "2024-03-12T19:27:36.720768Z",
     "iopub.status.idle": "2024-03-12T19:27:44.594622Z",
     "shell.execute_reply": "2024-03-12T19:27:44.593545Z",
     "shell.execute_reply.started": "2024-03-12T19:27:36.721620Z"
    },
    "tags": []
   },
   "outputs": [],
   "source": [
    "texts = pd.read_csv('documents (1).csv', header=None, names=['url','text'])\n",
    "texts = texts.dropna()\n",
    "texts['text'] = texts['text'].apply(lambda x: re.sub(' +', ' ', x))\n",
    "texts['text'] = texts['text'].apply(lambda x: re.sub('\\n+', '\\n', x))\n",
    "texts.url = texts.url.apply(lambda x: x if  x[-1] == '/' else x+'/')\n",
    "texts.text.apply(lambda x: x.replace(x[x.find('<!--'): x.rfind('-->')+3], '').replace('Complex', '').strip('\\n '))\n",
    "texts = texts.set_index('url')"
   ]
  },
  {
   "cell_type": "code",
   "execution_count": 255,
   "id": "f8b9d108-ab60-426d-8779-6978becc8079",
   "metadata": {
    "execution": {
     "iopub.execute_input": "2024-03-12T19:27:44.597347Z",
     "iopub.status.busy": "2024-03-12T19:27:44.596500Z",
     "iopub.status.idle": "2024-03-12T19:27:44.618107Z",
     "shell.execute_reply": "2024-03-12T19:27:44.616901Z",
     "shell.execute_reply.started": "2024-03-12T19:27:44.597298Z"
    },
    "tags": []
   },
   "outputs": [],
   "source": [
    "queries = pd.read_csv('Book1 (1).csv', sep=';')\n",
    "queries.site_id = queries.site_id.apply(lambda x: x if  x[-1] == '/' else x+'/')\n",
    "queries.site_id = queries.site_id.apply(lambda x: x if 'http://pravo.gov.ru' in x else 'https://cbr.ru' + x)"
   ]
  },
  {
   "cell_type": "code",
   "execution_count": 256,
   "id": "e7e687e2-43a3-4738-8e72-5166337d73ce",
   "metadata": {
    "execution": {
     "iopub.execute_input": "2024-03-12T19:27:44.620981Z",
     "iopub.status.busy": "2024-03-12T19:27:44.620404Z",
     "iopub.status.idle": "2024-03-12T19:27:44.636004Z",
     "shell.execute_reply": "2024-03-12T19:27:44.634775Z",
     "shell.execute_reply.started": "2024-03-12T19:27:44.620948Z"
    },
    "tags": []
   },
   "outputs": [],
   "source": [
    "chunker = Chunker(max_chunk_len=2500, overlap_len=500)"
   ]
  },
  {
   "cell_type": "code",
   "execution_count": 257,
   "id": "9083bac2-c2d2-4f63-88e3-ae060c8da457",
   "metadata": {
    "execution": {
     "iopub.execute_input": "2024-03-12T19:27:44.638284Z",
     "iopub.status.busy": "2024-03-12T19:27:44.637645Z",
     "iopub.status.idle": "2024-03-12T19:27:56.721668Z",
     "shell.execute_reply": "2024-03-12T19:27:56.720582Z",
     "shell.execute_reply.started": "2024-03-12T19:27:44.638231Z"
    },
    "tags": []
   },
   "outputs": [],
   "source": [
    "chunks, urls = chunker.split_texts(texts)"
   ]
  },
  {
   "cell_type": "code",
   "execution_count": 258,
   "id": "e8647a72-331b-4594-b134-6c3488c3b13e",
   "metadata": {
    "execution": {
     "iopub.execute_input": "2024-03-12T19:27:56.724519Z",
     "iopub.status.busy": "2024-03-12T19:27:56.723700Z",
     "iopub.status.idle": "2024-03-12T19:27:56.748165Z",
     "shell.execute_reply": "2024-03-12T19:27:56.746942Z",
     "shell.execute_reply.started": "2024-03-12T19:27:56.724479Z"
    },
    "tags": []
   },
   "outputs": [
    {
     "data": {
      "text/plain": [
       "35230"
      ]
     },
     "execution_count": 258,
     "metadata": {},
     "output_type": "execute_result"
    }
   ],
   "source": [
    "len(chunks)"
   ]
  },
  {
   "cell_type": "code",
   "execution_count": 259,
   "id": "cea10251-8b71-41ec-9471-73918d9feaef",
   "metadata": {
    "execution": {
     "iopub.execute_input": "2024-03-12T19:27:56.750397Z",
     "iopub.status.busy": "2024-03-12T19:27:56.749818Z",
     "iopub.status.idle": "2024-03-12T19:46:23.384460Z",
     "shell.execute_reply": "2024-03-12T19:46:23.381219Z",
     "shell.execute_reply.started": "2024-03-12T19:27:56.750364Z"
    },
    "tags": []
   },
   "outputs": [
    {
     "data": {
      "application/vnd.jupyter.widget-view+json": {
       "model_id": "e1d4cb72cc314a5fa2f74c894417f89f",
       "version_major": 2,
       "version_minor": 0
      },
      "text/plain": [
       "Batches:   0%|          | 0/1101 [00:00<?, ?it/s]"
      ]
     },
     "metadata": {},
     "output_type": "display_data"
    }
   ],
   "source": [
    "embeddings = model.encode(chunks, batch_size=32, normalize_embeddings=True, show_progress_bar=True)"
   ]
  },
  {
   "cell_type": "code",
   "execution_count": 260,
   "id": "c04e3d19-934d-4cf8-bab9-50f3f1e0e370",
   "metadata": {
    "execution": {
     "iopub.execute_input": "2024-03-12T19:46:23.387741Z",
     "iopub.status.busy": "2024-03-12T19:46:23.386972Z",
     "iopub.status.idle": "2024-03-12T19:46:23.402117Z",
     "shell.execute_reply": "2024-03-12T19:46:23.401088Z",
     "shell.execute_reply.started": "2024-03-12T19:46:23.387709Z"
    },
    "tags": []
   },
   "outputs": [],
   "source": [
    "import joblib"
   ]
  },
  {
   "cell_type": "code",
   "execution_count": 261,
   "id": "57541ce5-755c-473e-a447-dad73e3b21e9",
   "metadata": {
    "execution": {
     "iopub.execute_input": "2024-03-12T19:46:23.404121Z",
     "iopub.status.busy": "2024-03-12T19:46:23.403684Z",
     "iopub.status.idle": "2024-03-12T19:46:24.367267Z",
     "shell.execute_reply": "2024-03-12T19:46:24.366132Z",
     "shell.execute_reply.started": "2024-03-12T19:46:23.404092Z"
    },
    "tags": []
   },
   "outputs": [
    {
     "data": {
      "text/plain": [
       "['bge-m3-new-clear.pkl']"
      ]
     },
     "execution_count": 261,
     "metadata": {},
     "output_type": "execute_result"
    }
   ],
   "source": [
    "joblib.dump(embeddings, 'bge-m3-new-clear.pkl')"
   ]
  },
  {
   "cell_type": "code",
   "execution_count": 262,
   "id": "96d8a698-8e32-4029-ab2d-9bed19506777",
   "metadata": {
    "execution": {
     "iopub.execute_input": "2024-03-12T19:46:24.369003Z",
     "iopub.status.busy": "2024-03-12T19:46:24.368494Z",
     "iopub.status.idle": "2024-03-12T19:46:24.388752Z",
     "shell.execute_reply": "2024-03-12T19:46:24.387686Z",
     "shell.execute_reply.started": "2024-03-12T19:46:24.368970Z"
    },
    "tags": []
   },
   "outputs": [
    {
     "data": {
      "text/plain": [
       "(35230, 1024)"
      ]
     },
     "execution_count": 262,
     "metadata": {},
     "output_type": "execute_result"
    }
   ],
   "source": [
    "embeddings.shape"
   ]
  },
  {
   "cell_type": "code",
   "execution_count": 263,
   "id": "e2209786-5b00-4ef3-b2e4-c76cf944a07f",
   "metadata": {
    "execution": {
     "iopub.execute_input": "2024-03-12T19:46:24.391478Z",
     "iopub.status.busy": "2024-03-12T19:46:24.390925Z",
     "iopub.status.idle": "2024-03-12T19:46:24.430735Z",
     "shell.execute_reply": "2024-03-12T19:46:24.429688Z",
     "shell.execute_reply.started": "2024-03-12T19:46:24.391439Z"
    },
    "tags": []
   },
   "outputs": [
    {
     "data": {
      "text/html": [
       "<style>#sk-container-id-16 {color: black;background-color: white;}#sk-container-id-16 pre{padding: 0;}#sk-container-id-16 div.sk-toggleable {background-color: white;}#sk-container-id-16 label.sk-toggleable__label {cursor: pointer;display: block;width: 100%;margin-bottom: 0;padding: 0.3em;box-sizing: border-box;text-align: center;}#sk-container-id-16 label.sk-toggleable__label-arrow:before {content: \"▸\";float: left;margin-right: 0.25em;color: #696969;}#sk-container-id-16 label.sk-toggleable__label-arrow:hover:before {color: black;}#sk-container-id-16 div.sk-estimator:hover label.sk-toggleable__label-arrow:before {color: black;}#sk-container-id-16 div.sk-toggleable__content {max-height: 0;max-width: 0;overflow: hidden;text-align: left;background-color: #f0f8ff;}#sk-container-id-16 div.sk-toggleable__content pre {margin: 0.2em;color: black;border-radius: 0.25em;background-color: #f0f8ff;}#sk-container-id-16 input.sk-toggleable__control:checked~div.sk-toggleable__content {max-height: 200px;max-width: 100%;overflow: auto;}#sk-container-id-16 input.sk-toggleable__control:checked~label.sk-toggleable__label-arrow:before {content: \"▾\";}#sk-container-id-16 div.sk-estimator input.sk-toggleable__control:checked~label.sk-toggleable__label {background-color: #d4ebff;}#sk-container-id-16 div.sk-label input.sk-toggleable__control:checked~label.sk-toggleable__label {background-color: #d4ebff;}#sk-container-id-16 input.sk-hidden--visually {border: 0;clip: rect(1px 1px 1px 1px);clip: rect(1px, 1px, 1px, 1px);height: 1px;margin: -1px;overflow: hidden;padding: 0;position: absolute;width: 1px;}#sk-container-id-16 div.sk-estimator {font-family: monospace;background-color: #f0f8ff;border: 1px dotted black;border-radius: 0.25em;box-sizing: border-box;margin-bottom: 0.5em;}#sk-container-id-16 div.sk-estimator:hover {background-color: #d4ebff;}#sk-container-id-16 div.sk-parallel-item::after {content: \"\";width: 100%;border-bottom: 1px solid gray;flex-grow: 1;}#sk-container-id-16 div.sk-label:hover label.sk-toggleable__label {background-color: #d4ebff;}#sk-container-id-16 div.sk-serial::before {content: \"\";position: absolute;border-left: 1px solid gray;box-sizing: border-box;top: 0;bottom: 0;left: 50%;z-index: 0;}#sk-container-id-16 div.sk-serial {display: flex;flex-direction: column;align-items: center;background-color: white;padding-right: 0.2em;padding-left: 0.2em;position: relative;}#sk-container-id-16 div.sk-item {position: relative;z-index: 1;}#sk-container-id-16 div.sk-parallel {display: flex;align-items: stretch;justify-content: center;background-color: white;position: relative;}#sk-container-id-16 div.sk-item::before, #sk-container-id-16 div.sk-parallel-item::before {content: \"\";position: absolute;border-left: 1px solid gray;box-sizing: border-box;top: 0;bottom: 0;left: 50%;z-index: -1;}#sk-container-id-16 div.sk-parallel-item {display: flex;flex-direction: column;z-index: 1;position: relative;background-color: white;}#sk-container-id-16 div.sk-parallel-item:first-child::after {align-self: flex-end;width: 50%;}#sk-container-id-16 div.sk-parallel-item:last-child::after {align-self: flex-start;width: 50%;}#sk-container-id-16 div.sk-parallel-item:only-child::after {width: 0;}#sk-container-id-16 div.sk-dashed-wrapped {border: 1px dashed gray;margin: 0 0.4em 0.5em 0.4em;box-sizing: border-box;padding-bottom: 0.4em;background-color: white;}#sk-container-id-16 div.sk-label label {font-family: monospace;font-weight: bold;display: inline-block;line-height: 1.2em;}#sk-container-id-16 div.sk-label-container {text-align: center;}#sk-container-id-16 div.sk-container {/* jupyter's `normalize.less` sets `[hidden] { display: none; }` but bootstrap.min.css set `[hidden] { display: none !important; }` so we also need the `!important` here to be able to override the default hidden behavior on the sphinx rendered scikit-learn.org. See: https://github.com/scikit-learn/scikit-learn/issues/21755 */display: inline-block !important;position: relative;}#sk-container-id-16 div.sk-text-repr-fallback {display: none;}</style><div id=\"sk-container-id-16\" class=\"sk-top-container\"><div class=\"sk-text-repr-fallback\"><pre>NearestNeighbors(metric=&#x27;cosine&#x27;)</pre><b>In a Jupyter environment, please rerun this cell to show the HTML representation or trust the notebook. <br />On GitHub, the HTML representation is unable to render, please try loading this page with nbviewer.org.</b></div><div class=\"sk-container\" hidden><div class=\"sk-item\"><div class=\"sk-estimator sk-toggleable\"><input class=\"sk-toggleable__control sk-hidden--visually\" id=\"sk-estimator-id-16\" type=\"checkbox\" checked><label for=\"sk-estimator-id-16\" class=\"sk-toggleable__label sk-toggleable__label-arrow\">NearestNeighbors</label><div class=\"sk-toggleable__content\"><pre>NearestNeighbors(metric=&#x27;cosine&#x27;)</pre></div></div></div></div></div>"
      ],
      "text/plain": [
       "NearestNeighbors(metric='cosine')"
      ]
     },
     "execution_count": 263,
     "metadata": {},
     "output_type": "execute_result"
    }
   ],
   "source": [
    "knn = NearestNeighbors(metric='cosine')\n",
    "knn.fit(embeddings)"
   ]
  },
  {
   "cell_type": "code",
   "execution_count": 264,
   "id": "75d876ab-684a-4704-9c3a-a58ca483d319",
   "metadata": {
    "execution": {
     "iopub.execute_input": "2024-03-12T19:46:24.433333Z",
     "iopub.status.busy": "2024-03-12T19:46:24.432705Z",
     "iopub.status.idle": "2024-03-12T19:46:24.446970Z",
     "shell.execute_reply": "2024-03-12T19:46:24.445900Z",
     "shell.execute_reply.started": "2024-03-12T19:46:24.433298Z"
    },
    "tags": []
   },
   "outputs": [],
   "source": [
    "import numpy as np"
   ]
  },
  {
   "cell_type": "code",
   "execution_count": 276,
   "id": "f3a7152e-7eab-482e-be2d-afc109035d73",
   "metadata": {
    "execution": {
     "iopub.execute_input": "2024-03-12T20:08:55.138496Z",
     "iopub.status.busy": "2024-03-12T20:08:55.137066Z",
     "iopub.status.idle": "2024-03-12T20:08:55.155655Z",
     "shell.execute_reply": "2024-03-12T20:08:55.154512Z",
     "shell.execute_reply.started": "2024-03-12T20:08:55.138434Z"
    },
    "tags": []
   },
   "outputs": [
    {
     "data": {
      "text/plain": [
       "['Кто может принимать участие в закупках Банка России?',\n",
       " 'Cроки предоставления информации об активах и обязательствах резидентом-экспортером',\n",
       " 'Что считается уровнем риска?',\n",
       " 'Какими видами рисков обязательно должен управлять кредитный кооператив?',\n",
       " 'На какие банковские операции распространяется сниженная комиссия для участников СВО?',\n",
       " 'Регионы проведения эксперимента по партнерскому финансированию',\n",
       " 'Что такое ВЕБ.РФ?',\n",
       " 'Какие полномочия у председателя ВЭБ.РФ?',\n",
       " 'Какие условия совершения операций по выдаче микрозаймов микрофинансовой организацией?']"
      ]
     },
     "execution_count": 276,
     "metadata": {},
     "output_type": "execute_result"
    }
   ],
   "source": [
    "queries.question.tolist()"
   ]
  },
  {
   "cell_type": "code",
   "execution_count": 277,
   "id": "eeff9836-1dd7-4f7e-8446-6ee2fbce37b6",
   "metadata": {
    "execution": {
     "iopub.execute_input": "2024-03-12T20:08:55.320686Z",
     "iopub.status.busy": "2024-03-12T20:08:55.319735Z",
     "iopub.status.idle": "2024-03-12T20:08:55.339320Z",
     "shell.execute_reply": "2024-03-12T20:08:55.337919Z",
     "shell.execute_reply.started": "2024-03-12T20:08:55.320640Z"
    },
    "tags": []
   },
   "outputs": [
    {
     "data": {
      "text/plain": [
       "0           https://cbr.ru/Crosscut/LawActs/File/6620/\n",
       "1    https://cbr.ru/Queries/UniDbQuery/File/90134/2...\n",
       "2     https://cbr.ru/Queries/UniDbQuery/File/90002/12/\n",
       "3     https://cbr.ru/Queries/UniDbQuery/File/90002/12/\n",
       "4           https://cbr.ru/Crosscut/LawActs/File/6144/\n",
       "5    http://pravo.gov.ru/proxy/ips/?docbody=&prevDo...\n",
       "6    http://pravo.gov.ru/proxy/ips/?docbody=&nd=102...\n",
       "7    http://pravo.gov.ru/proxy/ips/?docbody=&nd=102...\n",
       "8     https://cbr.ru/Queries/UniDbQuery/File/90002/49/\n",
       "Name: site_id, dtype: object"
      ]
     },
     "execution_count": 277,
     "metadata": {},
     "output_type": "execute_result"
    }
   ],
   "source": [
    "queries.site_id"
   ]
  },
  {
   "cell_type": "code",
   "execution_count": 275,
   "id": "7ee7a794-4be7-4dd2-8006-f47480b91d47",
   "metadata": {
    "execution": {
     "iopub.execute_input": "2024-03-12T20:04:37.438708Z",
     "iopub.status.busy": "2024-03-12T20:04:37.437630Z",
     "iopub.status.idle": "2024-03-12T20:04:43.402629Z",
     "shell.execute_reply": "2024-03-12T20:04:43.401518Z",
     "shell.execute_reply.started": "2024-03-12T20:04:37.438659Z"
    },
    "tags": []
   },
   "outputs": [
    {
     "name": "stdout",
     "output_type": "stream",
     "text": [
      "Site found in Neighbours\n",
      "Что считается уровнем риска?\n",
      "hits@1: 0.8888888888888888\n",
      "Что считается уровнем риска?\n",
      "hits@3: 0.8888888888888888\n",
      "Что считается уровнем риска?\n",
      "hits@5: 0.8888888888888888\n",
      "Что считается уровнем риска?\n",
      "hits@7: 0.8888888888888888\n",
      "Что считается уровнем риска?\n",
      "hits@9: 0.8888888888888888\n",
      "Что считается уровнем риска?\n",
      "hits@11: 0.8888888888888888\n",
      "hits@13: 1.0\n",
      "hits@15: 1.0\n",
      "hits@17: 1.0\n",
      "hits@19: 1.0\n"
     ]
    }
   ],
   "source": [
    "print('Site found in Neighbours')\n",
    "for i in range(1,20,2):\n",
    "    skores, neighbors = knn.kneighbors(model.encode(queries.question, batch_size=32, normalize_embeddings=True), i)\n",
    "    num_true = 0\n",
    "    for ind, line in enumerate(neighbors):\n",
    "        if queries.site_id[ind] in np.array(urls)[line]:\n",
    "            num_true += 1\n",
    "        else:\n",
    "            print(queries.question[ind])\n",
    "        \n",
    "    print(f'hits@{i}:', num_true/len(queries))"
   ]
  }
 ],
 "metadata": {
  "kernelspec": {
   "display_name": "DataSphere Kernel",
   "language": "python",
   "name": "python3"
  },
  "language_info": {
   "codemirror_mode": {
    "name": "ipython",
    "version": 3
   },
   "file_extension": ".py",
   "mimetype": "text/x-python",
   "name": "python",
   "nbconvert_exporter": "python",
   "pygments_lexer": "ipython3",
   "version": "3.7.7"
  }
 },
 "nbformat": 4,
 "nbformat_minor": 5
}
