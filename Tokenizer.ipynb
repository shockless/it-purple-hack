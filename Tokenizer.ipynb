{
 "cells": [
  {
   "cell_type": "code",
   "execution_count": 1,
   "id": "d6b62680-fd7a-47a0-a5f4-0f7a42c11368",
   "metadata": {
    "execution": {
     "iopub.execute_input": "2024-03-13T22:04:40.855417Z",
     "iopub.status.busy": "2024-03-13T22:04:40.855146Z",
     "iopub.status.idle": "2024-03-13T22:04:46.009736Z",
     "shell.execute_reply": "2024-03-13T22:04:46.009129Z",
     "shell.execute_reply.started": "2024-03-13T22:04:40.855397Z"
    },
    "tags": []
   },
   "outputs": [
    {
     "name": "stderr",
     "output_type": "stream",
     "text": [
      "/home/jupyter/.local/lib/python3.10/site-packages/transformers/utils/hub.py:124: FutureWarning: Using `TRANSFORMERS_CACHE` is deprecated and will be removed in v5 of Transformers. Use `HF_HOME` instead.\n",
      "  warnings.warn(\n",
      "2024-03-13 22:04:45.300866: W tensorflow/compiler/tf2tensorrt/utils/py_utils.cc:38] TF-TRT Warning: Could not find TensorRT\n",
      "[nltk_data] Downloading package punkt to /home/jupyter/nltk_data...\n",
      "[nltk_data]   Package punkt is already up-to-date!\n"
     ]
    },
    {
     "data": {
      "text/plain": [
       "True"
      ]
     },
     "execution_count": 1,
     "metadata": {},
     "output_type": "execute_result"
    }
   ],
   "source": [
    "import torch\n",
    "import numpy as np\n",
    "import pandas as pd\n",
    "import re\n",
    "import torch\n",
    "import sklearn\n",
    "import nltk\n",
    "import joblib\n",
    "import pandas as pd\n",
    "\n",
    "from transformers import AutoTokenizer, T5ForConditionalGeneration\n",
    "from transformers import set_seed\n",
    "\n",
    "import clickhouse_connect\n",
    "\n",
    "from sentence_transformers import SentenceTransformer\n",
    "from FlagEmbedding import BGEM3FlagModel\n",
    "\n",
    "from sklearn.neighbors import NearestNeighbors\n",
    "\n",
    "from utils.utils import Chunker, Generator, Retriever\n",
    "from utils.llm_config import GenerationConfig\n",
    "\n",
    "device = 'cuda'\n",
    "\n",
    "set_seed(42)\n",
    "\n",
    "nltk.download('punkt')\n",
    "torch.cuda.is_available()"
   ]
  },
  {
   "cell_type": "code",
   "execution_count": 2,
   "id": "7fd7cc76-76fc-43cb-ab6e-fd5c09635fd4",
   "metadata": {
    "execution": {
     "iopub.execute_input": "2024-03-13T22:04:46.011256Z",
     "iopub.status.busy": "2024-03-13T22:04:46.010644Z",
     "iopub.status.idle": "2024-03-13T22:04:46.042882Z",
     "shell.execute_reply": "2024-03-13T22:04:46.042320Z",
     "shell.execute_reply.started": "2024-03-13T22:04:46.011234Z"
    },
    "tags": []
   },
   "outputs": [],
   "source": [
    "client = clickhouse_connect.get_client(host='62.84.115.43', port=8123, username='default', password='g5oHPYX4', database='dev')"
   ]
  },
  {
   "cell_type": "markdown",
   "id": "715159c1-a510-41c8-ad2b-7ade1078c345",
   "metadata": {},
   "source": [
    "## Подгрузка моделей"
   ]
  },
  {
   "cell_type": "code",
   "execution_count": 3,
   "id": "c9323b92-8a61-4b4d-96d2-aa429636364f",
   "metadata": {
    "execution": {
     "iopub.execute_input": "2024-03-13T22:04:46.044224Z",
     "iopub.status.busy": "2024-03-13T22:04:46.043921Z",
     "iopub.status.idle": "2024-03-13T22:06:11.050660Z",
     "shell.execute_reply": "2024-03-13T22:06:11.049862Z",
     "shell.execute_reply.started": "2024-03-13T22:04:46.044204Z"
    },
    "tags": []
   },
   "outputs": [
    {
     "data": {
      "application/vnd.jupyter.widget-view+json": {
       "model_id": "57f7d0e8c58b4f43b408674718300834",
       "version_major": 2,
       "version_minor": 0
      },
      "text/plain": [
       "Fetching 23 files:   0%|          | 0/23 [00:00<?, ?it/s]"
      ]
     },
     "metadata": {},
     "output_type": "display_data"
    },
    {
     "data": {
      "application/vnd.jupyter.widget-view+json": {
       "model_id": "a7f181fb9df44ce891068e1c80f9995a",
       "version_major": 2,
       "version_minor": 0
      },
      "text/plain": [
       "config.json:   0%|          | 0.00/687 [00:00<?, ?B/s]"
      ]
     },
     "metadata": {},
     "output_type": "display_data"
    },
    {
     "data": {
      "application/vnd.jupyter.widget-view+json": {
       "model_id": "a1f9d5d366cf458da9ac9e116bd4b7a1",
       "version_major": 2,
       "version_minor": 0
      },
      "text/plain": [
       "imgs/.DS_Store:   0%|          | 0.00/6.15k [00:00<?, ?B/s]"
      ]
     },
     "metadata": {},
     "output_type": "display_data"
    },
    {
     "data": {
      "application/vnd.jupyter.widget-view+json": {
       "model_id": "42a12825bde049609a6b67af8adea71d",
       "version_major": 2,
       "version_minor": 0
      },
      "text/plain": [
       "1_Pooling/config.json:   0%|          | 0.00/191 [00:00<?, ?B/s]"
      ]
     },
     "metadata": {},
     "output_type": "display_data"
    },
    {
     "data": {
      "application/vnd.jupyter.widget-view+json": {
       "model_id": "2efb38b8005645059f639344d56d31ab",
       "version_major": 2,
       "version_minor": 0
      },
      "text/plain": [
       ".gitattributes:   0%|          | 0.00/1.57k [00:00<?, ?B/s]"
      ]
     },
     "metadata": {},
     "output_type": "display_data"
    },
    {
     "data": {
      "application/vnd.jupyter.widget-view+json": {
       "model_id": "d7f9d586b5774c88964b6dd55a85292f",
       "version_major": 2,
       "version_minor": 0
      },
      "text/plain": [
       "README.md:   0%|          | 0.00/15.3k [00:00<?, ?B/s]"
      ]
     },
     "metadata": {},
     "output_type": "display_data"
    },
    {
     "data": {
      "application/vnd.jupyter.widget-view+json": {
       "model_id": "7429d4bce98b46d5a14f2f471ac4d0dd",
       "version_major": 2,
       "version_minor": 0
      },
      "text/plain": [
       "config_sentence_transformers.json:   0%|          | 0.00/123 [00:00<?, ?B/s]"
      ]
     },
     "metadata": {},
     "output_type": "display_data"
    },
    {
     "data": {
      "application/vnd.jupyter.widget-view+json": {
       "model_id": "6581c54acc07423fa0ee68bcd665709e",
       "version_major": 2,
       "version_minor": 0
      },
      "text/plain": [
       "imgs/bm25.jpg:   0%|          | 0.00/69.0k [00:00<?, ?B/s]"
      ]
     },
     "metadata": {},
     "output_type": "display_data"
    },
    {
     "data": {
      "application/vnd.jupyter.widget-view+json": {
       "model_id": "20f5995894aa4ff9946eb83c808990b5",
       "version_major": 2,
       "version_minor": 0
      },
      "text/plain": [
       "imgs/long.jpg:   0%|          | 0.00/485k [00:00<?, ?B/s]"
      ]
     },
     "metadata": {},
     "output_type": "display_data"
    },
    {
     "data": {
      "application/vnd.jupyter.widget-view+json": {
       "model_id": "0667dfc7864945a1bec35ebf124b00ad",
       "version_major": 2,
       "version_minor": 0
      },
      "text/plain": [
       "imgs/miracl.jpg:   0%|          | 0.00/448k [00:00<?, ?B/s]"
      ]
     },
     "metadata": {},
     "output_type": "display_data"
    },
    {
     "data": {
      "application/vnd.jupyter.widget-view+json": {
       "model_id": "b308965bc4364132bd41eab7a026be83",
       "version_major": 2,
       "version_minor": 0
      },
      "text/plain": [
       "colbert_linear.pt:   0%|          | 0.00/2.10M [00:00<?, ?B/s]"
      ]
     },
     "metadata": {},
     "output_type": "display_data"
    },
    {
     "data": {
      "application/vnd.jupyter.widget-view+json": {
       "model_id": "94dddb2f86424d0b8f3c22752b5e484c",
       "version_major": 2,
       "version_minor": 0
      },
      "text/plain": [
       "imgs/mkqa.jpg:   0%|          | 0.00/608k [00:00<?, ?B/s]"
      ]
     },
     "metadata": {},
     "output_type": "display_data"
    },
    {
     "data": {
      "application/vnd.jupyter.widget-view+json": {
       "model_id": "ec891b1e35384c81bf40cfeaee56bc81",
       "version_major": 2,
       "version_minor": 0
      },
      "text/plain": [
       "imgs/nqa.jpg:   0%|          | 0.00/158k [00:00<?, ?B/s]"
      ]
     },
     "metadata": {},
     "output_type": "display_data"
    },
    {
     "data": {
      "application/vnd.jupyter.widget-view+json": {
       "model_id": "34761234ba714ddaa7248ea907091e90",
       "version_major": 2,
       "version_minor": 0
      },
      "text/plain": [
       "long.jpg:   0%|          | 0.00/127k [00:00<?, ?B/s]"
      ]
     },
     "metadata": {},
     "output_type": "display_data"
    },
    {
     "data": {
      "application/vnd.jupyter.widget-view+json": {
       "model_id": "b4e2cae84c084e4ebac90785902855c4",
       "version_major": 2,
       "version_minor": 0
      },
      "text/plain": [
       "imgs/others.webp:   0%|          | 0.00/21.0k [00:00<?, ?B/s]"
      ]
     },
     "metadata": {},
     "output_type": "display_data"
    },
    {
     "data": {
      "application/vnd.jupyter.widget-view+json": {
       "model_id": "a9f46bd5e2da4370bd53ea6c93b35c8e",
       "version_major": 2,
       "version_minor": 0
      },
      "text/plain": [
       "model.safetensors:   0%|          | 0.00/2.27G [00:00<?, ?B/s]"
      ]
     },
     "metadata": {},
     "output_type": "display_data"
    },
    {
     "data": {
      "application/vnd.jupyter.widget-view+json": {
       "model_id": "a790e7f03c004a2194b283743aaeae85",
       "version_major": 2,
       "version_minor": 0
      },
      "text/plain": [
       "modules.json:   0%|          | 0.00/349 [00:00<?, ?B/s]"
      ]
     },
     "metadata": {},
     "output_type": "display_data"
    },
    {
     "data": {
      "application/vnd.jupyter.widget-view+json": {
       "model_id": "7b8e3fc9e42d421197ead56af2b68092",
       "version_major": 2,
       "version_minor": 0
      },
      "text/plain": [
       "sentence_bert_config.json:   0%|          | 0.00/54.0 [00:00<?, ?B/s]"
      ]
     },
     "metadata": {},
     "output_type": "display_data"
    },
    {
     "data": {
      "application/vnd.jupyter.widget-view+json": {
       "model_id": "dcdcac2912b8429b82cf03af0015b890",
       "version_major": 2,
       "version_minor": 0
      },
      "text/plain": [
       "tokenizer_config.json:   0%|          | 0.00/1.31k [00:00<?, ?B/s]"
      ]
     },
     "metadata": {},
     "output_type": "display_data"
    },
    {
     "data": {
      "application/vnd.jupyter.widget-view+json": {
       "model_id": "78d3b1c1c335494dbedbad609475353f",
       "version_major": 2,
       "version_minor": 0
      },
      "text/plain": [
       "special_tokens_map.json:   0%|          | 0.00/964 [00:00<?, ?B/s]"
      ]
     },
     "metadata": {},
     "output_type": "display_data"
    },
    {
     "data": {
      "application/vnd.jupyter.widget-view+json": {
       "model_id": "ed5e3388506048a0b4519c0a552346a8",
       "version_major": 2,
       "version_minor": 0
      },
      "text/plain": [
       "tokenizer.json:   0%|          | 0.00/17.1M [00:00<?, ?B/s]"
      ]
     },
     "metadata": {},
     "output_type": "display_data"
    },
    {
     "data": {
      "application/vnd.jupyter.widget-view+json": {
       "model_id": "c8875e127b7e484c96bf1992a564e42f",
       "version_major": 2,
       "version_minor": 0
      },
      "text/plain": [
       "pytorch_model.bin:   0%|          | 0.00/2.27G [00:00<?, ?B/s]"
      ]
     },
     "metadata": {},
     "output_type": "display_data"
    },
    {
     "data": {
      "application/vnd.jupyter.widget-view+json": {
       "model_id": "ebfa721b887e49d7876cfaed894837be",
       "version_major": 2,
       "version_minor": 0
      },
      "text/plain": [
       "sentencepiece.bpe.model:   0%|          | 0.00/5.07M [00:00<?, ?B/s]"
      ]
     },
     "metadata": {},
     "output_type": "display_data"
    },
    {
     "data": {
      "application/vnd.jupyter.widget-view+json": {
       "model_id": "3a0f3ee4089441eda67a9a876d649641",
       "version_major": 2,
       "version_minor": 0
      },
      "text/plain": [
       "sparse_linear.pt:   0%|          | 0.00/3.52k [00:00<?, ?B/s]"
      ]
     },
     "metadata": {},
     "output_type": "display_data"
    },
    {
     "name": "stdout",
     "output_type": "stream",
     "text": [
      "loading existing colbert_linear and sparse_linear---------\n"
     ]
    },
    {
     "data": {
      "application/vnd.jupyter.widget-view+json": {
       "model_id": "ac41c8950f6d4605aea731ccad0c933e",
       "version_major": 2,
       "version_minor": 0
      },
      "text/plain": [
       "modules.json:   0%|          | 0.00/387 [00:00<?, ?B/s]"
      ]
     },
     "metadata": {},
     "output_type": "display_data"
    },
    {
     "data": {
      "application/vnd.jupyter.widget-view+json": {
       "model_id": "595eb4a736494b3cb84a127327f577cd",
       "version_major": 2,
       "version_minor": 0
      },
      "text/plain": [
       "README.md:   0%|          | 0.00/160k [00:00<?, ?B/s]"
      ]
     },
     "metadata": {},
     "output_type": "display_data"
    },
    {
     "data": {
      "application/vnd.jupyter.widget-view+json": {
       "model_id": "a8ad471de4c74e9c96de55750dc8e9f1",
       "version_major": 2,
       "version_minor": 0
      },
      "text/plain": [
       "sentence_bert_config.json:   0%|          | 0.00/57.0 [00:00<?, ?B/s]"
      ]
     },
     "metadata": {},
     "output_type": "display_data"
    },
    {
     "data": {
      "application/vnd.jupyter.widget-view+json": {
       "model_id": "3dc532b394024ed88e5436e4cc217064",
       "version_major": 2,
       "version_minor": 0
      },
      "text/plain": [
       "1_Pooling/config.json:   0%|          | 0.00/201 [00:00<?, ?B/s]"
      ]
     },
     "metadata": {},
     "output_type": "display_data"
    }
   ],
   "source": [
    "bge_retriever_model = BGEM3FlagModel('BAAI/bge-m3', use_fp16=True, pooling_method=\"cls\")\n",
    "e5_retriever_model = SentenceTransformer(\"intfloat/multilingual-e5-large\", device='cuda')\n",
    "e5_retriever_model.max_seq_length = 512"
   ]
  },
  {
   "cell_type": "code",
   "execution_count": 4,
   "id": "a182e475-a4ea-4275-851f-1303132c3395",
   "metadata": {
    "execution": {
     "iopub.execute_input": "2024-03-13T22:06:11.052102Z",
     "iopub.status.busy": "2024-03-13T22:06:11.051761Z",
     "iopub.status.idle": "2024-03-13T22:06:14.560712Z",
     "shell.execute_reply": "2024-03-13T22:06:14.559935Z",
     "shell.execute_reply.started": "2024-03-13T22:06:11.052063Z"
    },
    "tags": []
   },
   "outputs": [
    {
     "name": "stderr",
     "output_type": "stream",
     "text": [
      "Special tokens have been added in the vocabulary, make sure the associated word embeddings are fine-tuned or trained.\n"
     ]
    },
    {
     "data": {
      "application/vnd.jupyter.widget-view+json": {
       "model_id": "3d467d638ad8482c836289fa0e97d265",
       "version_major": 2,
       "version_minor": 0
      },
      "text/plain": [
       "Downloading shards:   0%|          | 0/2 [00:00<?, ?it/s]"
      ]
     },
     "metadata": {},
     "output_type": "display_data"
    },
    {
     "data": {
      "application/vnd.jupyter.widget-view+json": {
       "model_id": "9739e453ec3a456fa00d40c5962c2e26",
       "version_major": 2,
       "version_minor": 0
      },
      "text/plain": [
       "Loading checkpoint shards:   0%|          | 0/2 [00:00<?, ?it/s]"
      ]
     },
     "metadata": {},
     "output_type": "display_data"
    }
   ],
   "source": [
    "generator_model_name = 'hivaze/AAQG-QA-QG-FRED-T5-1.7B'\n",
    "generator_tokenizer = AutoTokenizer.from_pretrained(generator_model_name)\n",
    "generator_model = T5ForConditionalGeneration.from_pretrained(generator_model_name).cuda().eval()"
   ]
  },
  {
   "cell_type": "markdown",
   "id": "580c71d6-56a5-45a9-a310-e9e905f5bd93",
   "metadata": {
    "jp-MarkdownHeadingCollapsed": true,
    "tags": []
   },
   "source": [
    "## Chunker"
   ]
  },
  {
   "cell_type": "code",
   "execution_count": 12,
   "id": "6acf26e9-291a-42af-a767-40a1fbf76c8a",
   "metadata": {
    "execution": {
     "iopub.execute_input": "2024-03-13T19:17:02.348406Z",
     "iopub.status.busy": "2024-03-13T19:17:02.348059Z",
     "iopub.status.idle": "2024-03-13T19:17:15.269890Z",
     "shell.execute_reply": "2024-03-13T19:17:15.269143Z",
     "shell.execute_reply.started": "2024-03-13T19:17:02.348387Z"
    },
    "tags": []
   },
   "outputs": [
    {
     "data": {
      "text/plain": [
       "<clickhouse_connect.driver.summary.QuerySummary at 0x7f02c3f23f70>"
      ]
     },
     "execution_count": 12,
     "metadata": {},
     "output_type": "execute_result"
    }
   ],
   "source": [
    "chunker = Chunker(max_chunk_len=2500, overlap_len=500)\n",
    "\n",
    "\n",
    "texts = client.query_df('select * from document').set_index('url')\n",
    "chunks, urls = chunker.split_texts(texts)\n",
    "client.insert(table='chunk', data=[chunks, urls], column_names=['text', 'url'], column_oriented=True)"
   ]
  },
  {
   "cell_type": "code",
   "execution_count": 8,
   "id": "d5f22565-d50b-410f-a1d6-10ce139aad79",
   "metadata": {
    "execution": {
     "iopub.execute_input": "2024-03-13T19:05:53.555541Z",
     "iopub.status.busy": "2024-03-13T19:05:53.555279Z",
     "iopub.status.idle": "2024-03-13T19:05:53.563878Z",
     "shell.execute_reply": "2024-03-13T19:05:53.563252Z",
     "shell.execute_reply.started": "2024-03-13T19:05:53.555521Z"
    },
    "tags": []
   },
   "outputs": [],
   "source": [
    "# encoded_queries = bge_retriever_model.encode(book[\"query\"].tolist(), return_dense=True, return_sparse=False, return_colbert_vecs=True, batch_size=16, max_length=512)"
   ]
  },
  {
   "cell_type": "code",
   "execution_count": 6,
   "id": "44b0e92b-5174-437e-91e6-185f8d4ab3dd",
   "metadata": {
    "execution": {
     "iopub.execute_input": "2024-03-13T20:13:56.294601Z",
     "iopub.status.busy": "2024-03-13T20:13:56.294280Z",
     "iopub.status.idle": "2024-03-13T20:13:57.848546Z",
     "shell.execute_reply": "2024-03-13T20:13:57.847913Z",
     "shell.execute_reply.started": "2024-03-13T20:13:56.294579Z"
    },
    "tags": []
   },
   "outputs": [],
   "source": [
    "chunks_df = client.query_df('select * from chunk').set_index('uuid')"
   ]
  },
  {
   "cell_type": "code",
   "execution_count": 8,
   "id": "65d500a1-a159-4ae3-b685-77dc2d3a2191",
   "metadata": {
    "execution": {
     "iopub.execute_input": "2024-03-13T20:14:18.986964Z",
     "iopub.status.busy": "2024-03-13T20:14:18.986475Z",
     "iopub.status.idle": "2024-03-13T20:33:49.444767Z",
     "shell.execute_reply": "2024-03-13T20:33:49.443989Z",
     "shell.execute_reply.started": "2024-03-13T20:14:18.986943Z"
    },
    "tags": []
   },
   "outputs": [
    {
     "name": "stderr",
     "output_type": "stream",
     "text": [
      "Inference Embeddings: 100%|██████████| 2705/2705 [03:17<00:00, 13.70it/s]\n"
     ]
    },
    {
     "data": {
      "application/vnd.jupyter.widget-view+json": {
       "model_id": "4790c9ef6b9c430dbbc2a5c43c91919d",
       "version_major": 2,
       "version_minor": 0
      },
      "text/plain": [
       "Batches:   0%|          | 0/2705 [00:00<?, ?it/s]"
      ]
     },
     "metadata": {},
     "output_type": "display_data"
    },
    {
     "data": {
      "text/plain": [
       "<clickhouse_connect.driver.summary.QuerySummary at 0x7f14802e0880>"
      ]
     },
     "execution_count": 8,
     "metadata": {},
     "output_type": "execute_result"
    }
   ],
   "source": [
    "bge_embeddings = bge_retriever_model.encode(chunks_df.text.tolist(), return_dense=True, return_sparse=False, return_colbert_vecs=False, batch_size=16, max_length=512)\n",
    "e5_embeddings = e5_retriever_model.encode(chunks_df.text.tolist(), batch_size=16, normalize_embeddings=True, show_progress_bar=True)\n",
    "client.insert(table='chunk_embedding',\n",
    "              data=[chunks_df.index.tolist(), \n",
    "                    bge_embeddings['dense_vecs'].tolist(), \n",
    "                    e5_embeddings.tolist()],\n",
    "              column_names=['chunk_uuid', \n",
    "                            'bge_m3_embedding', \n",
    "                            'e5_embedding'], column_oriented=True)"
   ]
  },
  {
   "cell_type": "code",
   "execution_count": 9,
   "id": "8f10c3ec-1ef7-4d62-a5b3-74759bc97700",
   "metadata": {
    "execution": {
     "iopub.execute_input": "2024-03-13T20:36:30.148188Z",
     "iopub.status.busy": "2024-03-13T20:36:30.147759Z",
     "iopub.status.idle": "2024-03-13T20:36:37.869820Z",
     "shell.execute_reply": "2024-03-13T20:36:37.868874Z",
     "shell.execute_reply.started": "2024-03-13T20:36:30.148164Z"
    },
    "tags": []
   },
   "outputs": [
    {
     "data": {
      "text/html": [
       "<div>\n",
       "<style scoped>\n",
       "    .dataframe tbody tr th:only-of-type {\n",
       "        vertical-align: middle;\n",
       "    }\n",
       "\n",
       "    .dataframe tbody tr th {\n",
       "        vertical-align: top;\n",
       "    }\n",
       "\n",
       "    .dataframe thead th {\n",
       "        text-align: right;\n",
       "    }\n",
       "</style>\n",
       "<table border=\"1\" class=\"dataframe\">\n",
       "  <thead>\n",
       "    <tr style=\"text-align: right;\">\n",
       "      <th></th>\n",
       "      <th>chunk_uuid</th>\n",
       "      <th>bge_m3_embedding</th>\n",
       "      <th>e5_embedding</th>\n",
       "    </tr>\n",
       "  </thead>\n",
       "  <tbody>\n",
       "    <tr>\n",
       "      <th>0</th>\n",
       "      <td>09785425-2e5a-4450-8000-25898e9ee517</td>\n",
       "      <td>[-0.017211914, 0.011268616, -0.002105713, 0.03...</td>\n",
       "      <td>[-0.00078974775, -0.004833441, -0.010927365, -...</td>\n",
       "    </tr>\n",
       "    <tr>\n",
       "      <th>1</th>\n",
       "      <td>5a190169-dac3-496b-8001-4b2e0e0d6fc5</td>\n",
       "      <td>[0.012702942, -0.0025024414, -0.020629883, 0.0...</td>\n",
       "      <td>[0.023522928, -0.007914214, -0.035638273, -0.0...</td>\n",
       "    </tr>\n",
       "    <tr>\n",
       "      <th>2</th>\n",
       "      <td>4f94df03-6da5-4b0d-8002-1d3cbb2134dd</td>\n",
       "      <td>[-0.013771057, -0.019805908, -0.015159607, 0.0...</td>\n",
       "      <td>[-0.0012714802, -0.0009910531, -0.017019093, -...</td>\n",
       "    </tr>\n",
       "    <tr>\n",
       "      <th>3</th>\n",
       "      <td>9b010e2e-42b3-4eb1-8002-3017aa2a4775</td>\n",
       "      <td>[-0.010108948, 0.018081665, -0.030929565, 0.00...</td>\n",
       "      <td>[0.024700968, -0.029986667, -0.043692064, -0.0...</td>\n",
       "    </tr>\n",
       "    <tr>\n",
       "      <th>4</th>\n",
       "      <td>4f00e2a8-4aed-49c9-8002-4a7588770c40</td>\n",
       "      <td>[-0.021575928, 0.0028858185, -0.039886475, -0....</td>\n",
       "      <td>[0.023082534, -0.02455546, -0.013776501, -0.04...</td>\n",
       "    </tr>\n",
       "    <tr>\n",
       "      <th>...</th>\n",
       "      <td>...</td>\n",
       "      <td>...</td>\n",
       "      <td>...</td>\n",
       "    </tr>\n",
       "    <tr>\n",
       "      <th>1306</th>\n",
       "      <td>c9990629-5009-40de-b458-ebd414320e9e</td>\n",
       "      <td>[-0.006462097, 0.003326416, -0.016204834, 0.03...</td>\n",
       "      <td>[-0.006397617, -0.027702993, -0.014129917, -0....</td>\n",
       "    </tr>\n",
       "    <tr>\n",
       "      <th>1307</th>\n",
       "      <td>c4515a46-cca4-43b1-b459-035699a46439</td>\n",
       "      <td>[-0.024795532, -0.021865845, -0.0020008087, -0...</td>\n",
       "      <td>[0.006878287, -0.023127899, -0.0028097988, -0....</td>\n",
       "    </tr>\n",
       "    <tr>\n",
       "      <th>1308</th>\n",
       "      <td>1c3a94de-8506-4f4d-b459-24cdcbdd68ba</td>\n",
       "      <td>[-0.0076522827, -0.026367188, -0.037719727, -0...</td>\n",
       "      <td>[-0.004693624, -0.017884552, -0.022393245, -0....</td>\n",
       "    </tr>\n",
       "    <tr>\n",
       "      <th>1309</th>\n",
       "      <td>b8e68c20-2a91-4c53-b459-e3a275c1a5f0</td>\n",
       "      <td>[0.016235352, 0.022705078, 0.0056762695, -0.01...</td>\n",
       "      <td>[0.01902052, -0.0034569488, -0.024087856, -0.0...</td>\n",
       "    </tr>\n",
       "    <tr>\n",
       "      <th>1310</th>\n",
       "      <td>8986b874-a686-4a60-b45b-48648a5cede4</td>\n",
       "      <td>[0.019088745, -0.00072813034, -0.044158936, 0....</td>\n",
       "      <td>[0.00965562, -0.019855488, -0.028859438, -0.04...</td>\n",
       "    </tr>\n",
       "  </tbody>\n",
       "</table>\n",
       "<p>43276 rows × 3 columns</p>\n",
       "</div>"
      ],
      "text/plain": [
       "                                chunk_uuid  ...                                       e5_embedding\n",
       "0     09785425-2e5a-4450-8000-25898e9ee517  ...  [-0.00078974775, -0.004833441, -0.010927365, -...\n",
       "1     5a190169-dac3-496b-8001-4b2e0e0d6fc5  ...  [0.023522928, -0.007914214, -0.035638273, -0.0...\n",
       "2     4f94df03-6da5-4b0d-8002-1d3cbb2134dd  ...  [-0.0012714802, -0.0009910531, -0.017019093, -...\n",
       "3     9b010e2e-42b3-4eb1-8002-3017aa2a4775  ...  [0.024700968, -0.029986667, -0.043692064, -0.0...\n",
       "4     4f00e2a8-4aed-49c9-8002-4a7588770c40  ...  [0.023082534, -0.02455546, -0.013776501, -0.04...\n",
       "...                                    ...  ...                                                ...\n",
       "1306  c9990629-5009-40de-b458-ebd414320e9e  ...  [-0.006397617, -0.027702993, -0.014129917, -0....\n",
       "1307  c4515a46-cca4-43b1-b459-035699a46439  ...  [0.006878287, -0.023127899, -0.0028097988, -0....\n",
       "1308  1c3a94de-8506-4f4d-b459-24cdcbdd68ba  ...  [-0.004693624, -0.017884552, -0.022393245, -0....\n",
       "1309  b8e68c20-2a91-4c53-b459-e3a275c1a5f0  ...  [0.01902052, -0.0034569488, -0.024087856, -0.0...\n",
       "1310  8986b874-a686-4a60-b45b-48648a5cede4  ...  [0.00965562, -0.019855488, -0.028859438, -0.04...\n",
       "\n",
       "[43276 rows x 3 columns]"
      ]
     },
     "execution_count": 9,
     "metadata": {},
     "output_type": "execute_result"
    }
   ],
   "source": [
    "client.query_df('select * from chunk_embedding')"
   ]
  },
  {
   "cell_type": "markdown",
   "id": "9c1bcde1-3155-41e0-8c16-5e1ece2a5324",
   "metadata": {},
   "source": [
    "## Retriever & Generator"
   ]
  },
  {
   "cell_type": "code",
   "execution_count": 15,
   "id": "ef0788da-0085-41ca-8ce2-7caa7e7d772d",
   "metadata": {
    "execution": {
     "iopub.execute_input": "2024-03-13T22:08:30.806669Z",
     "iopub.status.busy": "2024-03-13T22:08:30.806284Z",
     "iopub.status.idle": "2024-03-13T22:08:30.856181Z",
     "shell.execute_reply": "2024-03-13T22:08:30.855505Z",
     "shell.execute_reply.started": "2024-03-13T22:08:30.806648Z"
    },
    "tags": []
   },
   "outputs": [],
   "source": [
    "generator_config = GenerationConfig(num_beams=3)\n",
    "generator = Generator(generator_tokenizer, generator_model, config=generator_config)\n",
    "retriever = Retriever(e5_retriever_model, bge_retriever_model, client)"
   ]
  },
  {
   "cell_type": "code",
   "execution_count": 6,
   "id": "f5d3f5d6-afde-4aec-9190-2619c4309bea",
   "metadata": {
    "execution": {
     "iopub.execute_input": "2024-03-13T22:06:14.577371Z",
     "iopub.status.busy": "2024-03-13T22:06:14.577124Z",
     "iopub.status.idle": "2024-03-13T22:06:14.599964Z",
     "shell.execute_reply": "2024-03-13T22:06:14.599329Z",
     "shell.execute_reply.started": "2024-03-13T22:06:14.577353Z"
    },
    "tags": []
   },
   "outputs": [],
   "source": [
    "queries = pd.read_csv('Book1 (1).csv', sep=';')\n",
    "queries.site_id = queries.site_id.apply(lambda x: x if  x[-1] == '/' else x+'/')\n",
    "queries.site_id = queries.site_id.apply(lambda x: x if 'http://pravo.gov.ru' in x else 'https://cbr.ru' + x)"
   ]
  },
  {
   "cell_type": "code",
   "execution_count": 17,
   "id": "ff2870da-7f50-4606-9801-b54838513367",
   "metadata": {
    "execution": {
     "iopub.execute_input": "2024-03-13T22:09:44.939113Z",
     "iopub.status.busy": "2024-03-13T22:09:44.938744Z",
     "iopub.status.idle": "2024-03-13T22:09:44.953284Z",
     "shell.execute_reply": "2024-03-13T22:09:44.952552Z",
     "shell.execute_reply.started": "2024-03-13T22:09:44.939093Z"
    },
    "tags": []
   },
   "outputs": [
    {
     "data": {
      "text/plain": [
       "'Кто может принимать участие в закупках Банка России?'"
      ]
     },
     "execution_count": 17,
     "metadata": {},
     "output_type": "execute_result"
    }
   ],
   "source": [
    "question = queries.question.sample(1).item()\n",
    "question"
   ]
  },
  {
   "cell_type": "code",
   "execution_count": 18,
   "id": "eeef93f9-27be-4ec2-bb81-33e12b5c756a",
   "metadata": {
    "execution": {
     "iopub.execute_input": "2024-03-13T22:09:47.651659Z",
     "iopub.status.busy": "2024-03-13T22:09:47.651279Z",
     "iopub.status.idle": "2024-03-13T22:09:48.247854Z",
     "shell.execute_reply": "2024-03-13T22:09:48.247141Z",
     "shell.execute_reply.started": "2024-03-13T22:09:47.651640Z"
    },
    "tags": []
   },
   "outputs": [],
   "source": [
    "topk_texts, topk_urls, question_embedding = retriever.get_neighbors(question)\n",
    "rerank_indeces = retriever.rerank(question_embedding, topk_texts, 3)\n",
    "reranked_texts, reranked_urls = retriever.get_topk(topk_texts, topk_urls, rerank_indeces)"
   ]
  },
  {
   "cell_type": "code",
   "execution_count": 23,
   "id": "7f51ed8a-46d5-47e3-8c37-8a1b87f0c6b1",
   "metadata": {
    "execution": {
     "iopub.execute_input": "2024-03-13T22:12:01.005822Z",
     "iopub.status.busy": "2024-03-13T22:12:01.005452Z",
     "iopub.status.idle": "2024-03-13T22:12:02.702370Z",
     "shell.execute_reply": "2024-03-13T22:12:02.701601Z",
     "shell.execute_reply.started": "2024-03-13T22:12:01.005802Z"
    },
    "tags": []
   },
   "outputs": [
    {
     "name": "stdout",
     "output_type": "stream",
     "text": [
      "Участником закупки Банка России может стать любое юридическое лицо независимо от его организационно -правовой формы, формы собственности, места нахождения и места происхождения капитала.\n",
      "\n",
      "Использованные документы:\n",
      "1) https://cbr.ru/Crosscut/LawActs/File/6620/ \n",
      "\n"
     ]
    }
   ],
   "source": [
    "print(generator.get_answer(question, reranked_texts, reranked_urls, temperature=0.6))"
   ]
  },
  {
   "cell_type": "code",
   "execution_count": null,
   "id": "a39cc4fa-28c0-4a4f-ab4a-c2af737a8a17",
   "metadata": {},
   "outputs": [],
   "source": []
  }
 ],
 "metadata": {
  "kernelspec": {
   "display_name": "DataSphere Kernel",
   "language": "python",
   "name": "python3"
  },
  "language_info": {
   "codemirror_mode": {
    "name": "ipython",
    "version": 3
   },
   "file_extension": ".py",
   "mimetype": "text/x-python",
   "name": "python",
   "nbconvert_exporter": "python",
   "pygments_lexer": "ipython3",
   "version": "3.7.7"
  }
 },
 "nbformat": 4,
 "nbformat_minor": 5
}
