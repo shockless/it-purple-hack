{
 "cells": [
  {
   "cell_type": "code",
   "execution_count": 1,
   "id": "d6b62680-fd7a-47a0-a5f4-0f7a42c11368",
   "metadata": {
    "execution": {
     "iopub.execute_input": "2024-03-12T22:10:00.416265Z",
     "iopub.status.busy": "2024-03-12T22:10:00.415329Z",
     "iopub.status.idle": "2024-03-12T22:10:07.335277Z",
     "shell.execute_reply": "2024-03-12T22:10:07.334087Z",
     "shell.execute_reply.started": "2024-03-12T22:10:00.416223Z"
    },
    "tags": []
   },
   "outputs": [
    {
     "name": "stderr",
     "output_type": "stream",
     "text": [
      "/home/jupyter/.local/lib/python3.10/site-packages/transformers/utils/hub.py:124: FutureWarning: Using `TRANSFORMERS_CACHE` is deprecated and will be removed in v5 of Transformers. Use `HF_HOME` instead.\n",
      "  warnings.warn(\n",
      "2024-03-12 22:10:06.180419: W tensorflow/compiler/tf2tensorrt/utils/py_utils.cc:38] TF-TRT Warning: Could not find TensorRT\n",
      "[nltk_data] Downloading package punkt to /home/jupyter/nltk_data...\n",
      "[nltk_data]   Package punkt is already up-to-date!\n"
     ]
    },
    {
     "data": {
      "text/plain": [
       "True"
      ]
     },
     "execution_count": 1,
     "metadata": {},
     "output_type": "execute_result"
    }
   ],
   "source": [
    "import torch\n",
    "import numpy as np\n",
    "import pandas as pd\n",
    "import re\n",
    "import torch\n",
    "import sklearn\n",
    "import nltk\n",
    "import joblib\n",
    "import pandas as pd\n",
    "\n",
    "from transformers import GPT2Tokenizer, T5ForConditionalGeneration \n",
    "from transformers import AutoTokenizer, T5ForConditionalGeneration\n",
    "from transformers import set_seed\n",
    "\n",
    "from sentence_transformers import SentenceTransformer\n",
    "\n",
    "from sklearn.neighbors import NearestNeighbors\n",
    "\n",
    "from utils.utils import Chunker, Generator\n",
    "\n",
    "device = 'cuda'\n",
    "\n",
    "set_seed(42)\n",
    "\n",
    "nltk.download('punkt')\n",
    "torch.cuda.is_available()"
   ]
  },
  {
   "cell_type": "code",
   "execution_count": 2,
   "id": "c9323b92-8a61-4b4d-96d2-aa429636364f",
   "metadata": {
    "execution": {
     "iopub.execute_input": "2024-03-12T22:10:07.338370Z",
     "iopub.status.busy": "2024-03-12T22:10:07.337032Z",
     "iopub.status.idle": "2024-03-12T22:10:19.668846Z",
     "shell.execute_reply": "2024-03-12T22:10:19.667592Z",
     "shell.execute_reply.started": "2024-03-12T22:10:07.338315Z"
    },
    "tags": []
   },
   "outputs": [
    {
     "data": {
      "application/vnd.jupyter.widget-view+json": {
       "model_id": "63473995a1af4b0d9bf211b215a4f9c1",
       "version_major": 2,
       "version_minor": 0
      },
      "text/plain": [
       "modules.json:   0%|          | 0.00/349 [00:00<?, ?B/s]"
      ]
     },
     "metadata": {},
     "output_type": "display_data"
    },
    {
     "data": {
      "application/vnd.jupyter.widget-view+json": {
       "model_id": "80451c87091746c5afac9f6b187cb231",
       "version_major": 2,
       "version_minor": 0
      },
      "text/plain": [
       "config_sentence_transformers.json:   0%|          | 0.00/123 [00:00<?, ?B/s]"
      ]
     },
     "metadata": {},
     "output_type": "display_data"
    },
    {
     "data": {
      "application/vnd.jupyter.widget-view+json": {
       "model_id": "31efd61ed1424031b76d15868bdbb779",
       "version_major": 2,
       "version_minor": 0
      },
      "text/plain": [
       "README.md:   0%|          | 0.00/15.3k [00:00<?, ?B/s]"
      ]
     },
     "metadata": {},
     "output_type": "display_data"
    },
    {
     "data": {
      "application/vnd.jupyter.widget-view+json": {
       "model_id": "01f8b15692e94d74a5c0df4a9ae7e143",
       "version_major": 2,
       "version_minor": 0
      },
      "text/plain": [
       "sentence_bert_config.json:   0%|          | 0.00/54.0 [00:00<?, ?B/s]"
      ]
     },
     "metadata": {},
     "output_type": "display_data"
    },
    {
     "data": {
      "application/vnd.jupyter.widget-view+json": {
       "model_id": "4686f84c46a0431c804a529bdbb88033",
       "version_major": 2,
       "version_minor": 0
      },
      "text/plain": [
       "1_Pooling/config.json:   0%|          | 0.00/191 [00:00<?, ?B/s]"
      ]
     },
     "metadata": {},
     "output_type": "display_data"
    },
    {
     "name": "stderr",
     "output_type": "stream",
     "text": [
      "Special tokens have been added in the vocabulary, make sure the associated word embeddings are fine-tuned or trained.\n"
     ]
    },
    {
     "data": {
      "application/vnd.jupyter.widget-view+json": {
       "model_id": "90ab6e49e28945348b28f6c568b96ba9",
       "version_major": 2,
       "version_minor": 0
      },
      "text/plain": [
       "Downloading shards:   0%|          | 0/2 [00:00<?, ?it/s]"
      ]
     },
     "metadata": {},
     "output_type": "display_data"
    },
    {
     "data": {
      "application/vnd.jupyter.widget-view+json": {
       "model_id": "3b85a62decce4e0c8e34762786e97427",
       "version_major": 2,
       "version_minor": 0
      },
      "text/plain": [
       "Loading checkpoint shards:   0%|          | 0/2 [00:00<?, ?it/s]"
      ]
     },
     "metadata": {},
     "output_type": "display_data"
    }
   ],
   "source": [
    "retriever_model = SentenceTransformer(\"BAAI/bge-m3\", device='cuda')\n",
    "retriever_model.max_seq_length = 512\n",
    "\n",
    "generator_model_name = 'hivaze/AAQG-QA-QG-FRED-T5-1.7B'\n",
    "generator_tokenizer = AutoTokenizer.from_pretrained(generator_model_name)\n",
    "generator_model = T5ForConditionalGeneration.from_pretrained(generator_model_name).cuda().eval()"
   ]
  },
  {
   "cell_type": "code",
   "execution_count": 3,
   "id": "dab60fd4-0a65-4bf9-bc35-ee336500ce14",
   "metadata": {
    "execution": {
     "iopub.execute_input": "2024-03-12T22:10:19.672029Z",
     "iopub.status.busy": "2024-03-12T22:10:19.671195Z",
     "iopub.status.idle": "2024-03-12T22:10:27.281151Z",
     "shell.execute_reply": "2024-03-12T22:10:27.279930Z",
     "shell.execute_reply.started": "2024-03-12T22:10:19.671979Z"
    },
    "tags": []
   },
   "outputs": [],
   "source": [
    "texts = pd.read_csv('documents (1).csv', header=None, names=['url','text'])\n",
    "texts = texts.dropna()\n",
    "texts['text'] = texts['text'].apply(lambda x: re.sub(' +', ' ', x))\n",
    "texts['text'] = texts['text'].apply(lambda x: re.sub('\\n+', '\\n', x))\n",
    "texts.url = texts.url.apply(lambda x: x if  x[-1] == '/' else x+'/')\n",
    "texts.text.apply(lambda x: x.replace(x[x.find('<!--'): x.rfind('-->')+3], '').replace('Complex', '').strip('\\n '))\n",
    "texts = texts.set_index('url')"
   ]
  },
  {
   "cell_type": "code",
   "execution_count": 4,
   "id": "f8b9d108-ab60-426d-8779-6978becc8079",
   "metadata": {
    "execution": {
     "iopub.execute_input": "2024-03-12T22:10:27.283812Z",
     "iopub.status.busy": "2024-03-12T22:10:27.282966Z",
     "iopub.status.idle": "2024-03-12T22:10:27.301008Z",
     "shell.execute_reply": "2024-03-12T22:10:27.300037Z",
     "shell.execute_reply.started": "2024-03-12T22:10:27.283749Z"
    },
    "tags": []
   },
   "outputs": [],
   "source": [
    "queries = pd.read_csv('Book1 (1).csv', sep=';')\n",
    "queries.site_id = queries.site_id.apply(lambda x: x if  x[-1] == '/' else x+'/')\n",
    "queries.site_id = queries.site_id.apply(lambda x: x if 'http://pravo.gov.ru' in x else 'https://cbr.ru' + x)"
   ]
  },
  {
   "cell_type": "code",
   "execution_count": 5,
   "id": "e7e687e2-43a3-4738-8e72-5166337d73ce",
   "metadata": {
    "execution": {
     "iopub.execute_input": "2024-03-12T22:10:27.302960Z",
     "iopub.status.busy": "2024-03-12T22:10:27.302314Z",
     "iopub.status.idle": "2024-03-12T22:10:27.315207Z",
     "shell.execute_reply": "2024-03-12T22:10:27.313975Z",
     "shell.execute_reply.started": "2024-03-12T22:10:27.302928Z"
    },
    "tags": []
   },
   "outputs": [],
   "source": [
    "chunker = Chunker(max_chunk_len=2500, overlap_len=500)\n",
    "generator = Generator(generator_tokenizer, generator_model, max_tokens=800)"
   ]
  },
  {
   "cell_type": "code",
   "execution_count": 6,
   "id": "9083bac2-c2d2-4f63-88e3-ae060c8da457",
   "metadata": {
    "execution": {
     "iopub.execute_input": "2024-03-12T22:10:27.317173Z",
     "iopub.status.busy": "2024-03-12T22:10:27.316591Z",
     "iopub.status.idle": "2024-03-12T22:10:45.806108Z",
     "shell.execute_reply": "2024-03-12T22:10:45.804999Z",
     "shell.execute_reply.started": "2024-03-12T22:10:27.317140Z"
    },
    "tags": []
   },
   "outputs": [
    {
     "data": {
      "text/plain": [
       "35230"
      ]
     },
     "execution_count": 6,
     "metadata": {},
     "output_type": "execute_result"
    }
   ],
   "source": [
    "chunks, urls = chunker.split_texts(texts)\n",
    "chunks, urls = np.array(chunks), np.array(urls)\n",
    "\n",
    "len(chunks)"
   ]
  },
  {
   "cell_type": "code",
   "execution_count": 7,
   "id": "39433596-3bb1-4eb0-8040-add81dc9207e",
   "metadata": {
    "execution": {
     "iopub.execute_input": "2024-03-12T22:10:45.808394Z",
     "iopub.status.busy": "2024-03-12T22:10:45.807683Z",
     "iopub.status.idle": "2024-03-12T22:10:45.975411Z",
     "shell.execute_reply": "2024-03-12T22:10:45.974044Z",
     "shell.execute_reply.started": "2024-03-12T22:10:45.808358Z"
    },
    "tags": []
   },
   "outputs": [
    {
     "data": {
      "text/plain": [
       "(35230, 1024)"
      ]
     },
     "execution_count": 7,
     "metadata": {},
     "output_type": "execute_result"
    }
   ],
   "source": [
    "embeddings = joblib.load('bge-m3-new-clear.pkl')\n",
    "embeddings.shape"
   ]
  },
  {
   "cell_type": "code",
   "execution_count": 8,
   "id": "66d9eab2-55c0-4218-b03a-12c20bfaea32",
   "metadata": {
    "execution": {
     "iopub.execute_input": "2024-03-12T22:10:45.980298Z",
     "iopub.status.busy": "2024-03-12T22:10:45.979570Z",
     "iopub.status.idle": "2024-03-12T22:10:46.001834Z",
     "shell.execute_reply": "2024-03-12T22:10:46.000556Z",
     "shell.execute_reply.started": "2024-03-12T22:10:45.980262Z"
    },
    "tags": []
   },
   "outputs": [],
   "source": [
    "# embeddings = model.encode(chunks, batch_size=32, normalize_embeddings=True, show_progress_bar=True)\n",
    "# joblib.dump(embeddings, 'bge-m3-new-clear.pkl')"
   ]
  },
  {
   "cell_type": "code",
   "execution_count": 9,
   "id": "e2209786-5b00-4ef3-b2e4-c76cf944a07f",
   "metadata": {
    "execution": {
     "iopub.execute_input": "2024-03-12T22:10:46.004383Z",
     "iopub.status.busy": "2024-03-12T22:10:46.003741Z",
     "iopub.status.idle": "2024-03-12T22:10:46.047280Z",
     "shell.execute_reply": "2024-03-12T22:10:46.045828Z",
     "shell.execute_reply.started": "2024-03-12T22:10:46.004339Z"
    },
    "tags": []
   },
   "outputs": [
    {
     "data": {
      "text/html": [
       "<style>#sk-container-id-1 {color: black;background-color: white;}#sk-container-id-1 pre{padding: 0;}#sk-container-id-1 div.sk-toggleable {background-color: white;}#sk-container-id-1 label.sk-toggleable__label {cursor: pointer;display: block;width: 100%;margin-bottom: 0;padding: 0.3em;box-sizing: border-box;text-align: center;}#sk-container-id-1 label.sk-toggleable__label-arrow:before {content: \"▸\";float: left;margin-right: 0.25em;color: #696969;}#sk-container-id-1 label.sk-toggleable__label-arrow:hover:before {color: black;}#sk-container-id-1 div.sk-estimator:hover label.sk-toggleable__label-arrow:before {color: black;}#sk-container-id-1 div.sk-toggleable__content {max-height: 0;max-width: 0;overflow: hidden;text-align: left;background-color: #f0f8ff;}#sk-container-id-1 div.sk-toggleable__content pre {margin: 0.2em;color: black;border-radius: 0.25em;background-color: #f0f8ff;}#sk-container-id-1 input.sk-toggleable__control:checked~div.sk-toggleable__content {max-height: 200px;max-width: 100%;overflow: auto;}#sk-container-id-1 input.sk-toggleable__control:checked~label.sk-toggleable__label-arrow:before {content: \"▾\";}#sk-container-id-1 div.sk-estimator input.sk-toggleable__control:checked~label.sk-toggleable__label {background-color: #d4ebff;}#sk-container-id-1 div.sk-label input.sk-toggleable__control:checked~label.sk-toggleable__label {background-color: #d4ebff;}#sk-container-id-1 input.sk-hidden--visually {border: 0;clip: rect(1px 1px 1px 1px);clip: rect(1px, 1px, 1px, 1px);height: 1px;margin: -1px;overflow: hidden;padding: 0;position: absolute;width: 1px;}#sk-container-id-1 div.sk-estimator {font-family: monospace;background-color: #f0f8ff;border: 1px dotted black;border-radius: 0.25em;box-sizing: border-box;margin-bottom: 0.5em;}#sk-container-id-1 div.sk-estimator:hover {background-color: #d4ebff;}#sk-container-id-1 div.sk-parallel-item::after {content: \"\";width: 100%;border-bottom: 1px solid gray;flex-grow: 1;}#sk-container-id-1 div.sk-label:hover label.sk-toggleable__label {background-color: #d4ebff;}#sk-container-id-1 div.sk-serial::before {content: \"\";position: absolute;border-left: 1px solid gray;box-sizing: border-box;top: 0;bottom: 0;left: 50%;z-index: 0;}#sk-container-id-1 div.sk-serial {display: flex;flex-direction: column;align-items: center;background-color: white;padding-right: 0.2em;padding-left: 0.2em;position: relative;}#sk-container-id-1 div.sk-item {position: relative;z-index: 1;}#sk-container-id-1 div.sk-parallel {display: flex;align-items: stretch;justify-content: center;background-color: white;position: relative;}#sk-container-id-1 div.sk-item::before, #sk-container-id-1 div.sk-parallel-item::before {content: \"\";position: absolute;border-left: 1px solid gray;box-sizing: border-box;top: 0;bottom: 0;left: 50%;z-index: -1;}#sk-container-id-1 div.sk-parallel-item {display: flex;flex-direction: column;z-index: 1;position: relative;background-color: white;}#sk-container-id-1 div.sk-parallel-item:first-child::after {align-self: flex-end;width: 50%;}#sk-container-id-1 div.sk-parallel-item:last-child::after {align-self: flex-start;width: 50%;}#sk-container-id-1 div.sk-parallel-item:only-child::after {width: 0;}#sk-container-id-1 div.sk-dashed-wrapped {border: 1px dashed gray;margin: 0 0.4em 0.5em 0.4em;box-sizing: border-box;padding-bottom: 0.4em;background-color: white;}#sk-container-id-1 div.sk-label label {font-family: monospace;font-weight: bold;display: inline-block;line-height: 1.2em;}#sk-container-id-1 div.sk-label-container {text-align: center;}#sk-container-id-1 div.sk-container {/* jupyter's `normalize.less` sets `[hidden] { display: none; }` but bootstrap.min.css set `[hidden] { display: none !important; }` so we also need the `!important` here to be able to override the default hidden behavior on the sphinx rendered scikit-learn.org. See: https://github.com/scikit-learn/scikit-learn/issues/21755 */display: inline-block !important;position: relative;}#sk-container-id-1 div.sk-text-repr-fallback {display: none;}</style><div id=\"sk-container-id-1\" class=\"sk-top-container\"><div class=\"sk-text-repr-fallback\"><pre>NearestNeighbors(metric=&#x27;cosine&#x27;)</pre><b>In a Jupyter environment, please rerun this cell to show the HTML representation or trust the notebook. <br />On GitHub, the HTML representation is unable to render, please try loading this page with nbviewer.org.</b></div><div class=\"sk-container\" hidden><div class=\"sk-item\"><div class=\"sk-estimator sk-toggleable\"><input class=\"sk-toggleable__control sk-hidden--visually\" id=\"sk-estimator-id-1\" type=\"checkbox\" checked><label for=\"sk-estimator-id-1\" class=\"sk-toggleable__label sk-toggleable__label-arrow\">NearestNeighbors</label><div class=\"sk-toggleable__content\"><pre>NearestNeighbors(metric=&#x27;cosine&#x27;)</pre></div></div></div></div></div>"
      ],
      "text/plain": [
       "NearestNeighbors(metric='cosine')"
      ]
     },
     "execution_count": 9,
     "metadata": {},
     "output_type": "execute_result"
    }
   ],
   "source": [
    "knn = NearestNeighbors(metric='cosine')\n",
    "knn.fit(embeddings)"
   ]
  },
  {
   "cell_type": "code",
   "execution_count": 10,
   "id": "b503cb0d-f6fe-4149-98ca-b1f4a071f662",
   "metadata": {
    "execution": {
     "iopub.execute_input": "2024-03-12T22:10:46.049678Z",
     "iopub.status.busy": "2024-03-12T22:10:46.048999Z",
     "iopub.status.idle": "2024-03-12T22:10:46.063525Z",
     "shell.execute_reply": "2024-03-12T22:10:46.062405Z",
     "shell.execute_reply.started": "2024-03-12T22:10:46.049644Z"
    },
    "tags": []
   },
   "outputs": [],
   "source": [
    "def retrieve(question, model, knn, chunks, urls):\n",
    "    skores, neighbors = knn.kneighbors(model.encode(question, batch_size=32, normalize_embeddings=True).reshape(1, -1), 3)\n",
    "    neighbors = neighbors.squeeze()\n",
    "    retrieved_texts = list(chunks[neighbors])\n",
    "    retrieved_urls = list(set(urls[neighbors]))\n",
    "    return retrieved_texts, retrieved_urls"
   ]
  },
  {
   "cell_type": "code",
   "execution_count": 11,
   "id": "0f81e181-668a-4222-aba9-00b97c9246dd",
   "metadata": {
    "execution": {
     "iopub.execute_input": "2024-03-12T22:10:46.065461Z",
     "iopub.status.busy": "2024-03-12T22:10:46.064973Z",
     "iopub.status.idle": "2024-03-12T22:10:46.097179Z",
     "shell.execute_reply": "2024-03-12T22:10:46.096062Z",
     "shell.execute_reply.started": "2024-03-12T22:10:46.065411Z"
    },
    "tags": []
   },
   "outputs": [
    {
     "data": {
      "text/plain": [
       "'Что такое ВЕБ.РФ?'"
      ]
     },
     "execution_count": 11,
     "metadata": {},
     "output_type": "execute_result"
    }
   ],
   "source": [
    "question = queries.question[6]\n",
    "question"
   ]
  },
  {
   "cell_type": "code",
   "execution_count": 12,
   "id": "3f4b874b-8aea-41de-8568-94ea9ebaab1b",
   "metadata": {
    "execution": {
     "iopub.execute_input": "2024-03-12T22:10:46.099407Z",
     "iopub.status.busy": "2024-03-12T22:10:46.098565Z",
     "iopub.status.idle": "2024-03-12T22:10:46.625615Z",
     "shell.execute_reply": "2024-03-12T22:10:46.623723Z",
     "shell.execute_reply.started": "2024-03-12T22:10:46.099358Z"
    },
    "tags": []
   },
   "outputs": [],
   "source": [
    "retrieved_texts, retrieved_urls = retrieve(question, retriever_model, knn, chunks, urls)"
   ]
  },
  {
   "cell_type": "code",
   "execution_count": 13,
   "id": "7f51ed8a-46d5-47e3-8c37-8a1b87f0c6b1",
   "metadata": {
    "execution": {
     "iopub.execute_input": "2024-03-12T22:10:46.629243Z",
     "iopub.status.busy": "2024-03-12T22:10:46.627798Z",
     "iopub.status.idle": "2024-03-12T22:10:48.566884Z",
     "shell.execute_reply": "2024-03-12T22:10:48.565723Z",
     "shell.execute_reply.started": "2024-03-12T22:10:46.629178Z"
    },
    "tags": []
   },
   "outputs": [
    {
     "name": "stdout",
     "output_type": "stream",
     "text": [
      "Государственная корпорация развития \"ВЭБ.РФ\".\n",
      "\n",
      "Использованные документы:\n",
      "1) http://pravo.gov.ru/proxy/ips/?docbody=&nd=102114195/ \n",
      "\n"
     ]
    }
   ],
   "source": [
    "print(generator.get_answer(question, retrieved_texts, retrieved_urls, temperature=0.8))"
   ]
  },
  {
   "cell_type": "code",
   "execution_count": null,
   "id": "5e3ce5a2-eb20-4d6f-92e3-5c4d958e8be6",
   "metadata": {},
   "outputs": [],
   "source": []
  }
 ],
 "metadata": {
  "kernelspec": {
   "display_name": "DataSphere Kernel",
   "language": "python",
   "name": "python3"
  },
  "language_info": {
   "codemirror_mode": {
    "name": "ipython",
    "version": 3
   },
   "file_extension": ".py",
   "mimetype": "text/x-python",
   "name": "python",
   "nbconvert_exporter": "python",
   "pygments_lexer": "ipython3",
   "version": "3.7.7"
  }
 },
 "nbformat": 4,
 "nbformat_minor": 5
}
