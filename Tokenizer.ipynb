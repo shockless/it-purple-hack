{
 "cells": [
  {
   "cell_type": "code",
   "execution_count": 9,
   "id": "d6b62680-fd7a-47a0-a5f4-0f7a42c11368",
   "metadata": {
    "execution": {
     "iopub.execute_input": "2024-03-13T12:30:02.175517Z",
     "iopub.status.busy": "2024-03-13T12:30:02.174577Z",
     "iopub.status.idle": "2024-03-13T12:30:02.253496Z",
     "shell.execute_reply": "2024-03-13T12:30:02.252319Z",
     "shell.execute_reply.started": "2024-03-13T12:30:02.175473Z"
    },
    "tags": []
   },
   "outputs": [
    {
     "name": "stderr",
     "output_type": "stream",
     "text": [
      "[nltk_data] Downloading package punkt to /home/jupyter/nltk_data...\n",
      "[nltk_data]   Package punkt is already up-to-date!\n"
     ]
    },
    {
     "data": {
      "text/plain": [
       "True"
      ]
     },
     "execution_count": 9,
     "metadata": {},
     "output_type": "execute_result"
    }
   ],
   "source": [
    "import torch\n",
    "import numpy as np\n",
    "import pandas as pd\n",
    "import re\n",
    "import torch\n",
    "import sklearn\n",
    "import nltk\n",
    "import joblib\n",
    "import pandas as pd\n",
    "\n",
    "from transformers import GPT2Tokenizer, T5ForConditionalGeneration \n",
    "from transformers import AutoTokenizer, T5ForConditionalGeneration\n",
    "from transformers import set_seed\n",
    "\n",
    "import clickhouse_connect\n",
    "\n",
    "from sentence_transformers import SentenceTransformer\n",
    "\n",
    "from sklearn.neighbors import NearestNeighbors\n",
    "\n",
    "from utils.utils import Chunker, Generator, Retriever\n",
    "from utils.llm_config import GenerationConfig\n",
    "\n",
    "device = 'cuda'\n",
    "\n",
    "set_seed(42)\n",
    "\n",
    "nltk.download('punkt')\n",
    "torch.cuda.is_available()"
   ]
  },
  {
   "cell_type": "code",
   "execution_count": 2,
   "id": "7fd7cc76-76fc-43cb-ab6e-fd5c09635fd4",
   "metadata": {
    "execution": {
     "iopub.execute_input": "2024-03-13T12:29:21.971420Z",
     "iopub.status.busy": "2024-03-13T12:29:21.970363Z",
     "iopub.status.idle": "2024-03-13T12:29:22.023820Z",
     "shell.execute_reply": "2024-03-13T12:29:22.022522Z",
     "shell.execute_reply.started": "2024-03-13T12:29:21.971352Z"
    },
    "tags": []
   },
   "outputs": [],
   "source": [
    "client = clickhouse_connect.get_client(host='62.84.115.43', port=8123, username='default', password='g5oHPYX4', database='dev')"
   ]
  },
  {
   "cell_type": "code",
   "execution_count": 3,
   "id": "c9323b92-8a61-4b4d-96d2-aa429636364f",
   "metadata": {
    "execution": {
     "iopub.execute_input": "2024-03-13T12:29:22.025975Z",
     "iopub.status.busy": "2024-03-13T12:29:22.025157Z",
     "iopub.status.idle": "2024-03-13T12:29:34.449Z",
     "shell.execute_reply": "2024-03-13T12:29:34.447783Z",
     "shell.execute_reply.started": "2024-03-13T12:29:22.025939Z"
    },
    "tags": []
   },
   "outputs": [
    {
     "data": {
      "application/vnd.jupyter.widget-view+json": {
       "model_id": "9220fda27d5d4357a439ed9bd08e6ad2",
       "version_major": 2,
       "version_minor": 0
      },
      "text/plain": [
       "modules.json:   0%|          | 0.00/349 [00:00<?, ?B/s]"
      ]
     },
     "metadata": {},
     "output_type": "display_data"
    },
    {
     "data": {
      "application/vnd.jupyter.widget-view+json": {
       "model_id": "9c4b0719e0a2473fa7d29a525f0e036f",
       "version_major": 2,
       "version_minor": 0
      },
      "text/plain": [
       "config_sentence_transformers.json:   0%|          | 0.00/123 [00:00<?, ?B/s]"
      ]
     },
     "metadata": {},
     "output_type": "display_data"
    },
    {
     "data": {
      "application/vnd.jupyter.widget-view+json": {
       "model_id": "56ccadb0f7994a5284dfabd071b2c381",
       "version_major": 2,
       "version_minor": 0
      },
      "text/plain": [
       "README.md:   0%|          | 0.00/15.3k [00:00<?, ?B/s]"
      ]
     },
     "metadata": {},
     "output_type": "display_data"
    },
    {
     "data": {
      "application/vnd.jupyter.widget-view+json": {
       "model_id": "7f00b4a7757b4417adb1e21736ceb52a",
       "version_major": 2,
       "version_minor": 0
      },
      "text/plain": [
       "sentence_bert_config.json:   0%|          | 0.00/54.0 [00:00<?, ?B/s]"
      ]
     },
     "metadata": {},
     "output_type": "display_data"
    },
    {
     "data": {
      "application/vnd.jupyter.widget-view+json": {
       "model_id": "045ff0b3fd0b44d3912414eea3a6f367",
       "version_major": 2,
       "version_minor": 0
      },
      "text/plain": [
       "1_Pooling/config.json:   0%|          | 0.00/191 [00:00<?, ?B/s]"
      ]
     },
     "metadata": {},
     "output_type": "display_data"
    },
    {
     "name": "stderr",
     "output_type": "stream",
     "text": [
      "Special tokens have been added in the vocabulary, make sure the associated word embeddings are fine-tuned or trained.\n"
     ]
    },
    {
     "data": {
      "application/vnd.jupyter.widget-view+json": {
       "model_id": "752e3eee1c704d7b87634c6bee93eb08",
       "version_major": 2,
       "version_minor": 0
      },
      "text/plain": [
       "Downloading shards:   0%|          | 0/2 [00:00<?, ?it/s]"
      ]
     },
     "metadata": {},
     "output_type": "display_data"
    },
    {
     "data": {
      "application/vnd.jupyter.widget-view+json": {
       "model_id": "29ed5265c29743d382ffaa5ff6685f4d",
       "version_major": 2,
       "version_minor": 0
      },
      "text/plain": [
       "Loading checkpoint shards:   0%|          | 0/2 [00:00<?, ?it/s]"
      ]
     },
     "metadata": {},
     "output_type": "display_data"
    }
   ],
   "source": [
    "retriever_model = SentenceTransformer(\"BAAI/bge-m3\", device='cuda')\n",
    "retriever_model.max_seq_length = 512\n",
    "\n",
    "generator_model_name = 'hivaze/AAQG-QA-QG-FRED-T5-1.7B'\n",
    "generator_tokenizer = AutoTokenizer.from_pretrained(generator_model_name)\n",
    "generator_model = T5ForConditionalGeneration.from_pretrained(generator_model_name).cuda().eval()"
   ]
  },
  {
   "cell_type": "code",
   "execution_count": 6,
   "id": "dab60fd4-0a65-4bf9-bc35-ee336500ce14",
   "metadata": {
    "execution": {
     "iopub.execute_input": "2024-03-13T12:29:48.929717Z",
     "iopub.status.busy": "2024-03-13T12:29:48.928761Z",
     "iopub.status.idle": "2024-03-13T12:29:48.943467Z",
     "shell.execute_reply": "2024-03-13T12:29:48.942194Z",
     "shell.execute_reply.started": "2024-03-13T12:29:48.929675Z"
    },
    "tags": []
   },
   "outputs": [],
   "source": [
    "generator_config = GenerationConfig()\n",
    "generator = Generator(generator_tokenizer, generator_model, config=generator_config)"
   ]
  },
  {
   "cell_type": "code",
   "execution_count": 7,
   "id": "f8b9d108-ab60-426d-8779-6978becc8079",
   "metadata": {
    "execution": {
     "iopub.execute_input": "2024-03-13T12:29:51.546672Z",
     "iopub.status.busy": "2024-03-13T12:29:51.545727Z",
     "iopub.status.idle": "2024-03-13T12:29:51.576143Z",
     "shell.execute_reply": "2024-03-13T12:29:51.574980Z",
     "shell.execute_reply.started": "2024-03-13T12:29:51.546630Z"
    },
    "tags": []
   },
   "outputs": [],
   "source": [
    "queries = pd.read_csv('Book1 (1).csv', sep=';')\n",
    "queries.site_id = queries.site_id.apply(lambda x: x if  x[-1] == '/' else x+'/')\n",
    "queries.site_id = queries.site_id.apply(lambda x: x if 'http://pravo.gov.ru' in x else 'https://cbr.ru' + x)"
   ]
  },
  {
   "cell_type": "code",
   "execution_count": 12,
   "id": "e4aff98b-fabb-4449-8977-7ed50d367d80",
   "metadata": {
    "execution": {
     "iopub.execute_input": "2024-03-13T12:30:30.868745Z",
     "iopub.status.busy": "2024-03-13T12:30:30.867942Z",
     "iopub.status.idle": "2024-03-13T12:30:31.049544Z",
     "shell.execute_reply": "2024-03-13T12:30:31.048362Z",
     "shell.execute_reply.started": "2024-03-13T12:30:30.868710Z"
    }
   },
   "outputs": [
    {
     "data": {
      "text/html": [
       "<div>\n",
       "<style scoped>\n",
       "    .dataframe tbody tr th:only-of-type {\n",
       "        vertical-align: middle;\n",
       "    }\n",
       "\n",
       "    .dataframe tbody tr th {\n",
       "        vertical-align: top;\n",
       "    }\n",
       "\n",
       "    .dataframe thead th {\n",
       "        text-align: right;\n",
       "    }\n",
       "</style>\n",
       "<table border=\"1\" class=\"dataframe\">\n",
       "  <thead>\n",
       "    <tr style=\"text-align: right;\">\n",
       "      <th></th>\n",
       "      <th>site_id</th>\n",
       "      <th>question</th>\n",
       "    </tr>\n",
       "  </thead>\n",
       "  <tbody>\n",
       "    <tr>\n",
       "      <th>0</th>\n",
       "      <td>https://cbr.ru/Crosscut/LawActs/File/6620/</td>\n",
       "      <td>Кто может принимать участие в закупках Банка Р...</td>\n",
       "    </tr>\n",
       "    <tr>\n",
       "      <th>1</th>\n",
       "      <td>https://cbr.ru/Queries/UniDbQuery/File/90134/2...</td>\n",
       "      <td>Cроки предоставления информации об активах и о...</td>\n",
       "    </tr>\n",
       "    <tr>\n",
       "      <th>2</th>\n",
       "      <td>https://cbr.ru/Queries/UniDbQuery/File/90002/12/</td>\n",
       "      <td>Что считается уровнем риска?</td>\n",
       "    </tr>\n",
       "    <tr>\n",
       "      <th>3</th>\n",
       "      <td>https://cbr.ru/Queries/UniDbQuery/File/90002/12/</td>\n",
       "      <td>Какими видами рисков обязательно должен управл...</td>\n",
       "    </tr>\n",
       "    <tr>\n",
       "      <th>4</th>\n",
       "      <td>https://cbr.ru/Crosscut/LawActs/File/6144/</td>\n",
       "      <td>На какие банковские операции распространяется ...</td>\n",
       "    </tr>\n",
       "    <tr>\n",
       "      <th>5</th>\n",
       "      <td>http://pravo.gov.ru/proxy/ips/?docbody=&amp;prevDo...</td>\n",
       "      <td>Регионы проведения эксперимента по партнерском...</td>\n",
       "    </tr>\n",
       "    <tr>\n",
       "      <th>6</th>\n",
       "      <td>http://pravo.gov.ru/proxy/ips/?docbody=&amp;nd=102...</td>\n",
       "      <td>Что такое ВЕБ.РФ?</td>\n",
       "    </tr>\n",
       "    <tr>\n",
       "      <th>7</th>\n",
       "      <td>http://pravo.gov.ru/proxy/ips/?docbody=&amp;nd=102...</td>\n",
       "      <td>Какие полномочия у председателя ВЭБ.РФ?</td>\n",
       "    </tr>\n",
       "    <tr>\n",
       "      <th>8</th>\n",
       "      <td>https://cbr.ru/Queries/UniDbQuery/File/90002/49/</td>\n",
       "      <td>Какие условия совершения операций по выдаче ми...</td>\n",
       "    </tr>\n",
       "  </tbody>\n",
       "</table>\n",
       "</div>"
      ],
      "text/plain": [
       "                                             site_id                                           question\n",
       "0         https://cbr.ru/Crosscut/LawActs/File/6620/  Кто может принимать участие в закупках Банка Р...\n",
       "1  https://cbr.ru/Queries/UniDbQuery/File/90134/2...  Cроки предоставления информации об активах и о...\n",
       "2   https://cbr.ru/Queries/UniDbQuery/File/90002/12/                       Что считается уровнем риска?\n",
       "3   https://cbr.ru/Queries/UniDbQuery/File/90002/12/  Какими видами рисков обязательно должен управл...\n",
       "4         https://cbr.ru/Crosscut/LawActs/File/6144/  На какие банковские операции распространяется ...\n",
       "5  http://pravo.gov.ru/proxy/ips/?docbody=&prevDo...  Регионы проведения эксперимента по партнерском...\n",
       "6  http://pravo.gov.ru/proxy/ips/?docbody=&nd=102...                                  Что такое ВЕБ.РФ?\n",
       "7  http://pravo.gov.ru/proxy/ips/?docbody=&nd=102...            Какие полномочия у председателя ВЭБ.РФ?\n",
       "8   https://cbr.ru/Queries/UniDbQuery/File/90002/49/  Какие условия совершения операций по выдаче ми..."
      ]
     },
     "execution_count": 12,
     "metadata": {},
     "output_type": "execute_result"
    }
   ],
   "source": [
    "queries"
   ]
  },
  {
   "cell_type": "markdown",
   "id": "580c71d6-56a5-45a9-a310-e9e905f5bd93",
   "metadata": {
    "jp-MarkdownHeadingCollapsed": true,
    "tags": []
   },
   "source": [
    "## Chunker"
   ]
  },
  {
   "cell_type": "code",
   "execution_count": null,
   "id": "9ad4e082-1f0d-4dbe-be69-d46c4b0cf161",
   "metadata": {
    "tags": []
   },
   "outputs": [],
   "source": [
    "chunker = Chunker(max_chunk_len=2500, overlap_len=500)\n",
    "\n",
    "texts = client.query_df('select * from document').set_index('url')\n",
    "chunks, urls = chunker.split_texts(texts)\n",
    "client.insert(table='chunk', data=[chunks, urls], column_names=['text', 'url'], column_oriented=True)\n",
    "chunks_df = client.query_df('select * from chunk').set_index('uuid')\n",
    "embeddings = retriever_model.encode(chunks_df.text, batch_size=32, normalize_embeddings=True, show_progress_bar=True)\n",
    "client.insert(table='chunk_embedding', data=[chunks_df.index.tolist(), embeddings.tolist()], column_names=['chunk_uuid', 'embedding'], column_oriented=True)"
   ]
  },
  {
   "cell_type": "markdown",
   "id": "9c1bcde1-3155-41e0-8c16-5e1ece2a5324",
   "metadata": {},
   "source": [
    "## Retriever & Generator"
   ]
  },
  {
   "cell_type": "code",
   "execution_count": 10,
   "id": "ef0788da-0085-41ca-8ce2-7caa7e7d772d",
   "metadata": {
    "execution": {
     "iopub.execute_input": "2024-03-13T12:30:04.554147Z",
     "iopub.status.busy": "2024-03-13T12:30:04.553112Z",
     "iopub.status.idle": "2024-03-13T12:30:04.572140Z",
     "shell.execute_reply": "2024-03-13T12:30:04.570939Z",
     "shell.execute_reply.started": "2024-03-13T12:30:04.554094Z"
    },
    "tags": []
   },
   "outputs": [],
   "source": [
    "retriever = Retriever(retriever_model, client)"
   ]
  },
  {
   "cell_type": "code",
   "execution_count": 28,
   "id": "ff2870da-7f50-4606-9801-b54838513367",
   "metadata": {
    "execution": {
     "iopub.execute_input": "2024-03-13T12:33:20.800622Z",
     "iopub.status.busy": "2024-03-13T12:33:20.799638Z",
     "iopub.status.idle": "2024-03-13T12:33:20.823453Z",
     "shell.execute_reply": "2024-03-13T12:33:20.822158Z",
     "shell.execute_reply.started": "2024-03-13T12:33:20.800567Z"
    },
    "tags": []
   },
   "outputs": [],
   "source": [
    "question = queries.question.sample(1).item()"
   ]
  },
  {
   "cell_type": "code",
   "execution_count": 31,
   "id": "9f88ac46-528f-41d1-aa3d-f08c74efbdea",
   "metadata": {
    "execution": {
     "iopub.execute_input": "2024-03-13T12:33:46.910238Z",
     "iopub.status.busy": "2024-03-13T12:33:46.909225Z",
     "iopub.status.idle": "2024-03-13T12:33:46.925150Z",
     "shell.execute_reply": "2024-03-13T12:33:46.924080Z",
     "shell.execute_reply.started": "2024-03-13T12:33:46.910197Z"
    }
   },
   "outputs": [
    {
     "data": {
      "text/plain": [
       "'Cроки предоставления информации об активах и обязательствах резидентом-экспортером'"
      ]
     },
     "execution_count": 31,
     "metadata": {},
     "output_type": "execute_result"
    }
   ],
   "source": [
    "question"
   ]
  },
  {
   "cell_type": "code",
   "execution_count": 32,
   "id": "7f51ed8a-46d5-47e3-8c37-8a1b87f0c6b1",
   "metadata": {
    "execution": {
     "iopub.execute_input": "2024-03-13T12:33:57.123230Z",
     "iopub.status.busy": "2024-03-13T12:33:57.122336Z",
     "iopub.status.idle": "2024-03-13T12:33:59.800918Z",
     "shell.execute_reply": "2024-03-13T12:33:59.799703Z",
     "shell.execute_reply.started": "2024-03-13T12:33:57.123155Z"
    },
    "tags": []
   },
   "outputs": [
    {
     "name": "stdout",
     "output_type": "stream",
     "text": [
      "В срок не позднее пятнадцати рабочих дней после дня окончания календарного месяца.\n",
      "\n",
      "Использованные документы:\n",
      "1) https://cbr.ru/Queries/UniDbQuery/File/90134/2518/ \n",
      "2) http://pravo.gov.ru/proxy/ips/?docbody=&nd=102084553 \n",
      "\n"
     ]
    }
   ],
   "source": [
    "print(generator.get_answer(question, *retriever.get_neighbors(question), temperature=0.8))"
   ]
  },
  {
   "cell_type": "code",
   "execution_count": null,
   "id": "86e9383f-0c8a-4f5b-bd58-6d13547248da",
   "metadata": {},
   "outputs": [],
   "source": []
  }
 ],
 "metadata": {
  "kernelspec": {
   "display_name": "DataSphere Kernel",
   "language": "python",
   "name": "python3"
  },
  "language_info": {
   "codemirror_mode": {
    "name": "ipython",
    "version": 3
   },
   "file_extension": ".py",
   "mimetype": "text/x-python",
   "name": "python",
   "nbconvert_exporter": "python",
   "pygments_lexer": "ipython3",
   "version": "3.7.7"
  }
 },
 "nbformat": 4,
 "nbformat_minor": 5
}
