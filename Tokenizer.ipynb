{
 "cells": [
  {
   "cell_type": "code",
   "execution_count": 1,
   "id": "d6b62680-fd7a-47a0-a5f4-0f7a42c11368",
   "metadata": {
    "execution": {
     "iopub.execute_input": "2024-03-13T18:21:52.409827Z",
     "iopub.status.busy": "2024-03-13T18:21:52.408985Z",
     "iopub.status.idle": "2024-03-13T18:22:04.908718Z",
     "shell.execute_reply": "2024-03-13T18:22:04.907807Z",
     "shell.execute_reply.started": "2024-03-13T18:21:52.409781Z"
    },
    "tags": []
   },
   "outputs": [
    {
     "name": "stderr",
     "output_type": "stream",
     "text": [
      "/home/jupyter/.local/lib/python3.10/site-packages/transformers/utils/hub.py:124: FutureWarning: Using `TRANSFORMERS_CACHE` is deprecated and will be removed in v5 of Transformers. Use `HF_HOME` instead.\n",
      "  warnings.warn(\n",
      "2024-03-13 18:22:02.627578: W tensorflow/compiler/tf2tensorrt/utils/py_utils.cc:38] TF-TRT Warning: Could not find TensorRT\n",
      "[nltk_data] Downloading package punkt to /home/jupyter/nltk_data...\n",
      "[nltk_data]   Package punkt is already up-to-date!\n"
     ]
    },
    {
     "data": {
      "text/plain": [
       "True"
      ]
     },
     "execution_count": 1,
     "metadata": {},
     "output_type": "execute_result"
    }
   ],
   "source": [
    "import torch\n",
    "import numpy as np\n",
    "import pandas as pd\n",
    "import re\n",
    "import torch\n",
    "import sklearn\n",
    "import nltk\n",
    "import joblib\n",
    "import pandas as pd\n",
    "\n",
    "from transformers import GPT2Tokenizer, T5ForConditionalGeneration \n",
    "from transformers import AutoTokenizer, T5ForConditionalGeneration\n",
    "from transformers import set_seed\n",
    "\n",
    "import clickhouse_connect\n",
    "\n",
    "from sentence_transformers import SentenceTransformer\n",
    "from FlagEmbedding import BGEM3FlagModel\n",
    "\n",
    "from sklearn.neighbors import NearestNeighbors\n",
    "\n",
    "from utils.utils import Chunker, Generator, Retriever\n",
    "from utils.llm_config import GenerationConfig\n",
    "\n",
    "device = 'cuda'\n",
    "\n",
    "set_seed(42)\n",
    "\n",
    "nltk.download('punkt')\n",
    "torch.cuda.is_available()"
   ]
  },
  {
   "cell_type": "code",
   "execution_count": 2,
   "id": "7fd7cc76-76fc-43cb-ab6e-fd5c09635fd4",
   "metadata": {
    "execution": {
     "iopub.execute_input": "2024-03-13T18:22:04.911711Z",
     "iopub.status.busy": "2024-03-13T18:22:04.910434Z",
     "iopub.status.idle": "2024-03-13T18:22:04.949737Z",
     "shell.execute_reply": "2024-03-13T18:22:04.948964Z",
     "shell.execute_reply.started": "2024-03-13T18:22:04.911653Z"
    },
    "tags": []
   },
   "outputs": [],
   "source": [
    "client = clickhouse_connect.get_client(host='62.84.115.43', port=8123, username='default', password='g5oHPYX4', database='dev')"
   ]
  },
  {
   "cell_type": "code",
   "execution_count": 3,
   "id": "59873c3b-7b51-4775-877a-96a92868bfed",
   "metadata": {
    "execution": {
     "iopub.execute_input": "2024-03-13T18:22:04.952682Z",
     "iopub.status.busy": "2024-03-13T18:22:04.952064Z",
     "iopub.status.idle": "2024-03-13T18:23:44.987803Z",
     "shell.execute_reply": "2024-03-13T18:23:44.986699Z",
     "shell.execute_reply.started": "2024-03-13T18:22:04.952640Z"
    },
    "tags": []
   },
   "outputs": [
    {
     "data": {
      "application/vnd.jupyter.widget-view+json": {
       "model_id": "85473522186a48b5a2e697ac86801483",
       "version_major": 2,
       "version_minor": 0
      },
      "text/plain": [
       "Fetching 23 files:   0%|          | 0/23 [00:00<?, ?it/s]"
      ]
     },
     "metadata": {},
     "output_type": "display_data"
    },
    {
     "data": {
      "application/vnd.jupyter.widget-view+json": {
       "model_id": "95da65533118471d85eed3080c0da25f",
       "version_major": 2,
       "version_minor": 0
      },
      "text/plain": [
       "imgs/.DS_Store:   0%|          | 0.00/6.15k [00:00<?, ?B/s]"
      ]
     },
     "metadata": {},
     "output_type": "display_data"
    },
    {
     "data": {
      "application/vnd.jupyter.widget-view+json": {
       "model_id": "6afbdf468a6146c493367612f174d85b",
       "version_major": 2,
       "version_minor": 0
      },
      "text/plain": [
       "imgs/bm25.jpg:   0%|          | 0.00/69.0k [00:00<?, ?B/s]"
      ]
     },
     "metadata": {},
     "output_type": "display_data"
    },
    {
     "data": {
      "application/vnd.jupyter.widget-view+json": {
       "model_id": "6f0c4df484d74b6c9d04d32da1f5a1c2",
       "version_major": 2,
       "version_minor": 0
      },
      "text/plain": [
       "config_sentence_transformers.json:   0%|          | 0.00/123 [00:00<?, ?B/s]"
      ]
     },
     "metadata": {},
     "output_type": "display_data"
    },
    {
     "data": {
      "application/vnd.jupyter.widget-view+json": {
       "model_id": "410c19def4654b7c88ec32545544f3b1",
       "version_major": 2,
       "version_minor": 0
      },
      "text/plain": [
       "1_Pooling/config.json:   0%|          | 0.00/191 [00:00<?, ?B/s]"
      ]
     },
     "metadata": {},
     "output_type": "display_data"
    },
    {
     "data": {
      "application/vnd.jupyter.widget-view+json": {
       "model_id": "e61559f4333f425e9b1c83b615ce0fd6",
       "version_major": 2,
       "version_minor": 0
      },
      "text/plain": [
       ".gitattributes:   0%|          | 0.00/1.57k [00:00<?, ?B/s]"
      ]
     },
     "metadata": {},
     "output_type": "display_data"
    },
    {
     "data": {
      "application/vnd.jupyter.widget-view+json": {
       "model_id": "3f4dc75071b448ee98fdeedbd79b3121",
       "version_major": 2,
       "version_minor": 0
      },
      "text/plain": [
       "README.md:   0%|          | 0.00/15.3k [00:00<?, ?B/s]"
      ]
     },
     "metadata": {},
     "output_type": "display_data"
    },
    {
     "data": {
      "application/vnd.jupyter.widget-view+json": {
       "model_id": "b48413082c9a43a2b5cfcc90edc5fcfe",
       "version_major": 2,
       "version_minor": 0
      },
      "text/plain": [
       "colbert_linear.pt:   0%|          | 0.00/2.10M [00:00<?, ?B/s]"
      ]
     },
     "metadata": {},
     "output_type": "display_data"
    },
    {
     "data": {
      "application/vnd.jupyter.widget-view+json": {
       "model_id": "67cbc20bd7dd47f193bf4af942ecf21e",
       "version_major": 2,
       "version_minor": 0
      },
      "text/plain": [
       "config.json:   0%|          | 0.00/687 [00:00<?, ?B/s]"
      ]
     },
     "metadata": {},
     "output_type": "display_data"
    },
    {
     "data": {
      "application/vnd.jupyter.widget-view+json": {
       "model_id": "04c75fe2c5584560bd4ac759a1b603f4",
       "version_major": 2,
       "version_minor": 0
      },
      "text/plain": [
       "imgs/miracl.jpg:   0%|          | 0.00/448k [00:00<?, ?B/s]"
      ]
     },
     "metadata": {},
     "output_type": "display_data"
    },
    {
     "data": {
      "application/vnd.jupyter.widget-view+json": {
       "model_id": "11fa9f87ded140cfb6c8f99e667683da",
       "version_major": 2,
       "version_minor": 0
      },
      "text/plain": [
       "imgs/nqa.jpg:   0%|          | 0.00/158k [00:00<?, ?B/s]"
      ]
     },
     "metadata": {},
     "output_type": "display_data"
    },
    {
     "data": {
      "application/vnd.jupyter.widget-view+json": {
       "model_id": "de8e363473d04731917afc5aa0b3986a",
       "version_major": 2,
       "version_minor": 0
      },
      "text/plain": [
       "imgs/mkqa.jpg:   0%|          | 0.00/608k [00:00<?, ?B/s]"
      ]
     },
     "metadata": {},
     "output_type": "display_data"
    },
    {
     "data": {
      "application/vnd.jupyter.widget-view+json": {
       "model_id": "d44800f048834fe4884b1038bcb43fe3",
       "version_major": 2,
       "version_minor": 0
      },
      "text/plain": [
       "imgs/long.jpg:   0%|          | 0.00/485k [00:00<?, ?B/s]"
      ]
     },
     "metadata": {},
     "output_type": "display_data"
    },
    {
     "data": {
      "application/vnd.jupyter.widget-view+json": {
       "model_id": "b43c018b623f4a7eba261f1ef30c92af",
       "version_major": 2,
       "version_minor": 0
      },
      "text/plain": [
       "long.jpg:   0%|          | 0.00/127k [00:00<?, ?B/s]"
      ]
     },
     "metadata": {},
     "output_type": "display_data"
    },
    {
     "data": {
      "application/vnd.jupyter.widget-view+json": {
       "model_id": "b39c62b9e13a42a18d04ad82109d277b",
       "version_major": 2,
       "version_minor": 0
      },
      "text/plain": [
       "model.safetensors:   0%|          | 0.00/2.27G [00:00<?, ?B/s]"
      ]
     },
     "metadata": {},
     "output_type": "display_data"
    },
    {
     "data": {
      "application/vnd.jupyter.widget-view+json": {
       "model_id": "cf722c87996947e486d9b0d481458046",
       "version_major": 2,
       "version_minor": 0
      },
      "text/plain": [
       "imgs/others.webp:   0%|          | 0.00/21.0k [00:00<?, ?B/s]"
      ]
     },
     "metadata": {},
     "output_type": "display_data"
    },
    {
     "data": {
      "application/vnd.jupyter.widget-view+json": {
       "model_id": "dc4e5e4845804f9397cb170a318133a9",
       "version_major": 2,
       "version_minor": 0
      },
      "text/plain": [
       "modules.json:   0%|          | 0.00/349 [00:00<?, ?B/s]"
      ]
     },
     "metadata": {},
     "output_type": "display_data"
    },
    {
     "data": {
      "application/vnd.jupyter.widget-view+json": {
       "model_id": "c0529d736ba34dac9dac41499b275329",
       "version_major": 2,
       "version_minor": 0
      },
      "text/plain": [
       "sentence_bert_config.json:   0%|          | 0.00/54.0 [00:00<?, ?B/s]"
      ]
     },
     "metadata": {},
     "output_type": "display_data"
    },
    {
     "data": {
      "application/vnd.jupyter.widget-view+json": {
       "model_id": "779d94de58194a6786b37bbb2af5181b",
       "version_major": 2,
       "version_minor": 0
      },
      "text/plain": [
       "pytorch_model.bin:   0%|          | 0.00/2.27G [00:00<?, ?B/s]"
      ]
     },
     "metadata": {},
     "output_type": "display_data"
    },
    {
     "data": {
      "application/vnd.jupyter.widget-view+json": {
       "model_id": "e5576895b6964603ba70c36174f9072d",
       "version_major": 2,
       "version_minor": 0
      },
      "text/plain": [
       "special_tokens_map.json:   0%|          | 0.00/964 [00:00<?, ?B/s]"
      ]
     },
     "metadata": {},
     "output_type": "display_data"
    },
    {
     "data": {
      "application/vnd.jupyter.widget-view+json": {
       "model_id": "2e5d1207b34141e89b5eea8d0a7831b8",
       "version_major": 2,
       "version_minor": 0
      },
      "text/plain": [
       "tokenizer_config.json:   0%|          | 0.00/1.31k [00:00<?, ?B/s]"
      ]
     },
     "metadata": {},
     "output_type": "display_data"
    },
    {
     "data": {
      "application/vnd.jupyter.widget-view+json": {
       "model_id": "d2d6a8e89e774a28ae658ef4e8e467d8",
       "version_major": 2,
       "version_minor": 0
      },
      "text/plain": [
       "sentencepiece.bpe.model:   0%|          | 0.00/5.07M [00:00<?, ?B/s]"
      ]
     },
     "metadata": {},
     "output_type": "display_data"
    },
    {
     "data": {
      "application/vnd.jupyter.widget-view+json": {
       "model_id": "eeac2e65773d46659e4cb11c912b6225",
       "version_major": 2,
       "version_minor": 0
      },
      "text/plain": [
       "tokenizer.json:   0%|          | 0.00/17.1M [00:00<?, ?B/s]"
      ]
     },
     "metadata": {},
     "output_type": "display_data"
    },
    {
     "data": {
      "application/vnd.jupyter.widget-view+json": {
       "model_id": "91267ebbd37846f9b274468227c3a6c5",
       "version_major": 2,
       "version_minor": 0
      },
      "text/plain": [
       "sparse_linear.pt:   0%|          | 0.00/3.52k [00:00<?, ?B/s]"
      ]
     },
     "metadata": {},
     "output_type": "display_data"
    },
    {
     "name": "stdout",
     "output_type": "stream",
     "text": [
      "loading existing colbert_linear and sparse_linear---------\n"
     ]
    }
   ],
   "source": [
    "bge_retriever_model = BGEM3FlagModel('BAAI/bge-m3', use_fp16=True, pooling_method=\"cls\")"
   ]
  },
  {
   "cell_type": "code",
   "execution_count": null,
   "id": "c9323b92-8a61-4b4d-96d2-aa429636364f",
   "metadata": {
    "execution": {
     "iopub.execute_input": "2024-03-13T18:23:44.990227Z",
     "iopub.status.busy": "2024-03-13T18:23:44.989554Z"
    },
    "tags": []
   },
   "outputs": [
    {
     "data": {
      "application/vnd.jupyter.widget-view+json": {
       "model_id": "de708ff4033c43198d40763b30b83c2b",
       "version_major": 2,
       "version_minor": 0
      },
      "text/plain": [
       "modules.json:   0%|          | 0.00/387 [00:00<?, ?B/s]"
      ]
     },
     "metadata": {},
     "output_type": "display_data"
    },
    {
     "data": {
      "application/vnd.jupyter.widget-view+json": {
       "model_id": "c8dededb461b434cb86df2505b2c5a16",
       "version_major": 2,
       "version_minor": 0
      },
      "text/plain": [
       "README.md:   0%|          | 0.00/160k [00:00<?, ?B/s]"
      ]
     },
     "metadata": {},
     "output_type": "display_data"
    },
    {
     "data": {
      "application/vnd.jupyter.widget-view+json": {
       "model_id": "d1d3b4b180994da88fd163a1ec15cb7f",
       "version_major": 2,
       "version_minor": 0
      },
      "text/plain": [
       "sentence_bert_config.json:   0%|          | 0.00/57.0 [00:00<?, ?B/s]"
      ]
     },
     "metadata": {},
     "output_type": "display_data"
    },
    {
     "data": {
      "application/vnd.jupyter.widget-view+json": {
       "model_id": "aa10077448274760b23f982be6bf07ee",
       "version_major": 2,
       "version_minor": 0
      },
      "text/plain": [
       "1_Pooling/config.json:   0%|          | 0.00/201 [00:00<?, ?B/s]"
      ]
     },
     "metadata": {},
     "output_type": "display_data"
    },
    {
     "name": "stderr",
     "output_type": "stream",
     "text": [
      "Special tokens have been added in the vocabulary, make sure the associated word embeddings are fine-tuned or trained.\n"
     ]
    },
    {
     "data": {
      "application/vnd.jupyter.widget-view+json": {
       "model_id": "9e3c9e6a9c5a4f7ea72cbbf5a28c072c",
       "version_major": 2,
       "version_minor": 0
      },
      "text/plain": [
       "Downloading shards:   0%|          | 0/2 [00:00<?, ?it/s]"
      ]
     },
     "metadata": {},
     "output_type": "display_data"
    },
    {
     "data": {
      "application/vnd.jupyter.widget-view+json": {
       "model_id": "051069a76abe4552b17dc886abd6d5e2",
       "version_major": 2,
       "version_minor": 0
      },
      "text/plain": [
       "Loading checkpoint shards:   0%|          | 0/2 [00:00<?, ?it/s]"
      ]
     },
     "metadata": {},
     "output_type": "display_data"
    }
   ],
   "source": [
    "e5_retriever_model = SentenceTransformer(\"intfloat/multilingual-e5-large\", device='cuda')\n",
    "e5_retriever_model.max_seq_length = 512\n",
    "\n",
    "\n",
    "generator_model_name = 'hivaze/AAQG-QA-QG-FRED-T5-1.7B'\n",
    "generator_tokenizer = AutoTokenizer.from_pretrained(generator_model_name)\n",
    "generator_model = T5ForConditionalGeneration.from_pretrained(generator_model_name).cuda().eval()"
   ]
  },
  {
   "cell_type": "code",
   "execution_count": null,
   "id": "dab60fd4-0a65-4bf9-bc35-ee336500ce14",
   "metadata": {
    "tags": []
   },
   "outputs": [],
   "source": [
    "generator_config = GenerationConfig()\n",
    "generator = Generator(generator_tokenizer, generator_model, config=generator_config)"
   ]
  },
  {
   "cell_type": "code",
   "execution_count": null,
   "id": "f8b9d108-ab60-426d-8779-6978becc8079",
   "metadata": {
    "tags": []
   },
   "outputs": [],
   "source": [
    "queries = pd.read_csv('Book1 (1).csv', sep=';')\n",
    "queries.site_id = queries.site_id.apply(lambda x: x if  x[-1] == '/' else x+'/')\n",
    "queries.site_id = queries.site_id.apply(lambda x: x if 'http://pravo.gov.ru' in x else 'https://cbr.ru' + x)"
   ]
  },
  {
   "cell_type": "markdown",
   "id": "580c71d6-56a5-45a9-a310-e9e905f5bd93",
   "metadata": {
    "tags": []
   },
   "source": [
    "## Chunker"
   ]
  },
  {
   "cell_type": "code",
   "execution_count": null,
   "id": "6acf26e9-291a-42af-a767-40a1fbf76c8a",
   "metadata": {
    "tags": []
   },
   "outputs": [],
   "source": [
    "chunker = Chunker(max_chunk_len=2500, overlap_len=500)\n",
    "\n",
    "\n",
    "texts = client.query_df('select * from document').set_index('url')\n",
    "chunks, urls = chunker.split_texts(texts)\n",
    "client.insert(table='chunk', data=[chunks, urls], column_names=['text', 'url'], column_oriented=True)"
   ]
  },
  {
   "cell_type": "code",
   "execution_count": null,
   "id": "d5f22565-d50b-410f-a1d6-10ce139aad79",
   "metadata": {
    "tags": []
   },
   "outputs": [],
   "source": [
    "# encoded_queries = bge_retriever_model.encode(book[\"query\"].tolist(), return_dense=True, return_sparse=False, return_colbert_vecs=True, batch_size=16, max_length=512)"
   ]
  },
  {
   "cell_type": "code",
   "execution_count": null,
   "id": "9ad4e082-1f0d-4dbe-be69-d46c4b0cf161",
   "metadata": {
    "tags": []
   },
   "outputs": [],
   "source": [
    "chunks_df = client.query_df('select * from chunk').set_index('uuid')\n",
    "\n",
    "bge_embeddings = bge_retriever_model.encode(chunks_df.text.tolist(), return_dense=True, return_sparse=False, return_colbert_vecs=True, batch_size=64, max_length=512)\n",
    "e5_embeddings = e5_retriever_model.encode(chunks_df.text.tolist(), batch_size=16, normalize_embeddings=True, show_progress_bar=True)\n",
    "\n",
    "client.insert(table='chunk_embedding',\n",
    "              data=[chunks_df.index.tolist(), \n",
    "                    bge_embeddings['colbert_vecs'].tolist(), \n",
    "                    e5_embeddings.tolist(),\n",
    "                    bge_embeddings['dense_vecs'].to_list()],\n",
    "              column_names=['chunk_uuid', \n",
    "                            'bge_m3_embeddings', \n",
    "                            'e5_embeddings', \n",
    "                            'bge_m3'], column_oriented=True)"
   ]
  },
  {
   "cell_type": "code",
   "execution_count": 35,
   "id": "8f10c3ec-1ef7-4d62-a5b3-74759bc97700",
   "metadata": {
    "execution": {
     "iopub.execute_input": "2024-03-13T16:41:23.434175Z",
     "iopub.status.busy": "2024-03-13T16:41:23.433690Z",
     "iopub.status.idle": "2024-03-13T16:41:31.587557Z",
     "shell.execute_reply": "2024-03-13T16:41:31.586792Z",
     "shell.execute_reply.started": "2024-03-13T16:41:23.434141Z"
    },
    "tags": []
   },
   "outputs": [
    {
     "data": {
      "text/html": [
       "<div>\n",
       "<style scoped>\n",
       "    .dataframe tbody tr th:only-of-type {\n",
       "        vertical-align: middle;\n",
       "    }\n",
       "\n",
       "    .dataframe tbody tr th {\n",
       "        vertical-align: top;\n",
       "    }\n",
       "\n",
       "    .dataframe thead th {\n",
       "        text-align: right;\n",
       "    }\n",
       "</style>\n",
       "<table border=\"1\" class=\"dataframe\">\n",
       "  <thead>\n",
       "    <tr style=\"text-align: right;\">\n",
       "      <th></th>\n",
       "      <th>chunk_uuid</th>\n",
       "      <th>bge_m3_embedding</th>\n",
       "      <th>e5_embedding</th>\n",
       "      <th>bge_m3</th>\n",
       "    </tr>\n",
       "  </thead>\n",
       "  <tbody>\n",
       "    <tr>\n",
       "      <th>0</th>\n",
       "      <td>7a0af8f4-95ed-48e5-916b-232f95e1e38f</td>\n",
       "      <td>[0.007940628, 0.024005534, -0.004237408, 0.025...</td>\n",
       "      <td>[0.026318824, 0.008612728, -0.0062181787, -0.0...</td>\n",
       "      <td>[]</td>\n",
       "    </tr>\n",
       "    <tr>\n",
       "      <th>1</th>\n",
       "      <td>bc9feeec-1e5c-4284-916c-51d52e81ed04</td>\n",
       "      <td>[-0.05350949, 0.021115648, -0.048056465, 0.011...</td>\n",
       "      <td>[-0.014645152, -0.02507355, -0.034141522, -0.0...</td>\n",
       "      <td>[]</td>\n",
       "    </tr>\n",
       "    <tr>\n",
       "      <th>2</th>\n",
       "      <td>c9035816-39b6-4c35-916c-abbf2eea058a</td>\n",
       "      <td>[-0.035761513, 0.008931544, 0.029431168, -0.01...</td>\n",
       "      <td>[0.020523636, 0.009849383, 0.0036926188, -0.05...</td>\n",
       "      <td>[]</td>\n",
       "    </tr>\n",
       "    <tr>\n",
       "      <th>3</th>\n",
       "      <td>175899d5-52fd-4c25-916c-de6bc9ae03e4</td>\n",
       "      <td>[-0.028674705, 0.00039257374, -0.03999512, -0....</td>\n",
       "      <td>[0.0017483772, -0.040360793, -0.03389109, -0.0...</td>\n",
       "      <td>[]</td>\n",
       "    </tr>\n",
       "    <tr>\n",
       "      <th>4</th>\n",
       "      <td>f2c26c9e-bb57-4a81-916d-46b6b9e49d43</td>\n",
       "      <td>[-0.018863013, -0.00924226, -0.03296817, 0.035...</td>\n",
       "      <td>[0.002780524, -0.01835111, -0.030327525, -0.04...</td>\n",
       "      <td>[]</td>\n",
       "    </tr>\n",
       "    <tr>\n",
       "      <th>...</th>\n",
       "      <td>...</td>\n",
       "      <td>...</td>\n",
       "      <td>...</td>\n",
       "      <td>...</td>\n",
       "    </tr>\n",
       "    <tr>\n",
       "      <th>1306</th>\n",
       "      <td>e7bc08f2-e1da-46f4-916a-9b34fe10ef18</td>\n",
       "      <td>[-0.018292995, 0.0015480752, -0.01335002, 0.03...</td>\n",
       "      <td>[0.01271502, -0.016061038, -0.016362324, -0.02...</td>\n",
       "      <td>[]</td>\n",
       "    </tr>\n",
       "    <tr>\n",
       "      <th>1307</th>\n",
       "      <td>123fd6aa-5012-4556-916a-b2e72e5be455</td>\n",
       "      <td>[-0.0010022236, -0.0011319566, -0.008193335, -...</td>\n",
       "      <td>[0.036662173, -0.019630207, -0.030757874, -0.0...</td>\n",
       "      <td>[]</td>\n",
       "    </tr>\n",
       "    <tr>\n",
       "      <th>1308</th>\n",
       "      <td>b88beb22-9754-4ace-916a-b728788d3fda</td>\n",
       "      <td>[-0.05853829, -0.0031400016, -0.0030861655, -6...</td>\n",
       "      <td>[-0.007210687, -0.0043519395, -0.027687693, -0...</td>\n",
       "      <td>[]</td>\n",
       "    </tr>\n",
       "    <tr>\n",
       "      <th>1309</th>\n",
       "      <td>50ab90db-f370-4002-916a-e430c840e2b9</td>\n",
       "      <td>[-0.023804326, -0.013488999, 0.021434963, -0.0...</td>\n",
       "      <td>[-0.0012883231, -0.012499608, 0.0007025175, -0...</td>\n",
       "      <td>[]</td>\n",
       "    </tr>\n",
       "    <tr>\n",
       "      <th>1310</th>\n",
       "      <td>6caacf6a-1576-4da4-916b-141105d12b29</td>\n",
       "      <td>[-0.01961751, 0.0010423221, -0.009445227, -0.0...</td>\n",
       "      <td>[0.006807594, -0.03394037, -0.024779968, -0.05...</td>\n",
       "      <td>[]</td>\n",
       "    </tr>\n",
       "  </tbody>\n",
       "</table>\n",
       "<p>43276 rows × 4 columns</p>\n",
       "</div>"
      ],
      "text/plain": [
       "                                chunk_uuid  ... bge_m3\n",
       "0     7a0af8f4-95ed-48e5-916b-232f95e1e38f  ...     []\n",
       "1     bc9feeec-1e5c-4284-916c-51d52e81ed04  ...     []\n",
       "2     c9035816-39b6-4c35-916c-abbf2eea058a  ...     []\n",
       "3     175899d5-52fd-4c25-916c-de6bc9ae03e4  ...     []\n",
       "4     f2c26c9e-bb57-4a81-916d-46b6b9e49d43  ...     []\n",
       "...                                    ...  ...    ...\n",
       "1306  e7bc08f2-e1da-46f4-916a-9b34fe10ef18  ...     []\n",
       "1307  123fd6aa-5012-4556-916a-b2e72e5be455  ...     []\n",
       "1308  b88beb22-9754-4ace-916a-b728788d3fda  ...     []\n",
       "1309  50ab90db-f370-4002-916a-e430c840e2b9  ...     []\n",
       "1310  6caacf6a-1576-4da4-916b-141105d12b29  ...     []\n",
       "\n",
       "[43276 rows x 4 columns]"
      ]
     },
     "execution_count": 35,
     "metadata": {},
     "output_type": "execute_result"
    }
   ],
   "source": [
    "client.query_df('select * from chunk_embedding')"
   ]
  },
  {
   "cell_type": "code",
   "execution_count": 30,
   "id": "41fcdd4c-ca85-497f-893d-241145ce0fd8",
   "metadata": {
    "execution": {
     "iopub.execute_input": "2024-03-13T16:39:05.900181Z",
     "iopub.status.busy": "2024-03-13T16:39:05.899841Z",
     "iopub.status.idle": "2024-03-13T16:39:12.522321Z",
     "shell.execute_reply": "2024-03-13T16:39:12.521625Z",
     "shell.execute_reply.started": "2024-03-13T16:39:05.900162Z"
    },
    "tags": []
   },
   "outputs": [
    {
     "data": {
      "text/plain": [
       "<clickhouse_connect.driver.summary.QuerySummary at 0x7f4bf0893f70>"
      ]
     },
     "execution_count": 30,
     "metadata": {},
     "output_type": "execute_result"
    }
   ],
   "source": [
    "client.insert(table='chunk_embedding',\n",
    "              data=[chunks_df.index.tolist(), \n",
    "                    bge_embeddings.tolist(), \n",
    "                    e5_embeddings.tolist()],\n",
    "              column_names=['chunk_uuid', \n",
    "                            'bge_m3_embedding', \n",
    "                            'e5_embedding'], column_oriented=True)"
   ]
  },
  {
   "cell_type": "code",
   "execution_count": null,
   "id": "58ce4c1b-b8ef-4798-baa2-e2b0c7a8e342",
   "metadata": {},
   "outputs": [],
   "source": []
  },
  {
   "cell_type": "markdown",
   "id": "9c1bcde1-3155-41e0-8c16-5e1ece2a5324",
   "metadata": {},
   "source": [
    "## Retriever & Generator"
   ]
  },
  {
   "cell_type": "code",
   "execution_count": 7,
   "id": "0678d99e-0a1b-4670-9c24-2b00bb9926f7",
   "metadata": {
    "execution": {
     "iopub.execute_input": "2024-03-13T16:57:38.839498Z",
     "iopub.status.busy": "2024-03-13T16:57:38.838762Z",
     "iopub.status.idle": "2024-03-13T16:57:38.848048Z",
     "shell.execute_reply": "2024-03-13T16:57:38.847302Z",
     "shell.execute_reply.started": "2024-03-13T16:57:38.839461Z"
    },
    "tags": []
   },
   "outputs": [],
   "source": [
    "retriever_model = {'bge_m3': bge_retriever_model, 'e5': e5_retriever_model}"
   ]
  },
  {
   "cell_type": "code",
   "execution_count": 8,
   "id": "ef0788da-0085-41ca-8ce2-7caa7e7d772d",
   "metadata": {
    "execution": {
     "iopub.execute_input": "2024-03-13T16:57:38.851002Z",
     "iopub.status.busy": "2024-03-13T16:57:38.850257Z",
     "iopub.status.idle": "2024-03-13T16:57:38.865384Z",
     "shell.execute_reply": "2024-03-13T16:57:38.864658Z",
     "shell.execute_reply.started": "2024-03-13T16:57:38.850959Z"
    },
    "tags": []
   },
   "outputs": [],
   "source": [
    "retriever = Retriever(retriever_model, client)"
   ]
  },
  {
   "cell_type": "code",
   "execution_count": 16,
   "id": "ff2870da-7f50-4606-9801-b54838513367",
   "metadata": {
    "execution": {
     "iopub.execute_input": "2024-03-13T17:00:02.825917Z",
     "iopub.status.busy": "2024-03-13T17:00:02.824924Z",
     "iopub.status.idle": "2024-03-13T17:00:02.837047Z",
     "shell.execute_reply": "2024-03-13T17:00:02.836230Z",
     "shell.execute_reply.started": "2024-03-13T17:00:02.825846Z"
    },
    "tags": []
   },
   "outputs": [],
   "source": [
    "question = queries.question.sample(1).item()"
   ]
  },
  {
   "cell_type": "code",
   "execution_count": 17,
   "id": "9f88ac46-528f-41d1-aa3d-f08c74efbdea",
   "metadata": {
    "execution": {
     "iopub.execute_input": "2024-03-13T17:00:03.021780Z",
     "iopub.status.busy": "2024-03-13T17:00:03.020983Z",
     "iopub.status.idle": "2024-03-13T17:00:03.032726Z",
     "shell.execute_reply": "2024-03-13T17:00:03.031883Z",
     "shell.execute_reply.started": "2024-03-13T17:00:03.021739Z"
    },
    "tags": []
   },
   "outputs": [
    {
     "data": {
      "text/plain": [
       "'Какие условия совершения операций по выдаче микрозаймов микрофинансовой организацией?'"
      ]
     },
     "execution_count": 17,
     "metadata": {},
     "output_type": "execute_result"
    }
   ],
   "source": [
    "question"
   ]
  },
  {
   "cell_type": "code",
   "execution_count": 26,
   "id": "eeef93f9-27be-4ec2-bb81-33e12b5c756a",
   "metadata": {
    "execution": {
     "iopub.execute_input": "2024-03-13T17:26:35.731725Z",
     "iopub.status.busy": "2024-03-13T17:26:35.730784Z",
     "iopub.status.idle": "2024-03-13T17:26:36.203982Z",
     "shell.execute_reply": "2024-03-13T17:26:36.203134Z",
     "shell.execute_reply.started": "2024-03-13T17:26:35.731683Z"
    },
    "tags": []
   },
   "outputs": [
    {
     "data": {
      "text/plain": [
       "(['(В редакции Федерального закона от 23.07.2013 No 251-ФЗ)2.\\nМикрофинансовая организация обязана:1) предоставить лицу, подавшему заявление на предоставление микрозайма, полную и достоверную информацию о порядке и об условиях предоставления микрозайма, о его правах и обязанностях, связанных с получением микрозайма; (В редакции Федерального закона от 29.12.2015 No 407-ФЗ)2) разместить копию правил предоставления микрозаймов в месте, доступном для обозрения и ознакомления с ними любого заинтересованного лица, и в сети Интернет;21) разместить сведения о полученном предписании Банка России, ограничивающем деятельность микрофинансовой организации, предусмотренном пунктом 71 части 4 статьи 14 настоящего Федерального закона, в местах обслуживания клиентов и на официальном сайте этой микрофинансовой организации в информационно-телекоммуникационной сети \"Интернет\" (при наличии) не позднее дня, следующего за днем получения такого предписания; (Дополнение пунктом - Федеральный закон от 13.07.2020 No 196-ФЗ)3) проинформировать лицо, подавшее заявление на предоставление микрозайма, до получения им микрозайма об условиях договора микрозайма, о возможности и порядке изменения его условий по инициативе микрофинансовой организации и заемщика, о перечне и размере всех платежей, связанных с получением, обслуживанием и возвратом микрозайма, а также с нарушением условий договора микрозайма; (В редакции Федерального закона от 29.12.2015 No 407-ФЗ)4) гарантировать соблюдение тайны об операциях своих заемщиков.',\n",
       "  'Правилами предоставления микрозаймов не могут устанавливаться условия, определяющие права и обязанности сторон по договору микрозайма.\\nВ случае установления в правилах предоставления микрозаймов условий, противоречащих условиям договора микрозайма, заключенного с заемщиком, применяются положения договора микрозайма.\\nСтатья 9.\\nПрава и обязанности микрофинансовой организации 1.\\nМикрофинансовая организация вправе:1) запрашивать у лица, подавшего заявление на предоставление микрозайма, документы и сведения, необходимые для решения вопроса о предоставлении микрозайма и исполнения обязательств по договору микрозайма, в порядке и на условиях, которые установлены правилами предоставления микрозаймов; (В редакции Федерального закона от 29.12.2015 No 407-ФЗ)2) мотивированно отказаться от заключения договора микрозайма;3) осуществлять наряду с микрофинансовой деятельностью иную деятельность с учетом ограничений, установленных настоящим Федеральным законом, другими федеральными законами и учредительными документами, в том числе оказывать иные услуги, а также выдавать иные займы юридическим лицам и физическим лицам по договорам займа, исполнение обязательств по которым обеспечено ипотекой, с учетом ограничений, установленных статьей 12 настоящего Федерального закона, и иные займы юридическим лицам, являющимся субъектами малого и среднего предпринимательства или имеющим статус микрофинансовой организации, кредитного потребительского кооператива, сельскохозяйственного кредитного потребительского кооператива, ломбарда, а также юридическим лицам, являющимся аффилированными лицами микрофинансовой организации, в порядке, установленном федеральными законами и учредительными документами;  (В редакции федеральных законов от 29.12.2015 No 407-ФЗ, от 02.08.2019 No 271-ФЗ)4) привлекать денежные средства в виде займов и (или) кредитов, добровольных (благотворительных) взносов и пожертвований, а также в иных не запрещенных федеральными законами формах с учетом ограничений, установленных статьей 12 настоящего Федерального закона; (В редакции Федерального закона от 29.12.2015 No 407-ФЗ)5) иметь иные права в соответствии с федеральными законами, иными нормативными правовыми актами, нормативными актами Банка России, учредительными документами и условиями заключенных договоров микрозаймов.\\n(В редакции Федерального закона от 23.07.2013 No 251-ФЗ)2.',\n",
       "  'Микрофинансовые организации могут осуществлять свою деятельность в виде микрофинансовой компании или микрокредитной компании; (В редакции Федерального закона от 29.12.2015 No 407-ФЗ)21) микрофинансовая компания - вид микрофинансовой организации, осуществляющей микрофинансовую деятельность с учетом установленных частями 1 и 2 статьи 12 настоящего Федерального закона ограничений, удовлетворяющей требованиям настоящего Федерального закона и нормативных актов Банка России, в том числе к собственным средствам (капиталу), и имеющей право привлекать для осуществления такой деятельности денежные средства физических лиц, в том числе не являющихся ее учредителями (участниками, акционерами), с учетом ограничений, установленных пунктом 1 части 2 статьи 12 настоящего Федерального закона, а также юридических лиц; (Дополнение пунктом - Федеральный закон от 29.12.2015 No 407-ФЗ)22) микрокредитная компания - вид микрофинансовой организации, осуществляющей микрофинансовую деятельность с учетом установленных частями 1 и 3 статьи 12 настоящего Федерального закона ограничений, удовлетворяющей требованиям настоящего Федерального закона и нормативных актов Банка России, в том числе к собственным средствам (капиталу), и имеющей право привлекать для осуществления такой деятельности денежные средства физических лиц, являющихся ее учредителями (участниками, акционерами), а также юридических лиц; (Дополнение пунктом - Федеральный закон от 29.12.2015 No 407-ФЗ) (В редакции Федерального закона от 02.08.2019 No 271-ФЗ)3) микрозаем - заем, предоставляемый займодавцем заемщику на условиях, предусмотренных договором займа, в сумме, не превышающей предельный размер обязательств заемщика перед займодавцем по основному долгу, установленный настоящим Федеральным законом; (В редакции Федерального закона от 29.12.2015 No 407-ФЗ)4) договор микрозайма - договор займа, сумма которого не превышает предельный размер обязательств заемщика перед займодавцем по основному долгу, установленный настоящим Федеральным законом; (В редакции Федерального закона от 29.12.2015 No 407-ФЗ)5) (Пункт утратил силу - Федеральный закон от 23.07.2013 No 251-ФЗ)2.\\nИспользуемые в настоящем Федеральном законе понятия и термины гражданского и других отраслей законодательства Российской Федерации применяются в том значении, в каком они используются в этих отраслях законодательства Российской Федерации.\\nСтатья 3.\\nПравовые основы микрофинансовой деятельности 1.',\n",
       "  'Основные условия предоставления микрозаймов микрофинансовыми организациями 1.\\nМикрозаймы предоставляются микрофинансовыми организациями в валюте Российской Федерации в соответствии с законодательством Российской Федерации на основании договора микрозайма.2.\\nПорядок и условия предоставления микрозаймов устанавливаются микрофинансовой организацией в правилах предоставления микрозаймов, утверждаемых органом управления микрофинансовой организации.3.\\nПравила предоставления микрозаймов должны быть доступны всем лицам для ознакомления и содержать основные условия предоставления микрозаймов, в том числе в обязательном порядке должны содержать следующие сведения:1) порядок подачи заявления на предоставление микрозайма и порядок его рассмотрения; (В редакции Федерального закона от 13.07.2020 No 196-ФЗ)2) порядок заключения договора микрозайма и порядок предоставления заемщику графика платежей;3) иные условия, установленные внутренними документами микрофинансовой организации и не являющиеся условиями договора микрозайма.4.\\nДоговором микрозайма может быть предусмотрена возможность предоставления микрофинансовой организацией целевого микрозайма с одновременным предоставлением микрофинансовой организации права осуществления контроля за целевым использованием микрозайма и возложением на заемщика обязанности обеспечить возможность осуществления такого контроля.5.\\nПравилами предоставления микрозаймов не могут устанавливаться условия, определяющие права и обязанности сторон по договору микрозайма.\\nВ случае установления в правилах предоставления микрозаймов условий, противоречащих условиям договора микрозайма, заключенного с заемщиком, применяются положения договора микрозайма.\\nСтатья 9.\\nПрава и обязанности микрофинансовой организации 1.',\n",
       "  'Сделка микрофинансовой организации, совершенная с нарушением данного требования, может быть признана недействительной по иску микрофинансовой организации или по иску не менее трети состава ее учредителей (участников, акционеров);3) выдавать займы в иностранной валюте;4) в одностороннем порядке изменять размер процентных ставок и (или) порядок их определения по договорам микрозайма, комиссионное вознаграждение и сроки действия этих договоров с клиентами - индивидуальными предпринимателями или юридическими лицами;5) в одностороннем порядке увеличивать размер процентных ставок и (или) изменять порядок их определения по договорам микрозайма, сокращать срок их действия, увеличивать или устанавливать комиссионное вознаграждение этих договоров с клиентами - физическими лицами;6) применять к заемщику, являющемуся физическим лицом, в том числе к индивидуальному предпринимателю, досрочно полностью или частично возвратившему микрофинансовой организации сумму микрозайма и предварительно письменно уведомившему о таком намерении микрофинансовую организацию не менее чем за десять календарных дней, штрафные санкции за досрочный возврат микрозайма;7) осуществлять любые виды профессиональной деятельности на рынке ценных бумаг;8) выдавать заемщику - юридическому лицу или индивидуальному предпринимателю микрозаем (микрозаймы), если сумма основного долга заемщика - юридического лица или индивидуального предпринимателя перед этой микрофинансовой организацией по договорам микрозайма в случае предоставления такого микрозайма (микрозаймов) превысит пять миллионов рублей; (В редакции Федерального закона от 27.12.2018 No 537-ФЗ)9) (Пункт  утратил силу - Федеральный закон от 27.12.2018 No 554-ФЗ)10) использовать полное и (или) сокращенное наименование, полное и (или) сокращенное фирменное наименование, совпадающие или сходные до степени смешения с полным и (или) сокращенным наименованием, полным и (или) сокращенным фирменным наименованием микрофинансовой организации и (или) кредитной организации, соответствующие сведения о которых были внесены в единый государственный реестр юридических лиц ранее сведений о микрофинансовой организации, использующей указанное наименование.',\n",
       "  'Указанная информация должна предоставляться в письменной форме на бумажном носителе или в электронной форме.\\nБанк России вправе установить форму, способы и порядок предоставления указанной информации.\\n(Дополнение частью - Федеральный закон от 11.06.2021 No 192-ФЗ)  Статья 10.\\nПрава и обязанности лица, подавшего заявление на предоставление микрозайма в микрофинансовую организацию (Наименование в редакции Федерального закона от 29.12.2015 No 407-ФЗ) 1.\\nЛицо, подавшее заявление на предоставление микрозайма в микрофинансовую организацию, вправе: (В редакции Федерального закона от 29.12.2015 No 407-ФЗ)1) знакомиться с правилами предоставления микрозаймов, утвержденными микрофинансовой организацией;2) получать полную и достоверную информацию о порядке и об условиях предоставления микрозайма, включая информацию о всех платежах, связанных с получением, обслуживанием и возвратом микрозайма.2.\\nЛицо, подавшее заявление на предоставление микрозайма в микрофинансовую организацию, обязано представлять документы и сведения, запрашиваемые микрофинансовой организацией в соответствии с пунктом 1 части 1 статьи 9 настоящего Федерального закона, иными федеральными законами и правилами предоставления микрозаймов, в том числе необходимые для исполнения микрофинансовой организацией требований, установленных федеральными законами.\\n(В редакции Федерального закона от 29.12.2015 No 407-ФЗ)3.\\nЛицо, подавшее заявление на предоставление микрозайма в микрофинансовую организацию, имеет иные права и может нести иные обязанности в соответствии с федеральными законами.\\n(В редакции Федерального закона от 29.12.2015 No 407-ФЗ) Статья 11.\\nПрава и обязанности заемщика 1.\\nЗаемщик вправе распоряжаться денежными средствами, полученными по договору микрозайма, в порядке и на условиях, которые установлены договором микрозайма.2.\\nЗаемщик обязан представлять документы и сведения, запрашиваемые микрофинансовой организацией в соответствии с частью 2 статьи 10 настоящего Федерального закона.3.\\nЗаемщик имеет иные права и может нести иные обязанности в соответствии с федеральными законами и условиями заключенного договора микрозайма.\\nСтатья 12.\\nОграничения деятельности микрофинансовой организации 1.',\n",
       "  'Заемщик обязан представлять документы и сведения, запрашиваемые микрофинансовой организацией в соответствии с частью 2 статьи 10 настоящего Федерального закона.3.\\nЗаемщик имеет иные права и может нести иные обязанности в соответствии с федеральными законами и условиями заключенного договора микрозайма.\\nСтатья 12.\\nОграничения деятельности микрофинансовой организации 1.\\nМикрофинансовая организация не вправе:1) выступать поручителем по обязательствам своих учредителей (участников, акционеров), а также иным способом обеспечивать исполнение обязательств указанными лицами;2) без предварительного решения высшего органа управления микрофинансовой организации об одобрении соответствующих сделок совершать сделки, связанные с отчуждением или возможностью отчуждения находящегося в собственности микрофинансовой организации имущества либо иным образом влекущие уменьшение балансовой стоимости имущества микрофинансовой организации на десять и более процентов балансовой стоимости активов микрофинансовой организации, определенной по данным бухгалтерской (финансовой) отчетности микрофинансовой организации за последний отчетный период.'],\n",
       " ['http://pravo.gov.ru/proxy/ips/?docbody=&link_id=0&nd=102139631&bpa=cd00000&bpas=cd00000&'])"
      ]
     },
     "execution_count": 26,
     "metadata": {},
     "output_type": "execute_result"
    }
   ],
   "source": [
    "retriever.get_neighbors(question)"
   ]
  },
  {
   "cell_type": "code",
   "execution_count": 24,
   "id": "7f51ed8a-46d5-47e3-8c37-8a1b87f0c6b1",
   "metadata": {
    "execution": {
     "iopub.execute_input": "2024-03-13T17:04:05.879147Z",
     "iopub.status.busy": "2024-03-13T17:04:05.878317Z",
     "iopub.status.idle": "2024-03-13T17:04:09.148862Z",
     "shell.execute_reply": "2024-03-13T17:04:09.147871Z",
     "shell.execute_reply.started": "2024-03-13T17:04:05.879106Z"
    },
    "tags": []
   },
   "outputs": [
    {
     "name": "stdout",
     "output_type": "stream",
     "text": [
      "Микрофинансовая организация вправе запрашивать у лица, подавшего заявление на предоставление микрозайма, документы и сведения\n",
      "\n",
      "Использованные документы:\n",
      "1) http://pravo.gov.ru/proxy/ips/?docbody=&link_id=0&nd=102139631&bpa=cd00000&bpas=cd00000& \n",
      "\n"
     ]
    }
   ],
   "source": [
    "print(generator.get_answer(question, *retriever.get_neighbors(question, k=3), temperature=0.8))"
   ]
  },
  {
   "cell_type": "code",
   "execution_count": null,
   "id": "86e9383f-0c8a-4f5b-bd58-6d13547248da",
   "metadata": {},
   "outputs": [],
   "source": []
  }
 ],
 "metadata": {
  "kernelspec": {
   "display_name": "DataSphere Kernel",
   "language": "python",
   "name": "python3"
  },
  "language_info": {
   "codemirror_mode": {
    "name": "ipython",
    "version": 3
   },
   "file_extension": ".py",
   "mimetype": "text/x-python",
   "name": "python",
   "nbconvert_exporter": "python",
   "pygments_lexer": "ipython3",
   "version": "3.7.7"
  }
 },
 "nbformat": 4,
 "nbformat_minor": 5
}
