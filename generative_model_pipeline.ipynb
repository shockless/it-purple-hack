{
 "cells": [
  {
   "cell_type": "code",
   "execution_count": 200,
   "metadata": {
    "tags": []
   },
   "outputs": [],
   "source": [
    "#!pip install transformers\n",
    "#!pip install torch torchvision torchaudio --index-url https://download.pytorch.org/whl/cu117"
   ]
  },
  {
   "cell_type": "code",
   "execution_count": 1,
   "metadata": {
    "tags": []
   },
   "outputs": [],
   "source": [
    "import re\n",
    "import torch\n",
    "import pandas as pd\n",
    "\n",
    "from transformers import GPT2Tokenizer, T5ForConditionalGeneration \n",
    "from transformers import AutoTokenizer, T5ForConditionalGeneration\n",
    "from functools import partial\n",
    "\n",
    "from IPython.display import display, Markdown\n",
    "device = 'cuda'\n",
    "\n",
    "from transformers import set_seed\n",
    "set_seed(42)"
   ]
  },
  {
   "cell_type": "code",
   "execution_count": 2,
   "metadata": {
    "tags": []
   },
   "outputs": [
    {
     "data": {
      "text/plain": [
       "True"
      ]
     },
     "execution_count": 2,
     "metadata": {},
     "output_type": "execute_result"
    }
   ],
   "source": [
    "torch.cuda.is_available()"
   ]
  },
  {
   "cell_type": "code",
   "execution_count": 158,
   "metadata": {
    "tags": []
   },
   "outputs": [],
   "source": [
    "columns = ['site_id', 'date', 'title', 'path', 'text_type', 'full_text']\n",
    "texts = pd.read_csv('legal_acts.csv', names=columns)\n",
    "texts['full_text'] = texts['full_text'].apply(lambda x: re.sub(' +', ' ', x))\n",
    "#texts['full_text'] = texts['full_text'].apply(lambda x: re.sub(r\"\\n\", '', x))"
   ]
  },
  {
   "cell_type": "code",
   "execution_count": 130,
   "metadata": {
    "tags": []
   },
   "outputs": [],
   "source": [
    "columns = ['url', 'text']\n",
    "texts_norm = pd.read_csv('documents (1).csv', names=columns).dropna()\n",
    "texts_norm['text'] = texts_norm['text'].apply(lambda x: re.sub(' +', ' ', x))\n",
    "texts_norm['text'] = texts_norm['text'].apply(lambda x: re.sub(r\"\\n\", '', x))"
   ]
  },
  {
   "cell_type": "code",
   "execution_count": 163,
   "metadata": {
    "tags": []
   },
   "outputs": [],
   "source": [
    "# Имитация текста от ретривала\n",
    "retrieved_docs_example = ' '.join(\n",
    "    texts[2:5].apply(\n",
    "    lambda x: f'Документ c названием {x[\"site_id\"]} '+ x['full_text'],\n",
    "    axis=1)\n",
    ")"
   ]
  },
  {
   "cell_type": "code",
   "execution_count": 164,
   "metadata": {
    "tags": []
   },
   "outputs": [
    {
     "data": {
      "text/plain": [
       "1225"
      ]
     },
     "execution_count": 164,
     "metadata": {},
     "output_type": "execute_result"
    }
   ],
   "source": [
    "len(tokenizer.encode(retrieved_docs_example))"
   ]
  },
  {
   "cell_type": "code",
   "execution_count": 204,
   "metadata": {
    "tags": []
   },
   "outputs": [],
   "source": [
    "system_prompt = \"\"\"\n",
    "Ты помощник по документам Банка России, твоя задача ответить на вопрос пользователя. Далее на вход тебе будут приходить вопросы пользователей\n",
    "(формат: Вопрос пользователя <вопрос пользователя>) и документы (формат: Документ c названием <название документа> <содержание документа>).\n",
    "Входные документы содержат в себе ответ на вопрос с большой вероятностью.\n",
    "Просьбы и уточнения:\n",
    "1. Очень внимательно отвечай на вопрос, ответ на него может быть очень большим, но скорее всего он содержится в данных тебе документах!\n",
    "2. Ответ на вопрос может состоять из нескольких пунктов, поэтому, если ты нашел один пункт, то посмотри вперед, возможно их несколько!\n",
    "3. Если ответ на заданный вопрос не содержится в документах, то НЕ ОТВЕЧАЙ. Пиши выражение \"Нет такой информации\"\n",
    "Нужно ответить на вопрос пользователя.\n",
    "Задание: посмотри на документы, и опираясь на них дай свой ответ на вопрос в конце.\n",
    "\\n\"\"\"\n",
    "\n",
    "document_prompt = retrieved_docs_example"
   ]
  },
  {
   "cell_type": "code",
   "execution_count": 192,
   "metadata": {
    "tags": []
   },
   "outputs": [
    {
     "data": {
      "text/plain": [
       "'Ты помощник по документам Банка России, твоя задача ответить на вопрос пользователя. Далее на вход тебе будут приходить вопросы пользователей\\n(формат: Вопрос пользователя <вопрос пользователя>) и документы (формат: Документ c названием <название документа> <содержание документа>).\\nВходные документы содержат в себе ответ на вопрос с большой вероятностью.\\nПросьбы и уточнения:\\n1. Очень внимательно отвечай на вопрос, ответ на него может быть очень большим, но скорее всего он содержится в данных тебе документах!\\n2. Ответ на вопрос может состоять из нескольких пунктов, поэтому, если ты нашел один пункт, то посмотри вперед, возможно их несколько!\\n3. Если ответ на заданный вопрос не содержится в документах, то НЕ ОТВКЕ\\nНужно ответить на вопрос пользователя.\\nЗадание: посмотри на документы, и опираясь на них дай свой ответ на вопрос в конце.\\n\\n'"
      ]
     },
     "execution_count": 192,
     "metadata": {},
     "output_type": "execute_result"
    }
   ],
   "source": [
    "system_prompt"
   ]
  },
  {
   "cell_type": "code",
   "execution_count": 188,
   "metadata": {
    "tags": []
   },
   "outputs": [],
   "source": [
    "questions = ['какой размер штрафа за нарушение кредитной организацией условий Договора об общих условиях проведения депозитных операций?',\n",
    "             'Что рекомендует Банк России кредитным организациям в целях снижения рисков использования услуг кредитных организаций в противоправных целях?',\n",
    "             'В чем разница скуфом и тюбиком?']"
   ]
  },
  {
   "cell_type": "code",
   "execution_count": 178,
   "metadata": {
    "tags": []
   },
   "outputs": [],
   "source": [
    "full_propmt = system_prompt + document_prompt"
   ]
  },
  {
   "cell_type": "code",
   "execution_count": 34,
   "metadata": {
    "tags": []
   },
   "outputs": [],
   "source": [
    "torch.cuda.empty_cache()"
   ]
  },
  {
   "cell_type": "code",
   "execution_count": 206,
   "metadata": {
    "tags": []
   },
   "outputs": [
    {
     "name": "stderr",
     "output_type": "stream",
     "text": [
      "Special tokens have been added in the vocabulary, make sure the associated word embeddings are fine-tuned or trained.\n"
     ]
    },
    {
     "data": {
      "application/vnd.jupyter.widget-view+json": {
       "model_id": "d139e1165e5a4e0bab8441a88712ed8d",
       "version_major": 2,
       "version_minor": 0
      },
      "text/plain": [
       "Loading checkpoint shards:   0%|          | 0/2 [00:00<?, ?it/s]"
      ]
     },
     "metadata": {},
     "output_type": "display_data"
    }
   ],
   "source": [
    "#model_name = 'ai-forever/FRED-T5-1.7B'\n",
    "#tokenizer = AutoTokenizer.from_pretrained(model_name)\n",
    "#model = T5ForConditionalGeneration.from_pretrained(model_name).cuda()\n",
    "\n",
    "model_name = 'hivaze/AAQG-QA-QG-FRED-T5-1.7B'\n",
    "tokenizer = AutoTokenizer.from_pretrained(model_name)\n",
    "model = T5ForConditionalGeneration.from_pretrained(model_name).cuda().eval()"
   ]
  },
  {
   "cell_type": "code",
   "execution_count": 207,
   "metadata": {
    "tags": []
   },
   "outputs": [],
   "source": [
    "def generate_text(prompt, tokenizer, model, n=1, temperature=0.8, num_beams=4):\n",
    "    encoded_input = tokenizer.encode_plus(prompt, return_tensors='pt')\n",
    "    encoded_input = {k: v.to(model.device) for k, v in encoded_input.items()}\n",
    "\n",
    "    resulted_tokens = model.generate(**encoded_input,\n",
    "                                   max_new_tokens=200,\n",
    "                                   do_sample=True,\n",
    "                                   num_beams=num_beams,\n",
    "                                   num_return_sequences=n,\n",
    "                                   no_repeat_ngram_size=2,\n",
    "                                   temperature=temperature,\n",
    "                                   top_p=0.9,\n",
    "                                   top_k=50)\n",
    "    \n",
    "    resulted_texts = tokenizer.batch_decode(resulted_tokens, skip_special_tokens=True)\n",
    "\n",
    "    return resulted_texts\n",
    "\n",
    "generate_text = partial(generate_text, tokenizer=tokenizer, model=model)"
   ]
  },
  {
   "cell_type": "code",
   "execution_count": 208,
   "metadata": {
    "tags": []
   },
   "outputs": [
    {
     "data": {
      "text/markdown": [
       "Вопрос 1: какой размер штрафа за нарушение кредитной организацией условий Договора об общих условиях проведения депозитных операций? \n"
      ],
      "text/plain": [
       "<IPython.core.display.Markdown object>"
      ]
     },
     "metadata": {},
     "output_type": "display_data"
    },
    {
     "data": {
      "text/markdown": [
       "Установить размер штрафа за нарушение кредитной организацией условий Договора об общих условиях проведения депозитных операций равным нулю."
      ],
      "text/plain": [
       "<IPython.core.display.Markdown object>"
      ]
     },
     "metadata": {},
     "output_type": "display_data"
    },
    {
     "data": {
      "text/markdown": [
       "Вопрос 2: Что рекомендует Банк России кредитным организациям в целях снижения рисков использования услуг кредитных организаций в противоправных целях? \n"
      ],
      "text/plain": [
       "<IPython.core.display.Markdown object>"
      ]
     },
     "metadata": {},
     "output_type": "display_data"
    },
    {
     "data": {
      "text/markdown": [
       "Банк России рекомендует кредитным организациям: \n",
       "1. Осуществлять мониторинг операций по банковским счетам дропов или операций с использованием предоставленных им электронных средств платежа в целях установления клиентов – физических лиц, осуществляющих переводы денежных средств (электронных денежных средства) в пользу дронов, связанные с покупкой (продажей) цифровых валют. "
      ],
      "text/plain": [
       "<IPython.core.display.Markdown object>"
      ]
     },
     "metadata": {},
     "output_type": "display_data"
    },
    {
     "data": {
      "text/markdown": [
       "Вопрос 3: В чем разница скуфом и тюбиком? \n"
      ],
      "text/plain": [
       "<IPython.core.display.Markdown object>"
      ]
     },
     "metadata": {},
     "output_type": "display_data"
    },
    {
     "data": {
      "text/markdown": [
       "Скуф – это средство для снятия макияжа, а тюбик – для \n",
       "нанесения."
      ],
      "text/plain": [
       "<IPython.core.display.Markdown object>"
      ]
     },
     "metadata": {},
     "output_type": "display_data"
    }
   ],
   "source": [
    "set_seed(88)\n",
    "for i in range(len(questions)):\n",
    "    QA_PROMPT = system_prompt + \"Сгенерируй ответ на вопрос по тексту. Текст: '{context}'. Вопрос: '{question}'.\"\n",
    "    answer = generate_text(QA_PROMPT.format(context=document_prompt, question=questions[i]))[0]\n",
    "\n",
    "    display(Markdown(f'Вопрос {i + 1}: {questions[i]} \\n'))\n",
    "    display(Markdown(answer))"
   ]
  },
  {
   "cell_type": "code",
   "execution_count": 215,
   "metadata": {
    "tags": []
   },
   "outputs": [],
   "source": [
    "def llm_answer(question, documents, model, sys_prompt=system_prompt):\n",
    "    documents_retriever = ''\n",
    "    for i in range(len(documents)):\n",
    "        documents_retriever += f'Документ c номером {i}: {documents[i]} \\n'\n",
    "    #temp_prompt = f'<LM>{full_propmt + questions[i]}'\n",
    "    QA_PROMPT = system_prompt + \"Сгенерируй ответ на вопрос по тексту. Текст: '{context}'. Вопрос: '{question}'.\"\n",
    "    answer = generate_text(QA_PROMPT.format(context=documents_retriever, question=question))[0]\n",
    "    return answer"
   ]
  },
  {
   "cell_type": "code",
   "execution_count": 216,
   "metadata": {
    "tags": []
   },
   "outputs": [
    {
     "data": {
      "text/plain": [
       "'Установить размер штрафа за нарушение кредитной организацией условий Договора об общих условиях проведения депозитных операций равным нулю.'"
      ]
     },
     "execution_count": 216,
     "metadata": {},
     "output_type": "execute_result"
    }
   ],
   "source": [
    "answer = llm_answer(questions[0], [document_prompt], model)\n",
    "answer"
   ]
  },
  {
   "cell_type": "markdown",
   "metadata": {},
   "source": [
    "### Den4ikAI/FRED-T5-LARGE_text_qa"
   ]
  },
  {
   "cell_type": "code",
   "execution_count": 196,
   "metadata": {
    "tags": []
   },
   "outputs": [
    {
     "name": "stderr",
     "output_type": "stream",
     "text": [
      "Special tokens have been added in the vocabulary, make sure the associated word embeddings are fine-tuned or trained.\n",
      "Special tokens have been added in the vocabulary, make sure the associated word embeddings are fine-tuned or trained.\n"
     ]
    }
   ],
   "source": [
    "from transformers import AutoTokenizer, AutoModelForSeq2SeqLM\n",
    "import torch\n",
    "from transformers import GenerationConfig\n",
    "\n",
    "device = torch.device(\"cuda\" if torch.cuda.is_available() else \"cpu\")\n",
    "generation_config = GenerationConfig.from_pretrained(\"Den4ikAI/FRED-T5-LARGE_text_qa\")\n",
    "tokenizer = AutoTokenizer.from_pretrained(\"Den4ikAI/FRED-T5-LARGE_text_qa\")\n",
    "model = AutoModelForSeq2SeqLM.from_pretrained(\"Den4ikAI/FRED-T5-LARGE_text_qa\").to(device)\n",
    "model.eval()\n",
    "\n",
    "def generate(prompt):\n",
    "    data = tokenizer(f\"{prompt}\", return_tensors=\"pt\").to(model.device)\n",
    "    output_ids = model.generate(**data, generation_config=generation_config)[0]\n",
    "    out = tokenizer.decode(output_ids.tolist())\n",
    "    return out"
   ]
  },
  {
   "cell_type": "code",
   "execution_count": 182,
   "metadata": {
    "collapsed": true,
    "jupyter": {
     "outputs_hidden": true
    },
    "tags": []
   },
   "outputs": [
    {
     "data": {
      "text/plain": [
       "\"\\nТы помощник по документам Банка России, твоя задача ответить на вопрос пользователя. Далее на вход тебе будут приходить вопросы пользователей\\n(формат: Вопрос пользователя <вопрос пользователя>) и документы (формат: Документ c названием <название документа> <содержание документа>).\\nВходные документы содержат в себе ответ на вопрос с большой вероятностью.\\nПросьбы и уточнения:\\n1. Очень внимательно отвечай на вопрос, ответ на него может быть очень большим, но скорее всего он содержится в данных тебе документах!\\n2. Ответ на вопрос может состоять из нескольких пунктов, поэтому, если ты нашел один пункт, то посмотри вперед, возможно их несколько!\\n3. Если ответ на заданный вопрос не содержится в документах, то НЕ ОТВЕЧАЙ НА ЭТОТ ВОПРОС\\nНужно ответить на вопрос пользователя.\\nЗадание: посмотри на документы, и опираясь на них дай свой ответ на вопрос в конце.\\n\\nСгенерируй ответ на вопрос по тексту. Текст: 'Документ c названием 4-МР ЦЕНТРАЛЬНЫЙ БАНК РОССИЙСКОЙ ФЕДЕРАЦИИ \\n(БАНК РОССИИ) \\n \\n \\nМетодические рекомендации \\nпо усилению контроля за отдельными операциями \\nклиентов – физических лиц \\n \\n \\n \\n[REGDATESTAMP] [REGNUMSTAMP] \\n -------------------- ------------- \\n \\n \\n \\nВ ходе мониторинга состояния финансового рынка Российской \\nФедерации и реализации кредитными организациями Методических \\nрекомендаций Банка России от 06.09.2021 № 16-МР «О повышении \\nвнимания кредитных организаций к отдельным операциям клиентов – \\nфизических лиц» (далее – Методические рекомендации № 16-МР) \\nБанком России выявляются операции с цифровыми валютами. \\nЗначительная часть данных операций проводится путем переводов \\nденежных средств (электронных денежных средств) между физическими \\nлицами по их банковским счетам (с использованием предоставленных \\nим электронных средств платежа) через так называемые криптовалютные \\nобменники и криптовалютные биржи, использующие для расчетов \\nс гражданами банковские счета или электронные средства платежа, \\nоткрытые (оформленные) на подставных физических лиц, операции \\nпо которым соответствуют признакам, приведенным в пункте 2 \\nМетодических рекомендаций № 16-МР (далее – дропы). \\nВ целях снижения рисков использования услуг кредитных \\nорганизаций в противоправных целях Банк России рекомендует \\nкредитным организациям: \\n \\n 2 \\n1. Осуществлять мониторинг операций по банковским счетам дропов \\nили операций с использованием предоставленных им электронных средств \\nплатежа в целях установления клиентов – физических лиц, \\nосуществляющих переводы денежных средств (электронных денежных \\nсредств) в пользу дропов, связанные с покупкой (продажей) цифровых \\nвалют, а также клиентов – физических лиц, в пользу которых от \\nдропов осуществляются переводы денежных средств (электронных \\nденежных средств), связанные с покупкой (продажей) цифровых валют \\n(далее – клиенты – физические лица). \\n2. В отношении клиентов – физических лиц: \\nобеспечить повышенное внимание к их операциям; \\nзапрашивать у них дополнительную информацию и документы о \\nхарактере и целях проводимых ими операций с привлечением дропов; \\nпровести углубленную проверку информации об их операциях \\nи деятельности, представителях, выгодоприобретателях, бенефициарных \\nвладельцах; \\n учитывать полученную информацию при оценке степени (уровня) \\nриска совершения клиентом – физическим лицом подозрительных \\nопераций. \\nНастоящие Методические рекомендации подлежат размещению \\nна официальном сайте Банка России в информационно-\\nтелекоммуникационной сети «Интернет». \\n \\n \\nЗаместитель Председателя \\nБанка России \\n \\nО.В. Полякова \\n [SIGNERSTAMP1] \\n \\n \\n  Документ c названием ИН-01-20/16  \\n \\n \\n \\nЦЕНТРАЛЬНЫЙ БАНК \\nРОССИЙСКОЙ ФЕДЕРАЦИИ \\n(БАНК РОССИИ) \\n107016, Москва, ул. Неглинная, д. 12, к. В \\nwww .cbr.ru \\n тел.: (499) 300-30-00, 8 (800) 300-30-00 \\n \\nОт [REGNUMDATESTAMP] \\n \\n на от \\n \\nИнформационное письмо Банка России \\nоб отмене Информационного письма Банка \\nРоссии от 28 марта 2018 года № ИН-01-20/16 \\n \\n \\n \\n \\n \\n \\n \\nКредитным организациям \\n \\n \\n \\n \\nБанк России сообщает, что с 4 марта 2024 года отменяется \\nИнформационное письмо Банка России о порядке проведения Банком России \\nдепозитных операций от 28 марта 2018 года № ИН-01-20/16. \\nНастоящее Информационное письмо Банка России подлежит \\nразмещению на официальном сайте Банка России в информационно-\\nтелекоммуникационной сети «Интернет». \\n \\n \\nПредседатель Банка России \\nЭ.С. Набиуллина \\n [SIGNERSTAMP1] \\n \\n \\n \\n \\n Документ c названием ОД-301 ЦЕНТРАЛЬНЫЙ БАНК РОССИЙСКОЙ ФЕДЕРАЦИИ \\n(БАНК РОССИИ ) \\nП Р И К А З \\n[REGNUMDATESTAMP] \\nг. Москва \\nО размере штрафа за нарушение условий \\nДоговора об общих условиях проведения \\nдепозитных операций и отмене приказа \\nБанка России от 28 апреля 2018 года \\n№ ОД-1132 \\nВ целях применения пункта 5.3 Договора об общих условиях \\nпроведения депозитных операций, форма которого утверждена приказом \\nБанка России от 22 февраля 2024 года № ОД-287 «О депозитных операциях \\nБанка России», \\nПРИКАЗЫВАЮ: \\n1.Установить размер штрафа за нарушение кредитной организацией\\nусловий Договора об общих условиях проведения депозитных операций \\nравным нулю. \\n2.Отменить приказ Банка России от 28 апреля 2018 года № ОД-1132\\n«О размере штрафа за нарушение условий договора об общих условиях \\nпроведения депозитных операций». \\n3.Департаменту по связям с общественностью разместить настоящий\\nприказ на официальном сайте Банка России в информационно-\\nтелекоммуникационной сети «Интернет». \\nПредседатель Банка России Э.С. Набиуллина \\n'. Вопрос: 'какой размер штрафа за нарушение кредитной организацией условий Договора об общих условиях проведения депозитных операций?'.\""
      ]
     },
     "execution_count": 182,
     "metadata": {},
     "output_type": "execute_result"
    }
   ],
   "source": [
    "temp_prompt = f'<LM>{full_propmt + questions[i]}'\n",
    "QA_PROMPT = system_prompt + \"Сгенерируй ответ на вопрос по тексту. Текст: '{context}'. Вопрос: '{question}'.\"\n",
    "QA_PROMPT.format(context=document_prompt, question=questions[i])"
   ]
  },
  {
   "cell_type": "code",
   "execution_count": 197,
   "metadata": {
    "tags": []
   },
   "outputs": [
    {
     "name": "stdout",
     "output_type": "stream",
     "text": [
      "<pad><extra_id_0>\n",
      "Размер штрафа за нарушение условий Договора об общих условиях проведения депозитных операций составляет 0,5% от суммы депозита. \n",
      "При этом, если сумма депозита превышает сумму штрафа, то размер штрафа увеличивается на 0,5%. \n",
      "Если сумма депозита меньше суммы штрафа, то штраф уменьшается на 0,1%. \n",
      "В случае, если размер штрафа превышает сумму депозита, то штраф увеличивается на 1%. \n",
      "Примечание: размер штрафа может быть уменьшен на 0,2% при условии, что сумма депозита не превышает сумму штрафа. \n",
      "Отмена приказа Банка России от 28 апреля 2018 года № ОД-1132 \n",
      "об отмене приказа от 28 марта 2018 года № ИН-01-20/16 об отмене Информационного письма Банка России о порядке проведения Банком России депозитных операций. \n",
      "В целях снижения рисков использования услуг кредитных организаций в противоправных целях, Банк России рекомендует кредитным организациям: \n",
      "1. Осуществлять мониторинг операций по банковским счетам дропов или операций с использованием предоставленных им электронных средств платежа в целях установления клиентов – физических лиц, осуществляющих переводы денежных средств (электронных денежных средств) в пользу дропов, связанных с покупкой (продажей) цифровых валют. \n",
      "2. Запрашивать у них дополнительную информацию и документы о характере и целях проводимых ими операций с привлечением дропов. \n",
      "3. Проводить углубленную проверку информации об их операциях и деятельности, представителях, выгодоприобретателях, бенефициарных владельцах, а также учитывать полученную информацию при оценке степени (уровня) риска совершения клиентом – физическим лицом подозрительных операций.</s>\n"
     ]
    }
   ],
   "source": [
    "prompt = '''<SC6>Текст: {}\\nВопрос: {}\\nОтвет: <extra_id_0>'''.format(full_propmt, questions[0])\n",
    "print(generate(prompt))"
   ]
  },
  {
   "cell_type": "code",
   "execution_count": null,
   "metadata": {},
   "outputs": [],
   "source": []
  }
 ],
 "metadata": {
  "kernelspec": {
   "display_name": "Python 3 (ipykernel)",
   "language": "python",
   "name": "python3"
  },
  "language_info": {
   "codemirror_mode": {
    "name": "ipython",
    "version": 3
   },
   "file_extension": ".py",
   "mimetype": "text/x-python",
   "name": "python",
   "nbconvert_exporter": "python",
   "pygments_lexer": "ipython3",
   "version": "3.11.6"
  }
 },
 "nbformat": 4,
 "nbformat_minor": 4
}
