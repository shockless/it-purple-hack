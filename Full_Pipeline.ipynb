{
 "cells": [
  {
   "cell_type": "code",
   "execution_count": 1,
   "id": "d6b62680-fd7a-47a0-a5f4-0f7a42c11368",
   "metadata": {
    "execution": {
     "iopub.execute_input": "2024-03-14T03:42:41.068755Z",
     "iopub.status.busy": "2024-03-14T03:42:41.068433Z",
     "iopub.status.idle": "2024-03-14T03:42:46.185996Z",
     "shell.execute_reply": "2024-03-14T03:42:46.185388Z",
     "shell.execute_reply.started": "2024-03-14T03:42:41.068734Z"
    },
    "tags": []
   },
   "outputs": [
    {
     "name": "stderr",
     "output_type": "stream",
     "text": [
      "/home/jupyter/.local/lib/python3.10/site-packages/transformers/utils/hub.py:124: FutureWarning: Using `TRANSFORMERS_CACHE` is deprecated and will be removed in v5 of Transformers. Use `HF_HOME` instead.\n",
      "  warnings.warn(\n",
      "2024-03-14 03:42:45.462873: W tensorflow/compiler/tf2tensorrt/utils/py_utils.cc:38] TF-TRT Warning: Could not find TensorRT\n",
      "[nltk_data] Downloading package punkt to /home/jupyter/nltk_data...\n",
      "[nltk_data]   Package punkt is already up-to-date!\n"
     ]
    },
    {
     "data": {
      "text/plain": [
       "True"
      ]
     },
     "execution_count": 1,
     "metadata": {},
     "output_type": "execute_result"
    }
   ],
   "source": [
    "import torch\n",
    "import pandas as pd\n",
    "import re\n",
    "import torch\n",
    "import nltk\n",
    "\n",
    "from transformers import AutoTokenizer, T5ForConditionalGeneration\n",
    "from transformers import AutoModelForSeq2SeqLM, T5TokenizerFast\n",
    "from transformers import AutoModelForSequenceClassification\n",
    "from transformers import set_seed\n",
    "\n",
    "import clickhouse_connect\n",
    "\n",
    "from sentence_transformers import SentenceTransformer\n",
    "from FlagEmbedding import BGEM3FlagModel\n",
    "\n",
    "from utils.utils import Chunker, Retriever\n",
    "from utils.generators import GenerationConfig, Generator, SpellChecker, ToxicityClassifier\n",
    "\n",
    "device = 'cuda'\n",
    "\n",
    "set_seed(42)\n",
    "\n",
    "nltk.download('punkt')\n",
    "torch.cuda.is_available()"
   ]
  },
  {
   "cell_type": "markdown",
   "id": "e48325ff-21da-403c-a756-0e44ba48e35e",
   "metadata": {},
   "source": [
    "# Соединение с БД"
   ]
  },
  {
   "cell_type": "markdown",
   "id": "b198e79e-57e3-4019-93d2-c50c25befe61",
   "metadata": {},
   "source": [
    "ClickHouse"
   ]
  },
  {
   "cell_type": "code",
   "execution_count": 2,
   "id": "7fd7cc76-76fc-43cb-ab6e-fd5c09635fd4",
   "metadata": {
    "execution": {
     "iopub.execute_input": "2024-03-14T03:42:48.865789Z",
     "iopub.status.busy": "2024-03-14T03:42:48.865288Z",
     "iopub.status.idle": "2024-03-14T03:42:48.901597Z",
     "shell.execute_reply": "2024-03-14T03:42:48.901027Z",
     "shell.execute_reply.started": "2024-03-14T03:42:48.865764Z"
    },
    "tags": []
   },
   "outputs": [],
   "source": [
    "client = clickhouse_connect.get_client(host='62.84.115.43', port=8123, username='viewer', password='viewer', database='dev')"
   ]
  },
  {
   "cell_type": "markdown",
   "id": "715159c1-a510-41c8-ad2b-7ade1078c345",
   "metadata": {},
   "source": [
    "# Подгрузка моделей"
   ]
  },
  {
   "cell_type": "markdown",
   "id": "e46f44a4-dc7c-4b28-a3ea-c2e5987b1a53",
   "metadata": {
    "tags": []
   },
   "source": [
    "## Ретриверы"
   ]
  },
  {
   "cell_type": "markdown",
   "id": "e9e9307f-bd4e-47f0-ba10-cdf655d7b5ee",
   "metadata": {
    "tags": []
   },
   "source": [
    "BGE-M3, E5-Large. Длина контекста ограничена нами 512 токенами"
   ]
  },
  {
   "cell_type": "code",
   "execution_count": 3,
   "id": "c9323b92-8a61-4b4d-96d2-aa429636364f",
   "metadata": {
    "execution": {
     "iopub.execute_input": "2024-03-14T03:42:51.760622Z",
     "iopub.status.busy": "2024-03-14T03:42:51.760019Z",
     "iopub.status.idle": "2024-03-14T03:44:18.816358Z",
     "shell.execute_reply": "2024-03-14T03:44:18.815631Z",
     "shell.execute_reply.started": "2024-03-14T03:42:51.760601Z"
    },
    "tags": []
   },
   "outputs": [
    {
     "data": {
      "application/vnd.jupyter.widget-view+json": {
       "model_id": "960f6b821a5d434f9dbb7a70b88ab1a7",
       "version_major": 2,
       "version_minor": 0
      },
      "text/plain": [
       "Fetching 23 files:   0%|          | 0/23 [00:00<?, ?it/s]"
      ]
     },
     "metadata": {},
     "output_type": "display_data"
    },
    {
     "data": {
      "application/vnd.jupyter.widget-view+json": {
       "model_id": "c4def0e3fa7b4096beb25094339cfec8",
       "version_major": 2,
       "version_minor": 0
      },
      "text/plain": [
       "1_Pooling/config.json:   0%|          | 0.00/191 [00:00<?, ?B/s]"
      ]
     },
     "metadata": {},
     "output_type": "display_data"
    },
    {
     "data": {
      "application/vnd.jupyter.widget-view+json": {
       "model_id": "de6fbbe8d3b14eecaba44844f284ee89",
       "version_major": 2,
       "version_minor": 0
      },
      "text/plain": [
       "imgs/bm25.jpg:   0%|          | 0.00/69.0k [00:00<?, ?B/s]"
      ]
     },
     "metadata": {},
     "output_type": "display_data"
    },
    {
     "data": {
      "application/vnd.jupyter.widget-view+json": {
       "model_id": "797a2db42ab943ea8962aaad6c9ed0e2",
       "version_major": 2,
       "version_minor": 0
      },
      "text/plain": [
       ".gitattributes:   0%|          | 0.00/1.57k [00:00<?, ?B/s]"
      ]
     },
     "metadata": {},
     "output_type": "display_data"
    },
    {
     "data": {
      "application/vnd.jupyter.widget-view+json": {
       "model_id": "6bc1bd88edb94a56904fb4230c408051",
       "version_major": 2,
       "version_minor": 0
      },
      "text/plain": [
       "imgs/.DS_Store:   0%|          | 0.00/6.15k [00:00<?, ?B/s]"
      ]
     },
     "metadata": {},
     "output_type": "display_data"
    },
    {
     "data": {
      "application/vnd.jupyter.widget-view+json": {
       "model_id": "4a86d2bdea1046fda879b046ebe6436f",
       "version_major": 2,
       "version_minor": 0
      },
      "text/plain": [
       "config_sentence_transformers.json:   0%|          | 0.00/123 [00:00<?, ?B/s]"
      ]
     },
     "metadata": {},
     "output_type": "display_data"
    },
    {
     "data": {
      "application/vnd.jupyter.widget-view+json": {
       "model_id": "05b0c7cfc90145f8bc54e61517bb33af",
       "version_major": 2,
       "version_minor": 0
      },
      "text/plain": [
       "README.md:   0%|          | 0.00/15.3k [00:00<?, ?B/s]"
      ]
     },
     "metadata": {},
     "output_type": "display_data"
    },
    {
     "data": {
      "application/vnd.jupyter.widget-view+json": {
       "model_id": "f0effc18c6fc4bd29c821d9112a7f0ee",
       "version_major": 2,
       "version_minor": 0
      },
      "text/plain": [
       "colbert_linear.pt:   0%|          | 0.00/2.10M [00:00<?, ?B/s]"
      ]
     },
     "metadata": {},
     "output_type": "display_data"
    },
    {
     "data": {
      "application/vnd.jupyter.widget-view+json": {
       "model_id": "bac3c61328ca41c69b0bcd336dc6ab55",
       "version_major": 2,
       "version_minor": 0
      },
      "text/plain": [
       "config.json:   0%|          | 0.00/687 [00:00<?, ?B/s]"
      ]
     },
     "metadata": {},
     "output_type": "display_data"
    },
    {
     "data": {
      "application/vnd.jupyter.widget-view+json": {
       "model_id": "b9c4be887cec46cb92ac317aa44f2673",
       "version_major": 2,
       "version_minor": 0
      },
      "text/plain": [
       "imgs/long.jpg:   0%|          | 0.00/485k [00:00<?, ?B/s]"
      ]
     },
     "metadata": {},
     "output_type": "display_data"
    },
    {
     "data": {
      "application/vnd.jupyter.widget-view+json": {
       "model_id": "ea4c655c18cd4f6f8461d73e9963f57a",
       "version_major": 2,
       "version_minor": 0
      },
      "text/plain": [
       "imgs/miracl.jpg:   0%|          | 0.00/448k [00:00<?, ?B/s]"
      ]
     },
     "metadata": {},
     "output_type": "display_data"
    },
    {
     "data": {
      "application/vnd.jupyter.widget-view+json": {
       "model_id": "52a0c597d8514a6b8acd162bc07e2b45",
       "version_major": 2,
       "version_minor": 0
      },
      "text/plain": [
       "imgs/nqa.jpg:   0%|          | 0.00/158k [00:00<?, ?B/s]"
      ]
     },
     "metadata": {},
     "output_type": "display_data"
    },
    {
     "data": {
      "application/vnd.jupyter.widget-view+json": {
       "model_id": "ab748c96c0d04d47a5fb39f7a3bf7612",
       "version_major": 2,
       "version_minor": 0
      },
      "text/plain": [
       "imgs/mkqa.jpg:   0%|          | 0.00/608k [00:00<?, ?B/s]"
      ]
     },
     "metadata": {},
     "output_type": "display_data"
    },
    {
     "data": {
      "application/vnd.jupyter.widget-view+json": {
       "model_id": "04a53aaeb33d472ca42e650073bfc4c0",
       "version_major": 2,
       "version_minor": 0
      },
      "text/plain": [
       "long.jpg:   0%|          | 0.00/127k [00:00<?, ?B/s]"
      ]
     },
     "metadata": {},
     "output_type": "display_data"
    },
    {
     "data": {
      "application/vnd.jupyter.widget-view+json": {
       "model_id": "a1a978e220dc45b890d6ba924f684495",
       "version_major": 2,
       "version_minor": 0
      },
      "text/plain": [
       "imgs/others.webp:   0%|          | 0.00/21.0k [00:00<?, ?B/s]"
      ]
     },
     "metadata": {},
     "output_type": "display_data"
    },
    {
     "data": {
      "application/vnd.jupyter.widget-view+json": {
       "model_id": "7d2dd9baad0c4c1890224f823e6e277a",
       "version_major": 2,
       "version_minor": 0
      },
      "text/plain": [
       "model.safetensors:   0%|          | 0.00/2.27G [00:00<?, ?B/s]"
      ]
     },
     "metadata": {},
     "output_type": "display_data"
    },
    {
     "data": {
      "application/vnd.jupyter.widget-view+json": {
       "model_id": "84281a5e194e4dccbeac8712c15695d0",
       "version_major": 2,
       "version_minor": 0
      },
      "text/plain": [
       "modules.json:   0%|          | 0.00/349 [00:00<?, ?B/s]"
      ]
     },
     "metadata": {},
     "output_type": "display_data"
    },
    {
     "data": {
      "application/vnd.jupyter.widget-view+json": {
       "model_id": "2c12c527a22d4d2f887a3d9024dda82a",
       "version_major": 2,
       "version_minor": 0
      },
      "text/plain": [
       "sentence_bert_config.json:   0%|          | 0.00/54.0 [00:00<?, ?B/s]"
      ]
     },
     "metadata": {},
     "output_type": "display_data"
    },
    {
     "data": {
      "application/vnd.jupyter.widget-view+json": {
       "model_id": "89f08d1bd2994ddc812fef8d8cc5ee85",
       "version_major": 2,
       "version_minor": 0
      },
      "text/plain": [
       "special_tokens_map.json:   0%|          | 0.00/964 [00:00<?, ?B/s]"
      ]
     },
     "metadata": {},
     "output_type": "display_data"
    },
    {
     "data": {
      "application/vnd.jupyter.widget-view+json": {
       "model_id": "9805c123b4eb4e23bfb8a1296088d9ca",
       "version_major": 2,
       "version_minor": 0
      },
      "text/plain": [
       "tokenizer.json:   0%|          | 0.00/17.1M [00:00<?, ?B/s]"
      ]
     },
     "metadata": {},
     "output_type": "display_data"
    },
    {
     "data": {
      "application/vnd.jupyter.widget-view+json": {
       "model_id": "29c36d0a98e3463b8ac1cc19d44d87e0",
       "version_major": 2,
       "version_minor": 0
      },
      "text/plain": [
       "sentencepiece.bpe.model:   0%|          | 0.00/5.07M [00:00<?, ?B/s]"
      ]
     },
     "metadata": {},
     "output_type": "display_data"
    },
    {
     "data": {
      "application/vnd.jupyter.widget-view+json": {
       "model_id": "ccd09dcdf5164bddbf85e2f947358f40",
       "version_major": 2,
       "version_minor": 0
      },
      "text/plain": [
       "pytorch_model.bin:   0%|          | 0.00/2.27G [00:00<?, ?B/s]"
      ]
     },
     "metadata": {},
     "output_type": "display_data"
    },
    {
     "data": {
      "application/vnd.jupyter.widget-view+json": {
       "model_id": "88552611e63844179a8a0d0ce5c6dbaf",
       "version_major": 2,
       "version_minor": 0
      },
      "text/plain": [
       "sparse_linear.pt:   0%|          | 0.00/3.52k [00:00<?, ?B/s]"
      ]
     },
     "metadata": {},
     "output_type": "display_data"
    },
    {
     "data": {
      "application/vnd.jupyter.widget-view+json": {
       "model_id": "2fcc79db9e784765be4ee4a214a8b3da",
       "version_major": 2,
       "version_minor": 0
      },
      "text/plain": [
       "tokenizer_config.json:   0%|          | 0.00/1.31k [00:00<?, ?B/s]"
      ]
     },
     "metadata": {},
     "output_type": "display_data"
    },
    {
     "name": "stdout",
     "output_type": "stream",
     "text": [
      "loading existing colbert_linear and sparse_linear---------\n"
     ]
    },
    {
     "data": {
      "application/vnd.jupyter.widget-view+json": {
       "model_id": "42b2e67bed734c5c9e316def24f92ff8",
       "version_major": 2,
       "version_minor": 0
      },
      "text/plain": [
       "modules.json:   0%|          | 0.00/387 [00:00<?, ?B/s]"
      ]
     },
     "metadata": {},
     "output_type": "display_data"
    },
    {
     "data": {
      "application/vnd.jupyter.widget-view+json": {
       "model_id": "fe2d43f8548149c2b20cb1d882c54d89",
       "version_major": 2,
       "version_minor": 0
      },
      "text/plain": [
       "README.md:   0%|          | 0.00/160k [00:00<?, ?B/s]"
      ]
     },
     "metadata": {},
     "output_type": "display_data"
    },
    {
     "data": {
      "application/vnd.jupyter.widget-view+json": {
       "model_id": "ffa349c47b8e4466ab58068ead5b362b",
       "version_major": 2,
       "version_minor": 0
      },
      "text/plain": [
       "sentence_bert_config.json:   0%|          | 0.00/57.0 [00:00<?, ?B/s]"
      ]
     },
     "metadata": {},
     "output_type": "display_data"
    },
    {
     "data": {
      "application/vnd.jupyter.widget-view+json": {
       "model_id": "85b59a0e8eee4abe80333763c46ca09b",
       "version_major": 2,
       "version_minor": 0
      },
      "text/plain": [
       "1_Pooling/config.json:   0%|          | 0.00/201 [00:00<?, ?B/s]"
      ]
     },
     "metadata": {},
     "output_type": "display_data"
    }
   ],
   "source": [
    "bge_retriever_model = BGEM3FlagModel('BAAI/bge-m3', use_fp16=True, pooling_method=\"cls\")\n",
    "e5_retriever_model = SentenceTransformer(\"intfloat/multilingual-e5-large\", device=device)\n",
    "e5_retriever_model.max_seq_length = 512"
   ]
  },
  {
   "cell_type": "markdown",
   "id": "7daa629a-6fac-414b-a3a5-740cabd2929f",
   "metadata": {},
   "source": [
    "## Генератор"
   ]
  },
  {
   "cell_type": "markdown",
   "id": "748139e1-3bc8-4aee-a14a-5e360e48fd79",
   "metadata": {},
   "source": [
    "FRED-T5-Large QA"
   ]
  },
  {
   "cell_type": "code",
   "execution_count": 4,
   "id": "a182e475-a4ea-4275-851f-1303132c3395",
   "metadata": {
    "execution": {
     "iopub.execute_input": "2024-03-14T03:44:18.817614Z",
     "iopub.status.busy": "2024-03-14T03:44:18.817280Z",
     "iopub.status.idle": "2024-03-14T03:44:21.153691Z",
     "shell.execute_reply": "2024-03-14T03:44:21.152948Z",
     "shell.execute_reply.started": "2024-03-14T03:44:18.817593Z"
    },
    "tags": []
   },
   "outputs": [
    {
     "name": "stderr",
     "output_type": "stream",
     "text": [
      "Special tokens have been added in the vocabulary, make sure the associated word embeddings are fine-tuned or trained.\n"
     ]
    }
   ],
   "source": [
    "generator_model_name = \"hivaze/AAQG-QA-QG-FRED-T5-large\"\n",
    "generator_tokenizer = AutoTokenizer.from_pretrained(generator_model_name)\n",
    "generator_model = T5ForConditionalGeneration.from_pretrained(generator_model_name).to(device).eval()"
   ]
  },
  {
   "cell_type": "markdown",
   "id": "7a2efab1-0d58-454a-a443-43849741b5b3",
   "metadata": {},
   "source": [
    "## Проверщик орфографии"
   ]
  },
  {
   "cell_type": "markdown",
   "id": "b48ae2fb-7d7d-45d7-ae99-dec51087c615",
   "metadata": {
    "execution": {
     "iopub.execute_input": "2024-03-14T02:21:39.936052Z",
     "iopub.status.busy": "2024-03-14T02:21:39.935663Z",
     "iopub.status.idle": "2024-03-14T02:21:40.533742Z",
     "shell.execute_reply": "2024-03-14T02:21:40.532925Z",
     "shell.execute_reply.started": "2024-03-14T02:21:39.936032Z"
    }
   },
   "source": [
    "T5-russian-spell. Используется для исправления неаккуратно написанных вопросов"
   ]
  },
  {
   "cell_type": "code",
   "execution_count": 5,
   "id": "c5a8e6b4-5306-4b75-b9f7-376e2a3e9dc3",
   "metadata": {
    "execution": {
     "iopub.execute_input": "2024-03-14T03:44:21.155429Z",
     "iopub.status.busy": "2024-03-14T03:44:21.155027Z",
     "iopub.status.idle": "2024-03-14T03:44:22.189149Z",
     "shell.execute_reply": "2024-03-14T03:44:22.188398Z",
     "shell.execute_reply.started": "2024-03-14T03:44:21.155409Z"
    },
    "tags": []
   },
   "outputs": [],
   "source": [
    "spelchecker_model_name = 'UrukHan/t5-russian-spell'\n",
    "\n",
    "spell_checker_tokenizer = T5TokenizerFast.from_pretrained(spelchecker_model_name)\n",
    "spell_checker_model = AutoModelForSeq2SeqLM.from_pretrained(spelchecker_model_name).to(device).eval()"
   ]
  },
  {
   "cell_type": "markdown",
   "id": "b5ef8dbb-5320-4d5a-b2ff-034f44a3dba3",
   "metadata": {},
   "source": [
    "## Классификатор Токсичного языка"
   ]
  },
  {
   "cell_type": "markdown",
   "id": "bf1f60df-990d-44be-bc37-01838c0e2fb8",
   "metadata": {},
   "source": [
    "RuBERT-Tiny. Используется для отклонения сообщений с матом или оскорблениями"
   ]
  },
  {
   "cell_type": "code",
   "execution_count": 6,
   "id": "ac4d654d-c34b-42ed-a5eb-69469e9ead36",
   "metadata": {
    "execution": {
     "iopub.execute_input": "2024-03-14T03:44:22.190473Z",
     "iopub.status.busy": "2024-03-14T03:44:22.190216Z",
     "iopub.status.idle": "2024-03-14T03:44:22.648787Z",
     "shell.execute_reply": "2024-03-14T03:44:22.648006Z",
     "shell.execute_reply.started": "2024-03-14T03:44:22.190455Z"
    },
    "tags": []
   },
   "outputs": [],
   "source": [
    "toxicity_detection_model_name = 'cointegrated/rubert-tiny-toxicity'\n",
    "toxicity_detection_tokenizer = AutoTokenizer.from_pretrained(toxicity_detection_model_name)\n",
    "toxicity_detection_model = AutoModelForSequenceClassification.from_pretrained(toxicity_detection_model_name).to(device).eval()"
   ]
  },
  {
   "cell_type": "markdown",
   "id": "24b69108-88f4-43f0-8833-f49be6dd4491",
   "metadata": {},
   "source": [
    "# Подгружаем подготовленные тестовые вопросы"
   ]
  },
  {
   "cell_type": "code",
   "execution_count": 7,
   "id": "9e58d6f8-7c80-42ae-909a-481c840b7997",
   "metadata": {
    "execution": {
     "iopub.execute_input": "2024-03-14T03:44:22.649828Z",
     "iopub.status.busy": "2024-03-14T03:44:22.649576Z",
     "iopub.status.idle": "2024-03-14T03:44:22.669939Z",
     "shell.execute_reply": "2024-03-14T03:44:22.669330Z",
     "shell.execute_reply.started": "2024-03-14T03:44:22.649810Z"
    },
    "tags": []
   },
   "outputs": [
    {
     "data": {
      "text/html": [
       "<div>\n",
       "<style scoped>\n",
       "    .dataframe tbody tr th:only-of-type {\n",
       "        vertical-align: middle;\n",
       "    }\n",
       "\n",
       "    .dataframe tbody tr th {\n",
       "        vertical-align: top;\n",
       "    }\n",
       "\n",
       "    .dataframe thead th {\n",
       "        text-align: right;\n",
       "    }\n",
       "</style>\n",
       "<table border=\"1\" class=\"dataframe\">\n",
       "  <thead>\n",
       "    <tr style=\"text-align: right;\">\n",
       "      <th></th>\n",
       "      <th>url</th>\n",
       "      <th>query</th>\n",
       "    </tr>\n",
       "  </thead>\n",
       "  <tbody>\n",
       "    <tr>\n",
       "      <th>0</th>\n",
       "      <td>https://cbr.ru/Crosscut/LawActs/File/6620/</td>\n",
       "      <td>Кто может принимать участие в закупках Банка Р...</td>\n",
       "    </tr>\n",
       "    <tr>\n",
       "      <th>1</th>\n",
       "      <td>https://cbr.ru/Queries/UniDbQuery/File/90134/2...</td>\n",
       "      <td>Cроки предоставления информации об активах и о...</td>\n",
       "    </tr>\n",
       "    <tr>\n",
       "      <th>2</th>\n",
       "      <td>https://cbr.ru/Queries/UniDbQuery/File/90002/12/</td>\n",
       "      <td>Что считается уровнем риска?</td>\n",
       "    </tr>\n",
       "    <tr>\n",
       "      <th>3</th>\n",
       "      <td>https://cbr.ru/Queries/UniDbQuery/File/90002/12/</td>\n",
       "      <td>Какими видами рисков обязательно должен управл...</td>\n",
       "    </tr>\n",
       "    <tr>\n",
       "      <th>4</th>\n",
       "      <td>https://cbr.ru/Crosscut/LawActs/File/6144/</td>\n",
       "      <td>На какие банковские операции распространяется ...</td>\n",
       "    </tr>\n",
       "  </tbody>\n",
       "</table>\n",
       "</div>"
      ],
      "text/plain": [
       "                                                 url                                              query\n",
       "0         https://cbr.ru/Crosscut/LawActs/File/6620/  Кто может принимать участие в закупках Банка Р...\n",
       "1  https://cbr.ru/Queries/UniDbQuery/File/90134/2...  Cроки предоставления информации об активах и о...\n",
       "2   https://cbr.ru/Queries/UniDbQuery/File/90002/12/                       Что считается уровнем риска?\n",
       "3   https://cbr.ru/Queries/UniDbQuery/File/90002/12/  Какими видами рисков обязательно должен управл...\n",
       "4         https://cbr.ru/Crosscut/LawActs/File/6144/  На какие банковские операции распространяется ..."
      ]
     },
     "execution_count": 7,
     "metadata": {},
     "output_type": "execute_result"
    }
   ],
   "source": [
    "book = pd.read_csv('book.csv', index_col=0)\n",
    "book.head()"
   ]
  },
  {
   "cell_type": "markdown",
   "id": "9c1bcde1-3155-41e0-8c16-5e1ece2a5324",
   "metadata": {},
   "source": [
    "# Процесс Retrieval'a"
   ]
  },
  {
   "cell_type": "markdown",
   "id": "6419f0c5-f1f4-434b-8325-ed7978739921",
   "metadata": {},
   "source": [
    "## Инициализация классов"
   ]
  },
  {
   "cell_type": "code",
   "execution_count": 8,
   "id": "6f2b0679-1bd7-432d-9b5f-662007e37dfb",
   "metadata": {
    "execution": {
     "iopub.execute_input": "2024-03-14T03:44:22.670944Z",
     "iopub.status.busy": "2024-03-14T03:44:22.670682Z",
     "iopub.status.idle": "2024-03-14T03:44:22.679263Z",
     "shell.execute_reply": "2024-03-14T03:44:22.678669Z",
     "shell.execute_reply.started": "2024-03-14T03:44:22.670926Z"
    },
    "tags": []
   },
   "outputs": [],
   "source": [
    "spell_checker = SpellChecker(spell_checker_tokenizer, spell_checker_model)\n",
    "toxicity_detector = ToxicityClassifier(toxicity_detection_tokenizer, toxicity_detection_model)\n",
    "retriever = Retriever(e5_retriever_model, bge_retriever_model, client)"
   ]
  },
  {
   "cell_type": "code",
   "execution_count": 99,
   "id": "ef0788da-0085-41ca-8ce2-7caa7e7d772d",
   "metadata": {
    "execution": {
     "iopub.execute_input": "2024-03-14T04:09:04.327965Z",
     "iopub.status.busy": "2024-03-14T04:09:04.327585Z",
     "iopub.status.idle": "2024-03-14T04:09:04.342737Z",
     "shell.execute_reply": "2024-03-14T04:09:04.342056Z",
     "shell.execute_reply.started": "2024-03-14T04:09:04.327939Z"
    },
    "tags": []
   },
   "outputs": [],
   "source": [
    "generator_config = GenerationConfig(num_beams=5, num_return_sequences=5)\n",
    "generator = Generator(generator_tokenizer, generator_model, config=generator_config)"
   ]
  },
  {
   "cell_type": "markdown",
   "id": "9b384d41-91cd-4c60-a260-72ac056873b9",
   "metadata": {},
   "source": [
    "## Получения семпла вопроса"
   ]
  },
  {
   "cell_type": "code",
   "execution_count": 10,
   "id": "250aaf19-a014-41cf-ac68-eb9668dc6383",
   "metadata": {
    "execution": {
     "iopub.execute_input": "2024-03-14T03:44:22.690402Z",
     "iopub.status.busy": "2024-03-14T03:44:22.690117Z",
     "iopub.status.idle": "2024-03-14T03:44:22.699222Z",
     "shell.execute_reply": "2024-03-14T03:44:22.698752Z",
     "shell.execute_reply.started": "2024-03-14T03:44:22.690384Z"
    },
    "tags": []
   },
   "outputs": [
    {
     "data": {
      "text/plain": [
       "'Какие полномочия у председателя ВЭБ.РФ?'"
      ]
     },
     "execution_count": 10,
     "metadata": {},
     "output_type": "execute_result"
    }
   ],
   "source": [
    "question = book.iloc[7].query\n",
    "question"
   ]
  },
  {
   "cell_type": "markdown",
   "id": "03618b04-dddc-48f2-ac4e-997e2ec04365",
   "metadata": {
    "execution": {
     "iopub.execute_input": "2024-03-14T02:31:44.663031Z",
     "iopub.status.busy": "2024-03-14T02:31:44.662640Z",
     "iopub.status.idle": "2024-03-14T02:31:44.674591Z",
     "shell.execute_reply": "2024-03-14T02:31:44.673845Z",
     "shell.execute_reply.started": "2024-03-14T02:31:44.663011Z"
    }
   },
   "source": [
    "Сначала проверяем, нет ли оскорблений в тексте запроса, приводим его к орфографически правильному языку."
   ]
  },
  {
   "cell_type": "code",
   "execution_count": 11,
   "id": "0f1d879e-bfe5-4a25-896f-e0f6402315c9",
   "metadata": {
    "execution": {
     "iopub.execute_input": "2024-03-14T03:44:22.700149Z",
     "iopub.status.busy": "2024-03-14T03:44:22.699863Z",
     "iopub.status.idle": "2024-03-14T03:44:22.894116Z",
     "shell.execute_reply": "2024-03-14T03:44:22.893461Z",
     "shell.execute_reply.started": "2024-03-14T03:44:22.700132Z"
    },
    "tags": []
   },
   "outputs": [],
   "source": [
    "if toxicity_detector(question):\n",
    "    raise ValueError"
   ]
  },
  {
   "cell_type": "code",
   "execution_count": 12,
   "id": "7fea92fa-6ad0-4eeb-a46d-e34f2a63eff0",
   "metadata": {
    "execution": {
     "iopub.execute_input": "2024-03-14T03:44:22.895218Z",
     "iopub.status.busy": "2024-03-14T03:44:22.894872Z",
     "iopub.status.idle": "2024-03-14T03:44:23.845946Z",
     "shell.execute_reply": "2024-03-14T03:44:23.844692Z",
     "shell.execute_reply.started": "2024-03-14T03:44:22.895197Z"
    },
    "tags": []
   },
   "outputs": [
    {
     "data": {
      "text/plain": [
       "'Какие полномочия у председателя ВЭБ РФ?...'"
      ]
     },
     "execution_count": 12,
     "metadata": {},
     "output_type": "execute_result"
    }
   ],
   "source": [
    "corrected_question = spell_checker(question)[0]\n",
    "corrected_question"
   ]
  },
  {
   "cell_type": "markdown",
   "id": "84082eb8-3576-4c76-9f35-fca0d5113f2a",
   "metadata": {},
   "source": [
    "Генерируем документ по вопросу (HyDE)"
   ]
  },
  {
   "cell_type": "code",
   "execution_count": 13,
   "id": "01ae6598-57e0-4968-90ec-56c444e76a96",
   "metadata": {
    "execution": {
     "iopub.execute_input": "2024-03-14T03:44:23.847040Z",
     "iopub.status.busy": "2024-03-14T03:44:23.846753Z",
     "iopub.status.idle": "2024-03-14T03:44:24.263782Z",
     "shell.execute_reply": "2024-03-14T03:44:24.263175Z",
     "shell.execute_reply.started": "2024-03-14T03:44:23.847019Z"
    },
    "tags": []
   },
   "outputs": [
    {
     "data": {
      "text/plain": [
       "'Полномочия председателя ВЭБ.РФ'"
      ]
     },
     "execution_count": 13,
     "metadata": {},
     "output_type": "execute_result"
    }
   ],
   "source": [
    "hyde_question = generator.hyde(question, temperature=0.5, num_beams=4)\n",
    "hyde_question"
   ]
  },
  {
   "cell_type": "markdown",
   "id": "e5069691-d503-4062-8feb-0da2f91ffe32",
   "metadata": {},
   "source": [
    "Идем в базу данных искать похожие на полученный документ документы. Возвращаем их текст и ссылки. Так как используются две модели retrieval'a, мы объединяем результаты поиска по пространствам обеих и подаем таблицу в Реранкер (BGE-M3 Colbert), который переранжирует документы. "
   ]
  },
  {
   "cell_type": "code",
   "execution_count": 14,
   "id": "eeef93f9-27be-4ec2-bb81-33e12b5c756a",
   "metadata": {
    "execution": {
     "iopub.execute_input": "2024-03-14T03:44:24.264784Z",
     "iopub.status.busy": "2024-03-14T03:44:24.264522Z",
     "iopub.status.idle": "2024-03-14T03:44:25.034548Z",
     "shell.execute_reply": "2024-03-14T03:44:25.033734Z",
     "shell.execute_reply.started": "2024-03-14T03:44:24.264764Z"
    },
    "tags": []
   },
   "outputs": [],
   "source": [
    "topk_texts, topk_urls, question_embedding = retriever.get_neighbors(corrected_question, top_k=16)\n",
    "rerank_indeces = retriever.rerank(question_embedding, topk_texts, 3)\n",
    "reranked_texts, reranked_urls = retriever.get_topk(topk_texts, topk_urls, rerank_indeces)"
   ]
  },
  {
   "cell_type": "markdown",
   "id": "90632301-c885-4faf-a81f-d3d5c05a8a52",
   "metadata": {},
   "source": [
    "На основе полученных документов и изначального вопроса генерируется ответ, также содержащий в себе ссылки на использованные файлы."
   ]
  },
  {
   "cell_type": "markdown",
   "id": "849bdd2f-ee12-44d0-b6b6-6b0e17c7a39b",
   "metadata": {},
   "source": [
    "# Генерируем вопрос"
   ]
  },
  {
   "cell_type": "code",
   "execution_count": 16,
   "id": "7f51ed8a-46d5-47e3-8c37-8a1b87f0c6b1",
   "metadata": {
    "execution": {
     "iopub.execute_input": "2024-03-14T03:02:48.529775Z",
     "iopub.status.busy": "2024-03-14T03:02:48.529292Z",
     "iopub.status.idle": "2024-03-14T03:02:53.444116Z",
     "shell.execute_reply": "2024-03-14T03:02:53.443352Z",
     "shell.execute_reply.started": "2024-03-14T03:02:48.529748Z"
    },
    "tags": []
   },
   "outputs": [
    {
     "name": "stdout",
     "output_type": "stream",
     "text": [
      "В соответствии с Федеральным законом от 22 апреля 1996 года No 39-ФЗ \"О рынке ценных бумаг\" председатель ВЭБ.РФ осуществляет следующие полномочия:\n",
      "1) осуществляет руководство текущей деятельностью ВэБ РФ;\n",
      "2) издает приказы и распоряжения по вопросам деятельности В ЭБ;3) утверждает организационную структуру и штатное расписание В эб;4) определяет служебные права и обязанности работников В эмб.\n",
      "(В редакции Федерального закона от 28.11.2018 No 452 -ФЗ)5) распределяет обязанности между своими заместителями и иными работниками Вэмб\n",
      "\n",
      "Использованные документы:\n",
      "1) http://pravo.gov.ru/proxy/ips/?docbody=&nd=102114195 \n",
      "\n"
     ]
    }
   ],
   "source": [
    "print(generator(question, reranked_texts, reranked_urls, temperature=0.2))"
   ]
  },
  {
   "cell_type": "markdown",
   "id": "8e86cf6a-d2ec-4289-9d7d-d3456961c4ca",
   "metadata": {},
   "source": [
    "## Бенчмарк (сколько раз мы верно угадали документ)"
   ]
  },
  {
   "cell_type": "code",
   "execution_count": 18,
   "id": "cb151a8f-cb75-4969-a19d-c40b20b2613a",
   "metadata": {
    "execution": {
     "iopub.execute_input": "2024-03-14T03:46:53.926904Z",
     "iopub.status.busy": "2024-03-14T03:46:53.926565Z",
     "iopub.status.idle": "2024-03-14T03:48:08.677374Z",
     "shell.execute_reply": "2024-03-14T03:48:08.676588Z",
     "shell.execute_reply.started": "2024-03-14T03:46:53.926884Z"
    },
    "tags": []
   },
   "outputs": [
    {
     "name": "stdout",
     "output_type": "stream",
     "text": [
      "recall@1: 0.7333333333333333\n",
      "recall@3: 0.9333333333333333\n",
      "recall@5: 0.9333333333333333\n",
      "recall@10: 1.0\n"
     ]
    }
   ],
   "source": [
    "for i in [1, 3, 5, 10]:\n",
    "    cur_recall = 0\n",
    "    for ind, line in book.iterrows():\n",
    "        url, question = line.url, line.query\n",
    "        \n",
    "        corrected_question = spell_checker(question)[0]\n",
    "        hyde_question = generator.hyde(corrected_question, temperature=0.2, num_beams=4)\n",
    "        topk_texts, topk_urls, question_embedding = retriever.get_neighbors(question, top_k=16)\n",
    "        rerank_indeces = retriever.rerank(question_embedding, topk_texts, top_k=i)\n",
    "        reranked_texts, reranked_urls = retriever.get_topk(topk_texts, topk_urls, rerank_indeces)\n",
    "        cur_recall += url in reranked_urls\n",
    "        \n",
    "    print(f'recall@{i}:', cur_recall/len(book))"
   ]
  },
  {
   "cell_type": "markdown",
   "id": "e9b2038a-fdf6-4477-84fe-be8a19265554",
   "metadata": {},
   "source": [
    "## Теперь попробуйте сами!"
   ]
  },
  {
   "cell_type": "code",
   "execution_count": 106,
   "id": "0bcb3281-d23a-4f27-8fdd-3d92a80054f1",
   "metadata": {
    "execution": {
     "iopub.execute_input": "2024-03-14T04:10:05.337938Z",
     "iopub.status.busy": "2024-03-14T04:10:05.337532Z",
     "iopub.status.idle": "2024-03-14T04:10:05.357619Z",
     "shell.execute_reply": "2024-03-14T04:10:05.357041Z",
     "shell.execute_reply.started": "2024-03-14T04:10:05.337916Z"
    },
    "tags": []
   },
   "outputs": [],
   "source": [
    "def generate(question, toxicity_detector, spell_checker, generator, retriever):\n",
    "    if toxicity_detector(question):\n",
    "        return 'Bad Question!'\n",
    "    corrected_question = spell_checker(question)[0]\n",
    "    hyde_question = generator.hyde(question, temperature=0.2, num_beams=5)\n",
    "    topk_texts, topk_urls, question_embedding = retriever.get_neighbors(question, top_k=16)\n",
    "    rerank_indeces = retriever.rerank(question_embedding, topk_texts, 3)\n",
    "    reranked_texts, reranked_urls = retriever.get_topk(topk_texts, topk_urls, rerank_indeces)\n",
    "    return generator(question, reranked_texts, reranked_urls, temperature=0.6, num_beams=5), reranked_texts"
   ]
  },
  {
   "cell_type": "code",
   "execution_count": 113,
   "id": "55834236-defe-42e1-b9b2-49b56c361f55",
   "metadata": {
    "execution": {
     "iopub.execute_input": "2024-03-14T04:11:29.825983Z",
     "iopub.status.busy": "2024-03-14T04:11:29.825507Z",
     "iopub.status.idle": "2024-03-14T04:11:29.838603Z",
     "shell.execute_reply": "2024-03-14T04:11:29.838050Z",
     "shell.execute_reply.started": "2024-03-14T04:11:29.825962Z"
    },
    "tags": []
   },
   "outputs": [],
   "source": [
    "question = 'Какие полномочия у председателя ВЭБ РФ?'"
   ]
  },
  {
   "cell_type": "code",
   "execution_count": 114,
   "id": "bff7dbc9-7be7-4715-a916-d95c71a93bab",
   "metadata": {
    "execution": {
     "iopub.execute_input": "2024-03-14T04:11:30.203263Z",
     "iopub.status.busy": "2024-03-14T04:11:30.203013Z",
     "iopub.status.idle": "2024-03-14T04:11:38.436416Z",
     "shell.execute_reply": "2024-03-14T04:11:38.435590Z",
     "shell.execute_reply.started": "2024-03-14T04:11:30.203244Z"
    },
    "tags": []
   },
   "outputs": [
    {
     "name": "stdout",
     "output_type": "stream",
     "text": [
      "В соответствии с Федеральным законом от 22 апреля 1996 года No 39-ФЗ \"О рынке ценных бумаг\" председатель ВЭБ.РФ осуществляет следующие полномочия:\n",
      "1) осуществляет руководство текущей деятельностью;\n",
      "2) издает приказы и распоряжения по вопросам деятельности;3) утверждает организационную структуру и штатное расписание;4) определяет служебные права и обязанности работников;5) принимает решения по иным вопросам, отнесенным к компетенции наблюдательного совета или правления;6) назначает на должность своих заместителей, а также освобождает их от должности;7) распределяет обязанности между своими заместителями и иными работниками;8) выдает доверенности;9) устанавливает порядок осуществления отдельных видов банковских операций и сделок в случае противоречия порядка, установленного законодательством о банках и банковской деятельности, настоящему Федеральному закону;10) обеспечивает требования устойчивости и финансовой надежности кредитных организаций, соблюдения иных обязательных требований и нормативов;\n",
      "\n",
      "Использованные документы:\n",
      "1) http://pravo.gov.ru/proxy/ips/?docbody=&nd=102114195 \n",
      "\n"
     ]
    }
   ],
   "source": [
    "answer, reranked_texts = generate(question, toxicity_detector, spell_checker, generator, retriever)\n",
    "print(answer)"
   ]
  },
  {
   "cell_type": "markdown",
   "id": "4a51383f-d939-4c0f-a339-036d67e01653",
   "metadata": {},
   "source": [
    "### С использованными чанками докумнетов можно ознакомиться здесь"
   ]
  },
  {
   "cell_type": "code",
   "execution_count": 115,
   "id": "d3a197b3-8ac7-486e-bb06-88cc2b7ffebe",
   "metadata": {
    "execution": {
     "iopub.execute_input": "2024-03-14T04:11:44.595250Z",
     "iopub.status.busy": "2024-03-14T04:11:44.594895Z",
     "iopub.status.idle": "2024-03-14T04:11:44.610891Z",
     "shell.execute_reply": "2024-03-14T04:11:44.610011Z",
     "shell.execute_reply.started": "2024-03-14T04:11:44.595226Z"
    },
    "tags": []
   },
   "outputs": [
    {
     "data": {
      "text/plain": [
       "['(В редакции Федерального закона от 28.11.2018 No 452-ФЗ)(Статья в редакции Федерального закона от 29.12.2017 No 454-ФЗ) Статья 15.\\nПредседатель ВЭБ.РФ (Наименование в редакции Федерального закона от 28.11.2018 No 452-ФЗ) 1.\\nПредседатель ВЭБ.РФ является единоличным исполнительным органом ВЭБ.РФ и осуществляет руководство его текущей деятельностью.\\n(В редакции Федерального закона от 28.11.2018 No 452-ФЗ)2.\\nПредседатель ВЭБ.РФ назначается на должность и освобождается от должности Президентом Российской Федерации.\\nПредседатель ВЭБ.РФ назначается на должность по представлению Председателя Правительства Российской Федерации на срок не более пяти лет.\\nКандидатура нового председателя ВЭБ.РФ представляется Президенту Российской Федерации за один месяц до дня истечения срока полномочий действующего председателя ВЭБ.РФ.\\n(В редакции Федерального закона от 28.11.2018 No 452-ФЗ)3.\\nВ случае отклонения Президентом Российской Федерации кандидатуры председателя ВЭБ.РФ председатель наблюдательного совета ВЭБ.РФ в пятнадцатидневный срок представляет Президенту Российской Федерации иную кандидатуру председателя ВЭБ.РФ.\\n(В редакции Федерального закона от 28.11.2018 No 452-ФЗ)4.\\nПредседатель ВЭБ.РФ несет ответственность за свои действия (бездействие) в соответствии с законодательством Российской Федерации и положением об исполнительных органах управления ВЭБ.РФ.\\n(В редакции федеральных законов от 29.12.2017 No 454-ФЗ; от 28.11.2018 No 452-ФЗ)5.\\nПолномочия председателя ВЭБ.РФ могут быть прекращены досрочно Президентом Российской Федерации.\\nВ месячный срок со дня досрочного прекращения полномочий председателя ВЭБ.РФ председатель наблюдательного совета ВЭБ.РФ представляет Президенту Российской Федерации кандидатуру председателя ВЭБ.РФ в порядке, установленном настоящей статьей.\\n(В редакции Федерального закона от 28.11.2018 No 452-ФЗ)6.\\nПредседатель ВЭБ.РФ имеет заместителей, которые работают во ВЭБ.РФ на постоянной основе и могут совмещать должности членов правления ВЭБ.РФ.\\n(Дополнение частью - Федеральный закон от 29.12.2017 No 454-ФЗ) (В редакции Федерального закона от 28.11.2018 No 452-ФЗ) Статья 16.',\n",
       " '(В редакции Федерального закона от 28.11.2018 No 452-ФЗ)6.\\nПредседатель ВЭБ.РФ имеет заместителей, которые работают во ВЭБ.РФ на постоянной основе и могут совмещать должности членов правления ВЭБ.РФ.\\n(Дополнение частью - Федеральный закон от 29.12.2017 No 454-ФЗ) (В редакции Федерального закона от 28.11.2018 No 452-ФЗ) Статья 16.\\nПолномочия председателя ВЭБ.РФ (Наименование в редакции Федерального закона от 28.11.2018 No 452-ФЗ) Председатель ВЭБ.РФ: (В редакции Федерального закона от 28.11.2018 No 452-ФЗ)1) действует от имени ВЭБ.РФ и представляет без доверенности интересы ВЭБ.РФ в отношениях с органами государственной власти, органами местного самоуправления, организациями иностранных государств и международными организациями, другими организациями; (В редакции Федерального закона от 28.11.2018 No 452-ФЗ)2) возглавляет правление ВЭБ.РФ и организует реализацию решений наблюдательного совета ВЭБ.РФ и правления ВЭБ.РФ; (В редакции Федерального закона от 28.11.2018 No 452-ФЗ)3) издает приказы и распоряжения по вопросам деятельности ВЭБ.РФ; (В редакции Федерального закона от 28.11.2018 No 452-ФЗ)4) утверждает организационную структуру и штатное расписание ВЭБ.РФ, определяет служебные права и обязанности работников ВЭБ.РФ; (В редакции федеральных законов от 28.11.2018 No 452-ФЗ, от 31.07.2020 No 292-ФЗ)5) назначает на должность своих заместителей, а также освобождает их от должности;6) распределяет обязанности между своими заместителями и иными работниками ВЭБ.РФ; (В редакции Федерального закона от 28.11.2018 No 452-ФЗ)7) представляет наблюдательному совету ВЭБ.РФ предложения о назначении на должность и об освобождении от должности членов правления ВЭБ.РФ; (В редакции Федерального закона от 28.11.2018 No 452-ФЗ)8) принимает на работу и увольняет работников ВЭБ.РФ, заключает, изменяет и расторгает трудовые договоры с ними в соответствии с трудовым законодательством и иными нормативными правовыми актами, содержащими нормы трудового права, а также определяет иных должностных лиц ВЭБ.РФ, уполномоченных на осуществление прав и обязанностей работодателя; (В редакции Федерального закона от 28.11.2018 No 452-ФЗ)9) выдает доверенности;10) утверждает решения о выпуске (дополнительном выпуске) эмиссионных ценных бумаг, за исключением решений об утверждении программы облигаций;11) принимает решения по иным вопросам, отнесенным к компетенции ВЭБ.РФ, за исключением вопросов, отнесенных к компетенции наблюдательного совета ВЭБ.РФ и его правления.',\n",
       " '(Дополнение частью - Федеральный закон от 29.12.2017 No 454-ФЗ) (В редакции Федерального закона от 28.11.2018 No 452-ФЗ)22.\\nЧлены правления ВЭБ.РФ, председатель ВЭБ.РФ и его заместители, руководитель службы внутреннего контроля ВЭБ.РФ должны соответствовать требованиям, предъявляемым к указанным лицам в соответствии с Федеральным законом от 22 апреля 1996 года No 39-ФЗ \"О рынке ценных бумаг\".\\nПри этом не требуется согласование с Банком России кандидатов на указанные должности.\\n(Дополнение частью - Федеральный закон от 29.12.2017 No 454-ФЗ) (В редакции Федерального закона от 28.11.2018 No 452-ФЗ)23.\\nУтверждение и подписание документов, принятие решений, предусмотренных Федеральным законом от 22 апреля 1996 года No 39-ФЗ \"О рынке ценных бумаг\" и принятыми в соответствии с указанным Федеральным законом нормативными актами Центрального банка Российской Федерации, в рамках процедуры эмиссии и обращения эмиссионных ценных бумаг, за исключением документов и решений, утверждение, подписание или принятие которых отнесено к полномочиям наблюдательного совета или правления ВЭБ.РФ, осуществляются председателем ВЭБ.РФ или уполномоченными им работниками ВЭБ.РФ.\\n(Дополнение частью - Федеральный закон от 29.12.2017 No 454-ФЗ) (В редакции федеральных законов от 28.11.2018 No 452-ФЗ, от 31.07.2020 No 292-ФЗ)3.\\nНа ВЭБ.РФ не распространяются положения законодательства о банках и банковской деятельности, регулирующие порядок: (В редакции Федерального закона от 28.11.2018 No 452-ФЗ)1) государственной регистрации кредитных организаций и выдачи им лицензий на осуществление банковских операций;2) ликвидации или реорганизации кредитных организаций;3) предоставления информации о деятельности кредитных организаций;4) осуществления отдельных видов банковских операций и сделок в случае противоречия порядка, установленного законодательством о банках и банковской деятельности, настоящему Федеральному закону;5) обеспечения требований устойчивости и финансовой надежности кредитных организаций, соблюдения иных обязательных требований и нормативов.4.\\nК отношениям, возникающим при осуществлении ВЭБ.РФ возложенных на него настоящим Федеральным законом функций, применяются положения Гражданского кодекса Российской Федерации и принятых в соответствии с ним иных федеральных законов, а также Федерального закона от 7 августа 2001 года No 115-ФЗ \"О противодействии легализации (отмыванию) доходов, полученных преступным путем, и финансированию терроризма\", установленные для кредитных организаций.']"
      ]
     },
     "execution_count": 115,
     "metadata": {},
     "output_type": "execute_result"
    }
   ],
   "source": [
    "reranked_texts"
   ]
  },
  {
   "cell_type": "code",
   "execution_count": null,
   "id": "e6c3dbed-3831-441a-8683-489254b25d59",
   "metadata": {},
   "outputs": [],
   "source": []
  }
 ],
 "metadata": {
  "kernelspec": {
   "display_name": "DataSphere Kernel",
   "language": "python",
   "name": "python3"
  },
  "language_info": {
   "codemirror_mode": {
    "name": "ipython",
    "version": 3
   },
   "file_extension": ".py",
   "mimetype": "text/x-python",
   "name": "python",
   "nbconvert_exporter": "python",
   "pygments_lexer": "ipython3",
   "version": "3.7.7"
  }
 },
 "nbformat": 4,
 "nbformat_minor": 5
}
